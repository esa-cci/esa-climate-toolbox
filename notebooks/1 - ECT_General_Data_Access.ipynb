{
 "cells": [
  {
   "cell_type": "markdown",
   "metadata": {},
   "source": [
    "## ESA CCI Toolbox Data Access\n",
    "\n",
    "The aim of this notebook is to show how to query for all the data sets provided by the ESA CCI Toolbox.\n",
    "To run this Notebook, make sure the ESA CCI Toolbox is setup correctly."
   ]
  },
  {
   "cell_type": "markdown",
   "metadata": {},
   "source": [
    "The ESA CCI Toolbox is based on xcube. It provides dedicated stores to access data from the ESA Open Data Portal (ODP). To access the store, we need only the following import."
   ]
  },
  {
   "cell_type": "code",
   "execution_count": 1,
   "metadata": {},
   "outputs": [],
   "source": [
    "from xcube.core.store import new_data_store"
   ]
  },
  {
   "cell_type": "markdown",
   "metadata": {},
   "source": [
    "Now we can acces the ESA Open Data Portal store. We may request it either by 'esa-climate-data-centre' or its short form, 'esa-cdc'."
   ]
  },
  {
   "cell_type": "code",
   "execution_count": 2,
   "metadata": {},
   "outputs": [],
   "source": [
    "odp_store = new_data_store('esa-climate-data-centre')"
   ]
  },
  {
   "cell_type": "markdown",
   "metadata": {},
   "source": [
    "We can check what types of data it provides."
   ]
  },
  {
   "cell_type": "code",
   "execution_count": 3,
   "metadata": {},
   "outputs": [
    {
     "data": {
      "text/plain": [
       "('dataset',)"
      ]
     },
     "execution_count": 3,
     "metadata": {},
     "output_type": "execute_result"
    }
   ],
   "source": [
    "odp_store.get_data_types()"
   ]
  },
  {
   "cell_type": "markdown",
   "metadata": {},
   "source": [
    "All provided data are datasets. So, let's have a look what data sets are available. "
   ]
  },
  {
   "cell_type": "code",
   "execution_count": 4,
   "metadata": {},
   "outputs": [
    {
     "data": {
      "text/plain": [
       "['esacci.AEROSOL.5-days.L3C.AEX.GOMOS.Envisat.AERGOM.3-00.r1',\n",
       " 'esacci.AEROSOL.climatology.L3.AAI.multi-sensor.multi-platform.MSAAI.1-7.r1',\n",
       " 'esacci.AEROSOL.day.L3.AAI.multi-sensor.multi-platform.MSAAI.1-7.r1',\n",
       " 'esacci.AEROSOL.day.L3C.AER_PRODUCTS.AATSR.Envisat.ADV.2-31.r1',\n",
       " 'esacci.AEROSOL.day.L3C.AER_PRODUCTS.AATSR.Envisat.ORAC.04-01-.r1',\n",
       " 'esacci.AEROSOL.day.L3C.AER_PRODUCTS.AATSR.Envisat.ORAC.04-01_seg-.r1',\n",
       " 'esacci.AEROSOL.day.L3C.AER_PRODUCTS.AATSR.Envisat.SU.4-3.r1',\n",
       " 'esacci.AEROSOL.day.L3C.AER_PRODUCTS.ATSR-2.ERS-2.ADV.2-31.r1',\n",
       " 'esacci.AEROSOL.day.L3C.AER_PRODUCTS.ATSR-2.ERS-2.ORAC.04-01-.r1',\n",
       " 'esacci.AEROSOL.day.L3C.AER_PRODUCTS.ATSR-2.ERS-2.ORAC.04-01_seg-.r1',\n",
       " 'esacci.AEROSOL.day.L3C.AER_PRODUCTS.ATSR-2.ERS-2.SU.4-3.r1',\n",
       " 'esacci.AEROSOL.day.L3C.AER_PRODUCTS.multi-sensor.multi-platform.AATSR-ENVISAT-ENS_DAILY.v2-6.r1',\n",
       " 'esacci.AEROSOL.day.L3C.AER_PRODUCTS.multi-sensor.multi-platform.ATSR2-ENVISAT-ENS_DAILY.v2-6.r1',\n",
       " 'esacci.AEROSOL.day.L3C.AOD.MERIS.Envisat.MERIS_ENVISAT.2-2.r1',\n",
       " 'esacci.AEROSOL.mon.L3.AAI.multi-sensor.multi-platform.MSAAI.1-7.r1',\n",
       " 'esacci.AEROSOL.mon.L3C.AER_PRODUCTS.AATSR.Envisat.ADV.2-31.r1',\n",
       " 'esacci.AEROSOL.mon.L3C.AER_PRODUCTS.AATSR.Envisat.ORAC.04-01-.r1',\n",
       " 'esacci.AEROSOL.mon.L3C.AER_PRODUCTS.AATSR.Envisat.ORAC.04-01_seg-.r1',\n",
       " 'esacci.AEROSOL.mon.L3C.AER_PRODUCTS.AATSR.Envisat.SU.4-3.r1',\n",
       " 'esacci.AEROSOL.mon.L3C.AER_PRODUCTS.ATSR-2.ERS-2.ADV.2-31.r1',\n",
       " 'esacci.AEROSOL.mon.L3C.AER_PRODUCTS.ATSR-2.ERS-2.ORAC.04-01-.r1',\n",
       " 'esacci.AEROSOL.mon.L3C.AER_PRODUCTS.ATSR-2.ERS-2.ORAC.04-01_seg-.r1',\n",
       " 'esacci.AEROSOL.mon.L3C.AER_PRODUCTS.multi-sensor.multi-platform.AATSR-ENVISAT-ENS_MONTHLY.v2-6.r1',\n",
       " 'esacci.AEROSOL.mon.L3C.AER_PRODUCTS.multi-sensor.multi-platform.ATSR2-ENVISAT-ENS_MONTHLY.v2-6.r1',\n",
       " 'esacci.AEROSOL.mon.L3C.AOD.MERIS.Envisat.MERIS_ENVISAT.2-2.r1',\n",
       " 'esacci.AEROSOL.satellite-orbit-frequency.L2P.AER_PRODUCTS.AATSR.Envisat.AATSR-ENVISAT-ENS.v2-6.r1',\n",
       " 'esacci.AEROSOL.satellite-orbit-frequency.L2P.AER_PRODUCTS.AATSR.Envisat.ADV.2-31.r1',\n",
       " 'esacci.AEROSOL.satellite-orbit-frequency.L2P.AER_PRODUCTS.AATSR.Envisat.ORAC.04-01.r1',\n",
       " 'esacci.AEROSOL.satellite-orbit-frequency.L2P.AER_PRODUCTS.AATSR.Envisat.SU.4-3.r1',\n",
       " 'esacci.AEROSOL.satellite-orbit-frequency.L2P.AER_PRODUCTS.ATSR-2.ERS-2.ADV.2-31.r1',\n",
       " 'esacci.AEROSOL.satellite-orbit-frequency.L2P.AER_PRODUCTS.ATSR-2.ERS-2.ORAC.04-01.r1',\n",
       " 'esacci.AEROSOL.satellite-orbit-frequency.L2P.AER_PRODUCTS.ATSR-2.ERS-2.SU.4-3.r1',\n",
       " 'esacci.AEROSOL.satellite-orbit-frequency.L2P.AER_PRODUCTS.multi-sensor.multi-platform.ATSR2-ENVISAT-ENS.v2-6.r1',\n",
       " 'esacci.AEROSOL.satellite-orbit-frequency.L2P.AOD.MERIS.Envisat.MERIS_ENVISAT.2-2.r1',\n",
       " 'esacci.AEROSOL.yr.L3C.AER_PRODUCTS.AATSR.Envisat.AATSR-ENVISAT-ENS_ANNUAL.v2-6.r1',\n",
       " 'esacci.AEROSOL.yr.L3C.AER_PRODUCTS.ATSR-2.Envisat.ATSR2-ENVISAT-ENS_ANNUAL.v2-6.r1',\n",
       " 'esacci.BIOMASS.yr.L4.AGB.multi-sensor.multi-platform.CHANGE.4-0.r1',\n",
       " 'esacci.BIOMASS.yr.L4.AGB.multi-sensor.multi-platform.MERGED.2-0.r1',\n",
       " 'esacci.BIOMASS.yr.L4.AGB.multi-sensor.multi-platform.MERGED.3-0.r1',\n",
       " 'esacci.BIOMASS.yr.L4.AGB.multi-sensor.multi-platform.MERGED.4-0.r1',\n",
       " 'esacci.CLOUD.mon.L3C.CLD_PRODUCTS.MODIS.Aqua.MODIS_AQUA.2-0.r1',\n",
       " 'esacci.CLOUD.mon.L3C.CLD_PRODUCTS.MODIS.Terra.MODIS_TERRA.2-0.r1',\n",
       " 'esacci.CLOUD.mon.L3C.CLD_PRODUCTS.multi-sensor.multi-platform.ATSR2-AATSR.3-0.r1',\n",
       " 'esacci.CLOUD.mon.L3C.CLD_PRODUCTS.multi-sensor.multi-platform.AVHRR-AM.3-0.r1',\n",
       " 'esacci.CLOUD.mon.L3C.CLD_PRODUCTS.multi-sensor.multi-platform.AVHRR-PM.3-0.r1',\n",
       " 'esacci.CLOUD.mon.L3C.CLD_PRODUCTS.multi-sensor.multi-platform.MERIS-AATSR.2-0.r1',\n",
       " 'esacci.FIRE.mon.L3S.BA.MODIS.Terra.MODIS_TERRA.v5-1.pixel',\n",
       " 'esacci.FIRE.mon.L3S.BA.MSI-(Sentinel-2).Sentinel-2A.MSI.2-0.pixel',\n",
       " 'esacci.FIRE.mon.L3S.BA.MSI-(Sentinel-2).Sentinel-2A.MSI.v1-1.pixel',\n",
       " 'esacci.FIRE.mon.L3S.BA.multi-sensor.multi-platform.SYN.v1-0.pixel',\n",
       " 'esacci.FIRE.mon.L4.BA.MODIS.Terra.MODIS_TERRA.v5-1.grid',\n",
       " 'esacci.FIRE.mon.L4.BA.MSI-(Sentinel-2).Sentinel-2A.MSI.2-0.grid',\n",
       " 'esacci.FIRE.mon.L4.BA.MSI-(Sentinel-2).Sentinel-2A.MSI.v1-1.grid',\n",
       " 'esacci.FIRE.mon.L4.BA.multi-sensor.multi-platform.SYN.v1-0.grid',\n",
       " 'esacci.GHG.satellite-orbit-frequency.L2.CH4.SCIAMACHY.Envisat.IMAP.v7-2.r1',\n",
       " 'esacci.GHG.satellite-orbit-frequency.L2.CH4.SCIAMACHY.Envisat.WFMD.v4-0.r1',\n",
       " 'esacci.GHG.satellite-orbit-frequency.L2.CH4.TANSO-FTS-2.GOSAT-2.SRFP.v2-0-0.r1',\n",
       " 'esacci.GHG.satellite-orbit-frequency.L2.CH4.TANSO-FTS-2.GOSAT-2.SRPR.v2-0-0.r1',\n",
       " 'esacci.GHG.satellite-orbit-frequency.L2.CH4.TANSO-FTS.GOSAT.EMMA.ch4_v1-2.r1',\n",
       " 'esacci.GHG.satellite-orbit-frequency.L2.CH4.TANSO-FTS.GOSAT.OCFP.v2-1.r1',\n",
       " 'esacci.GHG.satellite-orbit-frequency.L2.CH4.TANSO-FTS.GOSAT.OCPR.v7-0.r1',\n",
       " 'esacci.GHG.satellite-orbit-frequency.L2.CH4.TANSO-FTS.GOSAT.SRFP.v2-3-8.r1',\n",
       " 'esacci.GHG.satellite-orbit-frequency.L2.CH4.TANSO-FTS.GOSAT.SRPR.v2-3-8.r1',\n",
       " 'esacci.GHG.satellite-orbit-frequency.L2.CO2.OCO.OCO-2.FOCAL.v10.r1',\n",
       " 'esacci.GHG.satellite-orbit-frequency.L2.CO2.SCIAMACHY.Envisat.BESD.v02-01-02.r1',\n",
       " 'esacci.GHG.satellite-orbit-frequency.L2.CO2.SCIAMACHY.Envisat.WFMD.v4-0.r1',\n",
       " 'esacci.GHG.satellite-orbit-frequency.L2.CO2.TANSO-FTS-2.GOSAT-2.SRFP.v2-0-0.r1',\n",
       " 'esacci.GHG.satellite-orbit-frequency.L2.CO2.TANSO-FTS.GOSAT.EMMA.v2-2c.r1',\n",
       " 'esacci.GHG.satellite-orbit-frequency.L2.CO2.TANSO-FTS.GOSAT.OCFP.v7-0-1.r1',\n",
       " 'esacci.GHG.satellite-orbit-frequency.L2.CO2.TANSO-FTS.GOSAT.SRFP.v2-3-8.r1',\n",
       " 'esacci.GHG.satellite-orbit-frequency.L2.CO2.multi-sensor.multi-platform.EMMA.v2-2a.r1',\n",
       " 'esacci.GHG.satellite-orbit-frequency.L2.CO2.multi-sensor.multi-platform.EMMA.v2-2b.r1',\n",
       " 'esacci.ICESHEETS.mon.IND.GMB.GRACE-instrument.GRACE.VARIOUS.1-3.greenland_gmb_time_series',\n",
       " 'esacci.ICESHEETS.unspecified.L4.IV.SAR-C-(Sentinel-1).multi-platform.UNSPECIFIED.1-1.greenland_s1_250m_20150610_20170321_Helheim',\n",
       " 'esacci.ICESHEETS.unspecified.L4.SEC.multi-sensor.multi-platform.UNSPECIFIED.0-1.greenland_sec_saral_altika',\n",
       " 'esacci.ICESHEETS.unspecified.Unspecified.CFL.multi-sensor.multi-platform.UNSPECIFIED.v3-0.greenland',\n",
       " 'esacci.ICESHEETS.unspecified.Unspecified.GLL.multi-sensor.multi-platform.UNSPECIFIED.v1-3.greenland',\n",
       " 'esacci.ICESHEETS.unspecified.Unspecified.IV.AMI-SAR.ERS-1.UNSPECIFIED.1-1.greenland_northern_drainage_basin_winter_1991_1992',\n",
       " 'esacci.ICESHEETS.unspecified.Unspecified.IV.AMI-SAR.ERS-2.UNSPECIFIED.1-1.greenland_margin_1995_1996',\n",
       " 'esacci.ICESHEETS.unspecified.Unspecified.IV.MSI-(Sentinel-2).Sentinel-2A.UNSPECIFIED.1-0.greenland_s2_50m_20160508_20160518_docker_smith',\n",
       " 'esacci.ICESHEETS.unspecified.Unspecified.IV.MSI-(Sentinel-2).multi-platform.UNSPECIFIED.1-1.greenland_s2_50m_seasonal_20170501_20170829_Helheim',\n",
       " 'esacci.ICESHEETS.unspecified.Unspecified.IV.MSI-(Sentinel-2).multi-platform.UNSPECIFIED.1-1.greenland_s2_50m_seasonal_20170501_20170914_Petermann',\n",
       " 'esacci.ICESHEETS.unspecified.Unspecified.IV.MSI-(Sentinel-2).multi-platform.UNSPECIFIED.1-1.greenland_s2_50m_seasonal_20170603_20170908_Jakobshavn',\n",
       " 'esacci.ICESHEETS.unspecified.Unspecified.IV.MSI-(Sentinel-2).multi-platform.UNSPECIFIED.1-1.greenland_s2_50m_seasonal_20170625_20170810_79Fjord',\n",
       " 'esacci.ICESHEETS.unspecified.Unspecified.IV.MSI-(Sentinel-2).multi-platform.UNSPECIFIED.1-1.greenland_s2_50m_seasonal_20170625_20170810_Zachariae',\n",
       " 'esacci.ICESHEETS.unspecified.Unspecified.IV.MSI-(Sentinel-2).multi-platform.UNSPECIFIED.1-1.greenland_s2_50m_seasonal_20170630_20170814_Hagen',\n",
       " 'esacci.ICESHEETS.unspecified.Unspecified.IV.MSI-(Sentinel-2).multi-platform.UNSPECIFIED.1-1.greenland_s2_50m_seasonal_20170715_20170814_Upernavik',\n",
       " 'esacci.ICESHEETS.unspecified.Unspecified.IV.MSI-(Sentinel-2).multi-platform.UNSPECIFIED.1-1.greenland_s2_50m_seasonal_20170721_20170820_Kangerdlugssuaq',\n",
       " 'esacci.ICESHEETS.unspecified.Unspecified.IV.MSI-(Sentinel-2).multi-platform.UNSPECIFIED.1-1.greenland_s2_50m_timeseries_20170501_20170829_Helheim',\n",
       " 'esacci.ICESHEETS.unspecified.Unspecified.IV.MSI-(Sentinel-2).multi-platform.UNSPECIFIED.1-1.greenland_s2_50m_timeseries_20170501_20170914_Petermann',\n",
       " 'esacci.ICESHEETS.unspecified.Unspecified.IV.MSI-(Sentinel-2).multi-platform.UNSPECIFIED.1-1.greenland_s2_50m_timeseries_20170603_20170908_Jakobshavn',\n",
       " 'esacci.ICESHEETS.unspecified.Unspecified.IV.MSI-(Sentinel-2).multi-platform.UNSPECIFIED.1-1.greenland_s2_50m_timeseries_20170625_20170810_79Fjord',\n",
       " 'esacci.ICESHEETS.unspecified.Unspecified.IV.MSI-(Sentinel-2).multi-platform.UNSPECIFIED.1-1.greenland_s2_50m_timeseries_20170625_20170810_Zachariae',\n",
       " 'esacci.ICESHEETS.unspecified.Unspecified.IV.MSI-(Sentinel-2).multi-platform.UNSPECIFIED.1-1.greenland_s2_50m_timeseries_20170630_20170814_Hagen',\n",
       " 'esacci.ICESHEETS.unspecified.Unspecified.IV.MSI-(Sentinel-2).multi-platform.UNSPECIFIED.1-1.greenland_s2_50m_timeseries_20170715_20170814_Upernavik',\n",
       " 'esacci.ICESHEETS.unspecified.Unspecified.IV.MSI-(Sentinel-2).multi-platform.UNSPECIFIED.1-1.greenland_s2_50m_timeseries_20170721_20170820_Kangerdlugssuaq',\n",
       " 'esacci.ICESHEETS.unspecified.Unspecified.IV.SAR-(RadarSat-2).RadarSat-2.UNSPECIFIED.1-0.greenland_map_winter_2013_2014',\n",
       " 'esacci.ICESHEETS.unspecified.Unspecified.IV.SAR-2000.multi-platform.UNSPECIFIED.1-0.greenland_csk_250m_timeseries_20120604_20141223_Jakobshavn',\n",
       " 'esacci.ICESHEETS.unspecified.Unspecified.IV.SAR-C-(Sentinel-1).Sentinel-1A.UNSPECIFIED.1-0.greenland_map_winter_2014_2015',\n",
       " 'esacci.ICESHEETS.unspecified.Unspecified.IV.SAR-C-(Sentinel-1).Sentinel-1A.UNSPECIFIED.1-2.greenland_map_winter_2015_2016',\n",
       " 'esacci.ICESHEETS.unspecified.Unspecified.IV.SAR-C-(Sentinel-1).multi-platform.UNSPECIFIED.1-0.greenland_map_winter_2016_2017',\n",
       " 'esacci.ICESHEETS.unspecified.Unspecified.IV.SAR-C-(Sentinel-1).multi-platform.UNSPECIFIED.1-0.greenland_map_winter_2017_2018',\n",
       " 'esacci.ICESHEETS.unspecified.Unspecified.IV.SAR-C-(Sentinel-1).multi-platform.UNSPECIFIED.1-1.greenland_s1_250m_20141010_20170317_Upernavik',\n",
       " 'esacci.ICESHEETS.unspecified.Unspecified.IV.SAR-C-(Sentinel-1).multi-platform.UNSPECIFIED.1-1.greenland_s1_250m_20141011_20170317_20150122_20170322_Hagen',\n",
       " 'esacci.ICESHEETS.unspecified.Unspecified.IV.SAR-C-(Sentinel-1).multi-platform.UNSPECIFIED.1-1.greenland_s1_250m_20141011_20170317_Jakobshavn',\n",
       " 'esacci.ICESHEETS.unspecified.Unspecified.IV.SAR-C-(Sentinel-1).multi-platform.UNSPECIFIED.1-1.greenland_s1_250m_20150118_20170321_Kangerlussuaq',\n",
       " 'esacci.ICESHEETS.unspecified.Unspecified.IV.SAR-C-(Sentinel-1).multi-platform.UNSPECIFIED.1-1.greenland_s1_250m_20150122_20170319_Petermann',\n",
       " 'esacci.ICESHEETS.unspecified.Unspecified.IV.SAR-C-(Sentinel-1).multi-platform.UNSPECIFIED.1-1.greenland_s1_250m_20150122_20170322_79-Fjord',\n",
       " 'esacci.ICESHEETS.unspecified.Unspecified.IV.SAR-C-(Sentinel-1).multi-platform.UNSPECIFIED.1-1.greenland_s1_250m_20150124_20170322_Storstroemmen',\n",
       " 'esacci.ICESHEETS.unspecified.Unspecified.IV.SAR-C-(Sentinel-1).multi-platform.UNSPECIFIED.1-1.greenland_s1_250m_20150126_20170322_Zachariae',\n",
       " 'esacci.ICESHEETS.unspecified.Unspecified.IV.multi-sensor.multi-platform.UNSPECIFIED.1-0.greenland_timeseries_Kangerlussuaq',\n",
       " 'esacci.ICESHEETS.unspecified.Unspecified.IV.multi-sensor.multi-platform.UNSPECIFIED.1-1.greenland_timeseries_2002_2010_Jakobshavn',\n",
       " 'esacci.ICESHEETS.unspecified.Unspecified.IV.multi-sensor.multi-platform.UNSPECIFIED.1-1.greenland_timeseries_Hagen',\n",
       " 'esacci.ICESHEETS.unspecified.Unspecified.IV.multi-sensor.multi-platform.UNSPECIFIED.1-1.greenland_timeseries_Helheim',\n",
       " 'esacci.ICESHEETS.unspecified.Unspecified.IV.multi-sensor.multi-platform.UNSPECIFIED.1-1.greenland_timeseries_Petermann',\n",
       " 'esacci.ICESHEETS.unspecified.Unspecified.IV.multi-sensor.multi-platform.UNSPECIFIED.1-1.greenland_timeseries_Storstrommen',\n",
       " 'esacci.ICESHEETS.unspecified.Unspecified.IV.multi-sensor.multi-platform.UNSPECIFIED.1-1.greenland_timeseries_Zachariae_79Fjord',\n",
       " 'esacci.ICESHEETS.unspecified.Unspecified.IV.multi-sensor.multi-platform.UNSPECIFIED.1-2.greenland_timeseries_1992_2010_Jakobshavn',\n",
       " 'esacci.ICESHEETS.unspecified.Unspecified.IV.multi-sensor.multi-platform.UNSPECIFIED.1-2.greenland_timeseries_Upernarvik',\n",
       " 'esacci.ICESHEETS.yr.Unspecified.GMB.GRACE-instrument.GRACE.UNSPECIFIED.1-2.greenland_gmb_mass_trends',\n",
       " 'esacci.ICESHEETS.yr.Unspecified.GMB.GRACE-instrument.GRACE.UNSPECIFIED.1-2.greenland_gmb_timeseries',\n",
       " 'esacci.ICESHEETS.yr.Unspecified.GMB.GRACE-instrument.GRACE.UNSPECIFIED.1-3.greenland_gmb_mass_trends',\n",
       " 'esacci.ICESHEETS.yr.Unspecified.GMB.GRACE-instrument.GRACE.UNSPECIFIED.1-4.greenland_gmb_mass_trends',\n",
       " 'esacci.ICESHEETS.yr.Unspecified.GMB.GRACE-instrument.GRACE.UNSPECIFIED.1-4.greenland_gmb_time_series',\n",
       " 'esacci.ICESHEETS.yr.Unspecified.GMB.GRACE-instrument.GRACE.UNSPECIFIED.1-5.greenland_gmb_mass_trends',\n",
       " 'esacci.ICESHEETS.yr.Unspecified.GMB.GRACE-instrument.GRACE.UNSPECIFIED.1-5.greenland_gmb_time_series',\n",
       " 'esacci.ICESHEETS.yr.Unspecified.IV.PALSAR.ALOS.UNSPECIFIED.1-1.greenland_margin_2006_2011',\n",
       " 'esacci.ICESHEETS.yr.Unspecified.SEC.SIRAL.CryoSat-2.UNSPECIFIED.2-2.greenland_sec_cryosat_2yr',\n",
       " 'esacci.ICESHEETS.yr.Unspecified.SEC.SIRAL.CryoSat-2.UNSPECIFIED.2-2.greenland_sec_cryosat_5yr',\n",
       " 'esacci.ICESHEETS.yr.Unspecified.SEC.multi-sensor.multi-platform.UNSPECIFIED.1-2.r1',\n",
       " 'esacci.LAKES.day.L3S.LK_PRODUCTS.multi-sensor.multi-platform.MERGED.v1-0.r1',\n",
       " 'esacci.LAKES.day.L3S.LK_PRODUCTS.multi-sensor.multi-platform.MERGED.v1-1.r1',\n",
       " 'esacci.LAKES.day.L3S.LK_PRODUCTS.multi-sensor.multi-platform.MERGED.v2-0-2.r1',\n",
       " 'esacci.LC.13-yrs.L4.WB.ASAR.Envisat.Map.4-0.r1',\n",
       " 'esacci.LC.yr.L4.LCCS.multi-sensor.multi-platform.Map.2-0-7.r1',\n",
       " 'esacci.LC.yr.L4.PFT.Unspecified.Unspecified.Map.2-0-8.r1',\n",
       " 'esacci.LST.3-hours.L3S.LST.multi-sensor.multi-platform.IRMGP.1-00.r1',\n",
       " 'esacci.LST.day.L3C.LST.AATSR.Envisat.ATSR_3.3-00.DAY',\n",
       " 'esacci.LST.day.L3C.LST.AATSR.Envisat.ATSR_3.3-00.NIGHT',\n",
       " 'esacci.LST.day.L3C.LST.ATSR-2.ERS-2.ATSR_2.3-00.DAY',\n",
       " 'esacci.LST.day.L3C.LST.ATSR-2.ERS-2.ATSR_2.3-00.NIGHT',\n",
       " 'esacci.LST.day.L3C.LST.MODIS.Aqua.MODISA.3-00.DAY',\n",
       " 'esacci.LST.day.L3C.LST.MODIS.Aqua.MODISA.3-00.NIGHT',\n",
       " 'esacci.LST.day.L3C.LST.MODIS.Terra.MODIST.3-00.DAY',\n",
       " 'esacci.LST.day.L3C.LST.MODIS.Terra.MODIST.3-00.NIGHT',\n",
       " 'esacci.LST.day.L3C.LST.SLSTR.Sentinel-3A.SLSTRA.3-00.DAY',\n",
       " 'esacci.LST.day.L3C.LST.SLSTR.Sentinel-3A.SLSTRA.3-00.NIGHT',\n",
       " 'esacci.LST.day.L3C.LST.SLSTR.Sentinel-3B.SLSTRB.3-00.DAY',\n",
       " 'esacci.LST.day.L3C.LST.SLSTR.Sentinel-3B.SLSTRB.3-00.NIGHT',\n",
       " 'esacci.LST.day.L3C.LST.multi-sensor.multi-platform.SSMI_SSMIS.v2-33.ASC',\n",
       " 'esacci.LST.day.L3C.LST.multi-sensor.multi-platform.SSMI_SSMIS.v2-33.DES',\n",
       " 'esacci.LST.day.L3S.LST.multi-sensor.multi-platform.IRCDR.2-00.DAY',\n",
       " 'esacci.LST.day.L3S.LST.multi-sensor.multi-platform.IRCDR.2-00.NIGHT',\n",
       " 'esacci.LST.mon.L3C.LST.AATSR.Envisat.ATSR_3.3-00.DAY',\n",
       " 'esacci.LST.mon.L3C.LST.AATSR.Envisat.ATSR_3.3-00.NIGHT',\n",
       " 'esacci.LST.mon.L3C.LST.ATSR-2.ERS-2.ATSR_2.3-00.DAY',\n",
       " 'esacci.LST.mon.L3C.LST.ATSR-2.ERS-2.ATSR_2.3-00.NIGHT',\n",
       " 'esacci.LST.mon.L3C.LST.MODIS.Aqua.MODISA.3-00.DAY',\n",
       " 'esacci.LST.mon.L3C.LST.MODIS.Aqua.MODISA.3-00.NIGHT',\n",
       " 'esacci.LST.mon.L3C.LST.MODIS.Terra.MODIST.3-00.DAY',\n",
       " 'esacci.LST.mon.L3C.LST.MODIS.Terra.MODIST.3-00.NIGHT',\n",
       " 'esacci.LST.mon.L3C.LST.SLSTR.Sentinel-3A.SLSTRA.3-00.DAY',\n",
       " 'esacci.LST.mon.L3C.LST.SLSTR.Sentinel-3A.SLSTRA.3-00.NIGHT',\n",
       " 'esacci.LST.mon.L3C.LST.SLSTR.Sentinel-3B.SLSTRB.3-00.DAY',\n",
       " 'esacci.LST.mon.L3C.LST.SLSTR.Sentinel-3B.SLSTRB.3-00.NIGHT',\n",
       " 'esacci.LST.mon.L3C.LST.multi-sensor.multi-platform.SSMI_SSMIS.v2-33.ASC',\n",
       " 'esacci.LST.mon.L3C.LST.multi-sensor.multi-platform.SSMI_SSMIS.v2-33.DES',\n",
       " 'esacci.LST.mon.L3S.LST.multi-sensor.multi-platform.IRCDR.2-00.DAY',\n",
       " 'esacci.LST.mon.L3S.LST.multi-sensor.multi-platform.IRCDR.2-00.NIGHT',\n",
       " 'esacci.LST.mon.L3S.LST.multi-sensor.multi-platform.IRMGP.1-00.00:00UTC',\n",
       " 'esacci.LST.mon.L3S.LST.multi-sensor.multi-platform.IRMGP.1-00.03:00UTC',\n",
       " 'esacci.LST.mon.L3S.LST.multi-sensor.multi-platform.IRMGP.1-00.06:00UTC',\n",
       " 'esacci.LST.mon.L3S.LST.multi-sensor.multi-platform.IRMGP.1-00.09:00UTC',\n",
       " 'esacci.LST.mon.L3S.LST.multi-sensor.multi-platform.IRMGP.1-00.12:00UTC',\n",
       " 'esacci.LST.mon.L3S.LST.multi-sensor.multi-platform.IRMGP.1-00.15:00UTC',\n",
       " 'esacci.LST.mon.L3S.LST.multi-sensor.multi-platform.IRMGP.1-00.18:00UTC',\n",
       " 'esacci.LST.mon.L3S.LST.multi-sensor.multi-platform.IRMGP.1-00.21:00UTC',\n",
       " 'esacci.LST.yr.L3C.LST.multi-sensor.multi-platform.SSMI_SSMIS.v2-33.ASC',\n",
       " 'esacci.LST.yr.L3C.LST.multi-sensor.multi-platform.SSMI_SSMIS.v2-33.DES',\n",
       " 'esacci.OC.5-days.L3S.CHLOR_A.multi-sensor.multi-platform.MERGED.6-0.geographic',\n",
       " 'esacci.OC.5-days.L3S.CHLOR_A.multi-sensor.multi-platform.MERGED.6-0.sinusoidal',\n",
       " 'esacci.OC.5-days.L3S.IOP.multi-sensor.multi-platform.MERGED.6-0.geographic',\n",
       " 'esacci.OC.5-days.L3S.IOP.multi-sensor.multi-platform.MERGED.6-0.sinusoidal',\n",
       " 'esacci.OC.5-days.L3S.K_490.multi-sensor.multi-platform.MERGED.6-0.geographic',\n",
       " 'esacci.OC.5-days.L3S.K_490.multi-sensor.multi-platform.MERGED.6-0.sinusoidal',\n",
       " 'esacci.OC.5-days.L3S.OC_PRODUCTS.multi-sensor.multi-platform.MERGED.6-0.geographic',\n",
       " 'esacci.OC.5-days.L3S.OC_PRODUCTS.multi-sensor.multi-platform.MERGED.6-0.sinusoidal',\n",
       " 'esacci.OC.5-days.L3S.RRS.multi-sensor.multi-platform.MERGED.6-0.geographic',\n",
       " 'esacci.OC.5-days.L3S.RRS.multi-sensor.multi-platform.MERGED.6-0.sinusoidal',\n",
       " 'esacci.OC.8-days.L3S.CHLOR_A.multi-sensor.multi-platform.MERGED.6-0.geographic',\n",
       " 'esacci.OC.8-days.L3S.CHLOR_A.multi-sensor.multi-platform.MERGED.6-0.sinusoidal',\n",
       " 'esacci.OC.8-days.L3S.IOP.multi-sensor.multi-platform.MERGED.6-0.geographic',\n",
       " 'esacci.OC.8-days.L3S.IOP.multi-sensor.multi-platform.MERGED.6-0.sinusoidal',\n",
       " 'esacci.OC.8-days.L3S.K_490.multi-sensor.multi-platform.MERGED.6-0.geographic',\n",
       " 'esacci.OC.8-days.L3S.K_490.multi-sensor.multi-platform.MERGED.6-0.sinusoidal',\n",
       " 'esacci.OC.8-days.L3S.OC_PRODUCTS.multi-sensor.multi-platform.MERGED.6-0.geographic',\n",
       " 'esacci.OC.8-days.L3S.OC_PRODUCTS.multi-sensor.multi-platform.MERGED.6-0.sinusoidal',\n",
       " 'esacci.OC.8-days.L3S.RRS.multi-sensor.multi-platform.MERGED.6-0.geographic',\n",
       " 'esacci.OC.8-days.L3S.RRS.multi-sensor.multi-platform.MERGED.6-0.sinusoidal',\n",
       " 'esacci.OC.day.L3S.CHLOR_A.multi-sensor.multi-platform.MERGED.6-0.geographic',\n",
       " 'esacci.OC.day.L3S.CHLOR_A.multi-sensor.multi-platform.MERGED.6-0.sinusoidal',\n",
       " 'esacci.OC.day.L3S.IOP.multi-sensor.multi-platform.MERGED.6-0.geographic',\n",
       " 'esacci.OC.day.L3S.IOP.multi-sensor.multi-platform.MERGED.6-0.sinusoidal',\n",
       " 'esacci.OC.day.L3S.K_490.multi-sensor.multi-platform.MERGED.6-0.geographic',\n",
       " 'esacci.OC.day.L3S.K_490.multi-sensor.multi-platform.MERGED.6-0.sinusoidal',\n",
       " 'esacci.OC.day.L3S.OC_PRODUCTS.multi-sensor.multi-platform.MERGED.6-0.geographic',\n",
       " 'esacci.OC.day.L3S.OC_PRODUCTS.multi-sensor.multi-platform.MERGED.6-0.sinusoidal',\n",
       " 'esacci.OC.day.L3S.RRS.multi-sensor.multi-platform.MERGED.6-0.geographic',\n",
       " 'esacci.OC.day.L3S.RRS.multi-sensor.multi-platform.MERGED.6-0.sinusoidal',\n",
       " 'esacci.OC.mon.L3S.CHLOR_A.multi-sensor.multi-platform.MERGED.6-0.geographic',\n",
       " 'esacci.OC.mon.L3S.CHLOR_A.multi-sensor.multi-platform.MERGED.6-0.sinusoidal',\n",
       " 'esacci.OC.mon.L3S.IOP.multi-sensor.multi-platform.MERGED.6-0.geographic',\n",
       " 'esacci.OC.mon.L3S.IOP.multi-sensor.multi-platform.MERGED.6-0.sinusoidal',\n",
       " 'esacci.OC.mon.L3S.K_490.multi-sensor.multi-platform.MERGED.6-0.geographic',\n",
       " 'esacci.OC.mon.L3S.K_490.multi-sensor.multi-platform.MERGED.6-0.sinusoidal',\n",
       " 'esacci.OC.mon.L3S.OC_PRODUCTS.multi-sensor.multi-platform.MERGED.6-0.geographic',\n",
       " 'esacci.OC.mon.L3S.OC_PRODUCTS.multi-sensor.multi-platform.MERGED.6-0.sinusoidal',\n",
       " 'esacci.OC.mon.L3S.RRS.multi-sensor.multi-platform.MERGED.6-0.geographic',\n",
       " 'esacci.OC.mon.L3S.RRS.multi-sensor.multi-platform.MERGED.6-0.sinusoidal',\n",
       " 'esacci.OC.yr.L3S.CHLOR_A.multi-sensor.multi-platform.MERGED.6-0.geographic',\n",
       " 'esacci.OC.yr.L3S.CHLOR_A.multi-sensor.multi-platform.MERGED.6-0.sinusoidal',\n",
       " 'esacci.OC.yr.L3S.IOP.multi-sensor.multi-platform.MERGED.6-0.geographic',\n",
       " 'esacci.OC.yr.L3S.IOP.multi-sensor.multi-platform.MERGED.6-0.sinusoidal',\n",
       " 'esacci.OC.yr.L3S.K_490.multi-sensor.multi-platform.MERGED.6-0.geographic',\n",
       " 'esacci.OC.yr.L3S.K_490.multi-sensor.multi-platform.MERGED.6-0.sinusoidal',\n",
       " 'esacci.OC.yr.L3S.OC_PRODUCTS.multi-sensor.multi-platform.MERGED.6-0.geographic',\n",
       " 'esacci.OC.yr.L3S.OC_PRODUCTS.multi-sensor.multi-platform.MERGED.6-0.sinusoidal',\n",
       " 'esacci.OC.yr.L3S.RRS.multi-sensor.multi-platform.MERGED.6-0.geographic',\n",
       " 'esacci.OC.yr.L3S.RRS.multi-sensor.multi-platform.MERGED.6-0.sinusoidal',\n",
       " 'esacci.OZONE.day.L3S.TC.multi-sensor.multi-platform.MERGED.fv0100.r1',\n",
       " 'esacci.OZONE.mon.L3.LP.GOMOS.Envisat.GOMOS_ENVISAT.v0001.r1',\n",
       " 'esacci.OZONE.mon.L3.LP.MIPAS.Envisat.MIPAS_ENVISAT.v0001.r1',\n",
       " 'esacci.OZONE.mon.L3.LP.OSIRIS.ODIN.OSIRIS_ODIN.v0001.r1',\n",
       " 'esacci.OZONE.mon.L3.LP.SCIAMACHY.Envisat.SCIAMACHY_ENVISAT.v0001.r1',\n",
       " 'esacci.OZONE.mon.L3.LP.SMR.ODIN.MZM.v0001.r1',\n",
       " 'esacci.OZONE.mon.L3.LP.SMR.ODIN.SMR_ODIN.v0001.r1',\n",
       " 'esacci.OZONE.mon.L3.NP.multi-sensor.multi-platform.MERGED.fv0002.r1',\n",
       " 'esacci.PERMAFROST.yr.L4.ALT.multi-sensor.multi-platform.ERA5_MODISLST_BIASCORRECTED.03-0.r1',\n",
       " 'esacci.PERMAFROST.yr.L4.ALT.multi-sensor.multi-platform.MODISLST_CRYOGRID.03-0.r1',\n",
       " 'esacci.PERMAFROST.yr.L4.GTD.multi-sensor.multi-platform.ERA5_MODISLST_BIASCORRECTED.03-0.r1',\n",
       " 'esacci.PERMAFROST.yr.L4.GTD.multi-sensor.multi-platform.MODISLST_CRYOGRID.03-0.r1',\n",
       " 'esacci.PERMAFROST.yr.L4.PFR.multi-sensor.multi-platform.ERA5_MODISLST_BIASCORRECTED.03-0.r1',\n",
       " 'esacci.PERMAFROST.yr.L4.PFR.multi-sensor.multi-platform.MODISLST_CRYOGRID.03-0.r1',\n",
       " 'esacci.SEAICE.day.L3C.SICONC.ESMR-(Nimbus-5).Nimbus-5.NIMBUS5_ESMR-EASE2_NH.1-0.NH',\n",
       " 'esacci.SEAICE.day.L3C.SICONC.ESMR-(Nimbus-5).Nimbus-5.NIMBUS5_ESMR-EASE2_SH.1-0.SH',\n",
       " 'esacci.SEAICE.day.L4.SICONC.multi-sensor.multi-platform.AMSR_25kmEASE2.2-1.NH',\n",
       " 'esacci.SEAICE.day.L4.SICONC.multi-sensor.multi-platform.AMSR_25kmEASE2.2-1.SH',\n",
       " 'esacci.SEAICE.day.L4.SICONC.multi-sensor.multi-platform.AMSR_50kmEASE2.2-1.NH',\n",
       " 'esacci.SEAICE.day.L4.SICONC.multi-sensor.multi-platform.AMSR_50kmEASE2.2-1.SH',\n",
       " 'esacci.SEAICE.day.L4.SICONC.multi-sensor.multi-platform.RE_SSMI_12-5kmEASE2-NH.3-0.NH',\n",
       " 'esacci.SEAICE.day.L4.SICONC.multi-sensor.multi-platform.RE_SSMI_12-5kmEASE2-SH.3-0.SH',\n",
       " 'esacci.SEAICE.mon.L3C.SITHICK.RA-2.Envisat.NH25KMEASE2.2-0.r1',\n",
       " 'esacci.SEAICE.mon.L3C.SITHICK.RA-2.Envisat.SH50KMEASE2.2-0.r1',\n",
       " 'esacci.SEAICE.mon.L3C.SITHICK.SIRAL.CryoSat-2.NH25KMEASE2.2-0.r1',\n",
       " 'esacci.SEAICE.mon.L3C.SITHICK.SIRAL.CryoSat-2.SH50KMEASE2.2-0.r1',\n",
       " 'esacci.SEAICE.satellite-orbit-frequency.L2P.SITHICK.RA-2.Envisat.NH.2-0.r1',\n",
       " 'esacci.SEAICE.satellite-orbit-frequency.L2P.SITHICK.RA-2.Envisat.SH.2-0.r1',\n",
       " 'esacci.SEAICE.satellite-orbit-frequency.L2P.SITHICK.SIRAL.CryoSat-2.NH.2-0.r1',\n",
       " 'esacci.SEAICE.satellite-orbit-frequency.L2P.SITHICK.SIRAL.CryoSat-2.SH.2-0.r1',\n",
       " 'esacci.SEALEVEL.mon.IND.MSL.multi-sensor.multi-platform.MERGED.2-0.r1',\n",
       " 'esacci.SEALEVEL.mon.IND.MSLAMPH.multi-sensor.multi-platform.MERGED.2-0.r1',\n",
       " 'esacci.SEALEVEL.mon.IND.MSLTR.multi-sensor.multi-platform.MERGED.2-0.r1',\n",
       " 'esacci.SEALEVEL.mon.IND.MSLTR.multi-sensor.multi-platform.MERGED.2-2.ASA',\n",
       " 'esacci.SEALEVEL.mon.IND.MSLTR.multi-sensor.multi-platform.MERGED.2-2.BENGUELA',\n",
       " 'esacci.SEALEVEL.mon.IND.MSLTR.multi-sensor.multi-platform.MERGED.2-2.CARIBBEAN',\n",
       " 'esacci.SEALEVEL.mon.IND.MSLTR.multi-sensor.multi-platform.MERGED.2-2.GULFSTREAM',\n",
       " 'esacci.SEALEVEL.mon.IND.MSLTR.multi-sensor.multi-platform.MERGED.2-2.HUMBOLDT',\n",
       " 'esacci.SEALEVEL.mon.IND.MSLTR.multi-sensor.multi-platform.MERGED.2-2.MED_SEA',\n",
       " 'esacci.SEALEVEL.mon.IND.MSLTR.multi-sensor.multi-platform.MERGED.2-2.NE_ATL',\n",
       " 'esacci.SEALEVEL.mon.IND.MSLTR.multi-sensor.multi-platform.MERGED.2-2.N_INDIAN',\n",
       " 'esacci.SEALEVEL.mon.IND.MSLTR.multi-sensor.multi-platform.MERGED.2-2.SE_AFRICA',\n",
       " 'esacci.SEALEVEL.mon.IND.MSLTR.multi-sensor.multi-platform.MERGED.2-2.SE_ASIA',\n",
       " 'esacci.SEALEVEL.mon.IND.MSLTR.multi-sensor.multi-platform.MERGED.2-2.S_AUSTRALIA',\n",
       " 'esacci.SEALEVEL.mon.IND.MSLTR.multi-sensor.multi-platform.MERGED.2-2.WAFRICA',\n",
       " 'esacci.SEALEVEL.mon.IND.MSLTR.multi-sensor.multi-platform.MERGED.2-2.r1',\n",
       " 'esacci.SEALEVEL.mon.L4.MSLA.multi-sensor.multi-platform.MERGED.2-0.r1',\n",
       " 'esacci.SEALEVEL.satellite-orbit-frequency.L1.UNSPECIFIED.AltiKa.SARAL.UNSPECIFIED.v2-0.r1',\n",
       " 'esacci.SEALEVEL.satellite-orbit-frequency.L1.UNSPECIFIED.GFO-RA.GFO.UNSPECIFIED.v2-0.r1',\n",
       " 'esacci.SEALEVEL.satellite-orbit-frequency.L1.UNSPECIFIED.Poseidon-2.Jason-1.UNSPECIFIED.v2-0.r1',\n",
       " 'esacci.SEALEVEL.satellite-orbit-frequency.L1.UNSPECIFIED.Poseidon-3.Jason-2.UNSPECIFIED.v2-0.r1',\n",
       " 'esacci.SEALEVEL.satellite-orbit-frequency.L1.UNSPECIFIED.RA-2.Envisat.UNSPECIFIED.v2-0.r1',\n",
       " 'esacci.SEALEVEL.satellite-orbit-frequency.L1.UNSPECIFIED.RA.ERS-1.UNSPECIFIED.v2-0.r1',\n",
       " 'esacci.SEALEVEL.satellite-orbit-frequency.L1.UNSPECIFIED.RA.ERS-2.UNSPECIFIED.v2-0.r1',\n",
       " 'esacci.SEALEVEL.satellite-orbit-frequency.L1.UNSPECIFIED.SIRAL.CryoSat-2.UNSPECIFIED.v2-0.r1',\n",
       " 'esacci.SEALEVEL.satellite-orbit-frequency.L1.UNSPECIFIED.SSALT.Topex-Poseidon.UNSPECIFIED.v2-0.r1',\n",
       " 'esacci.SEASTATE.mon.L4.SWH.multi-sensor.multi-platform.MULTI_1M.3-0.r1',\n",
       " 'esacci.SEASURFACESALINITY.15-days.L4.SSS.multi-sensor.multi-platform.MERGED_OI_Monthly_CENTRED_15Day_25km.2-31.r1',\n",
       " 'esacci.SEASURFACESALINITY.15-days.L4.SSS.multi-sensor.multi-platform.MERGED_OI_Monthly_CENTRED_15Day_25km.3-21.r1',\n",
       " 'esacci.SEASURFACESALINITY.day.L4.SSS.multi-sensor.multi-platform.MERGED_OI_7DAY_RUNNINGMEAN_DAILY_25km.2-31.r1',\n",
       " 'esacci.SEASURFACESALINITY.day.L4.SSS.multi-sensor.multi-platform.MERGED_OI_7DAY_RUNNINGMEAN_DAILY_25km.3-21.r1',\n",
       " 'esacci.SNOW.day.L3C.SCFG.AATSR.Envisat.AATSR_ENVISAT.v1-0.r1',\n",
       " 'esacci.SNOW.day.L3C.SCFG.ATSR-2.ERS-2.ATSR2_ERS2.v1-0.r1',\n",
       " 'esacci.SNOW.day.L3C.SCFG.MODIS.Terra.MODIS_TERRA.2-0.r1',\n",
       " 'esacci.SNOW.day.L3C.SCFG.multi-sensor.multi-platform.AVHRR_MERGED.2-0.r1',\n",
       " 'esacci.SNOW.day.L3C.SCFV.AATSR.Envisat.AATSR_ENVISAT.v1-0.r1',\n",
       " 'esacci.SNOW.day.L3C.SCFV.ATSR-2.ERS-2.ATSR2_ERS2.v1-0.r1',\n",
       " 'esacci.SNOW.day.L3C.SCFV.MODIS.Terra.MODIS_TERRA.2-0.r1',\n",
       " 'esacci.SNOW.day.L3C.SCFV.multi-sensor.multi-platform.AVHRR_MERGED.2-0.r1',\n",
       " 'esacci.SNOW.day.L3C.SWE.multi-sensor.multi-platform.MERGED.2-0.r1',\n",
       " 'esacci.SNOW.day.L3S.SCFG.multi-sensor.multi-platform.MERGED.1-0.r1',\n",
       " 'esacci.SOILMOISTURE.day.L3S.SSMS.multi-sensor.multi-platform.ACTIVE.05-2.r1',\n",
       " 'esacci.SOILMOISTURE.day.L3S.SSMS.multi-sensor.multi-platform.ACTIVE.v05-3.r1',\n",
       " 'esacci.SOILMOISTURE.day.L3S.SSMS.multi-sensor.multi-platform.ACTIVE.v06-1.r1',\n",
       " 'esacci.SOILMOISTURE.day.L3S.SSMS.multi-sensor.multi-platform.ACTIVE.v06-2.r1',\n",
       " 'esacci.SOILMOISTURE.day.L3S.SSMS.multi-sensor.multi-platform.ACTIVE.v07-1.r1',\n",
       " 'esacci.SOILMOISTURE.day.L3S.SSMS.multi-sensor.multi-platform.ACTIVE.v08-1.r1',\n",
       " 'esacci.SOILMOISTURE.day.L3S.SSMV.multi-sensor.multi-platform.COMBINED.05-2.r1',\n",
       " 'esacci.SOILMOISTURE.day.L3S.SSMV.multi-sensor.multi-platform.COMBINED.v05-3.r1',\n",
       " 'esacci.SOILMOISTURE.day.L3S.SSMV.multi-sensor.multi-platform.COMBINED.v06-1.r1',\n",
       " 'esacci.SOILMOISTURE.day.L3S.SSMV.multi-sensor.multi-platform.COMBINED.v06-2.r1',\n",
       " 'esacci.SOILMOISTURE.day.L3S.SSMV.multi-sensor.multi-platform.COMBINED.v07-1.r1',\n",
       " 'esacci.SOILMOISTURE.day.L3S.SSMV.multi-sensor.multi-platform.COMBINED.v08-1.r1',\n",
       " 'esacci.SOILMOISTURE.day.L3S.SSMV.multi-sensor.multi-platform.COMBINED_ADJUSTED.v07-1.r1',\n",
       " 'esacci.SOILMOISTURE.day.L3S.SSMV.multi-sensor.multi-platform.PASSIVE.05-2.r1',\n",
       " 'esacci.SOILMOISTURE.day.L3S.SSMV.multi-sensor.multi-platform.PASSIVE.v05-3.r1',\n",
       " 'esacci.SOILMOISTURE.day.L3S.SSMV.multi-sensor.multi-platform.PASSIVE.v06-1.r1',\n",
       " 'esacci.SOILMOISTURE.day.L3S.SSMV.multi-sensor.multi-platform.PASSIVE.v06-2.r1',\n",
       " 'esacci.SOILMOISTURE.day.L3S.SSMV.multi-sensor.multi-platform.PASSIVE.v07-1.r1',\n",
       " 'esacci.SOILMOISTURE.day.L3S.SSMV.multi-sensor.multi-platform.PASSIVE.v08-1.r1',\n",
       " 'esacci.SST.day.L3C.SSTskin.AATSR.Envisat.AATSR.2-1.day',\n",
       " 'esacci.SST.day.L3C.SSTskin.AATSR.Envisat.AATSR.2-1.night',\n",
       " 'esacci.SST.day.L3C.SSTskin.ATSR-2.ERS-2.ATSR2.2-1.day',\n",
       " 'esacci.SST.day.L3C.SSTskin.ATSR-2.ERS-2.ATSR2.2-1.night',\n",
       " 'esacci.SST.day.L3C.SSTskin.ATSR.ERS-1.ATSR1.2-1.day',\n",
       " 'esacci.SST.day.L3C.SSTskin.ATSR.ERS-1.ATSR1.2-1.night',\n",
       " 'esacci.SST.day.L3C.SSTskin.AVHRR-2.NOAA-11.AVHRR11_G.2-1.day',\n",
       " 'esacci.SST.day.L3C.SSTskin.AVHRR-2.NOAA-11.AVHRR11_G.2-1.night',\n",
       " 'esacci.SST.day.L3C.SSTskin.AVHRR-2.NOAA-12.AVHRR12_G.2-1.day',\n",
       " 'esacci.SST.day.L3C.SSTskin.AVHRR-2.NOAA-12.AVHRR12_G.2-1.night',\n",
       " 'esacci.SST.day.L3C.SSTskin.AVHRR-2.NOAA-14.AVHRR14_G.2-1.day',\n",
       " 'esacci.SST.day.L3C.SSTskin.AVHRR-2.NOAA-14.AVHRR14_G.2-1.night',\n",
       " 'esacci.SST.day.L3C.SSTskin.AVHRR-2.NOAA-7.AVHRR07_G.2-1.day',\n",
       " 'esacci.SST.day.L3C.SSTskin.AVHRR-2.NOAA-7.AVHRR07_G.2-1.night',\n",
       " 'esacci.SST.day.L3C.SSTskin.AVHRR-2.NOAA-9.AVHRR09_G.2-1.day',\n",
       " 'esacci.SST.day.L3C.SSTskin.AVHRR-2.NOAA-9.AVHRR09_G.2-1.night',\n",
       " 'esacci.SST.day.L3C.SSTskin.AVHRR-3.Metop-A.AVHRRMTA_G.2-1.day',\n",
       " 'esacci.SST.day.L3C.SSTskin.AVHRR-3.Metop-A.AVHRRMTA_G.2-1.night',\n",
       " 'esacci.SST.day.L3C.SSTskin.AVHRR-3.NOAA-15.AVHRR15_G.2-1.day',\n",
       " 'esacci.SST.day.L3C.SSTskin.AVHRR-3.NOAA-15.AVHRR15_G.2-1.night',\n",
       " 'esacci.SST.day.L3C.SSTskin.AVHRR-3.NOAA-16.AVHRR16_G.2-1.day',\n",
       " 'esacci.SST.day.L3C.SSTskin.AVHRR-3.NOAA-16.AVHRR16_G.2-1.night',\n",
       " 'esacci.SST.day.L3C.SSTskin.AVHRR-3.NOAA-17.AVHRR17_G.2-1.day',\n",
       " 'esacci.SST.day.L3C.SSTskin.AVHRR-3.NOAA-17.AVHRR17_G.2-1.night',\n",
       " 'esacci.SST.day.L3C.SSTskin.AVHRR-3.NOAA-18.AVHRR18_G.2-1.day',\n",
       " 'esacci.SST.day.L3C.SSTskin.AVHRR-3.NOAA-18.AVHRR18_G.2-1.night',\n",
       " 'esacci.SST.day.L3C.SSTskin.AVHRR-3.NOAA-19.AVHRR19_G.2-1.day',\n",
       " 'esacci.SST.day.L3C.SSTskin.AVHRR-3.NOAA-19.AVHRR19_G.2-1.night',\n",
       " 'esacci.SST.day.L4.SSTdepth.multi-sensor.multi-platform.OSTIA.1-1.r1',\n",
       " 'esacci.SST.day.L4.SSTdepth.multi-sensor.multi-platform.OSTIA.2-1.anomaly',\n",
       " 'esacci.SST.day.L4.SSTdepth.multi-sensor.multi-platform.OSTIA.2-1.sst',\n",
       " 'esacci.SST.day.L4.SSTskin.Unspecified.Unspecified.GMPE.2-0.r1',\n",
       " 'esacci.SST.satellite-orbit-frequency.L2P.SSTskin.AATSR.Envisat.AATSR.2-1.r1',\n",
       " 'esacci.SST.satellite-orbit-frequency.L2P.SSTskin.ATSR-2.ERS-2.ATSR2.2-1.r1',\n",
       " 'esacci.SST.satellite-orbit-frequency.L2P.SSTskin.ATSR.ERS-1.ATSR1.2-1.r1',\n",
       " 'esacci.SST.satellite-orbit-frequency.L2P.SSTskin.AVHRR-2.NOAA-11.AVHRR11_G.2-1.r1',\n",
       " 'esacci.SST.satellite-orbit-frequency.L2P.SSTskin.AVHRR-2.NOAA-12.AVHRR12_G.2-1.r1',\n",
       " 'esacci.SST.satellite-orbit-frequency.L2P.SSTskin.AVHRR-2.NOAA-14.AVHRR14_G.2-1.r1',\n",
       " 'esacci.SST.satellite-orbit-frequency.L2P.SSTskin.AVHRR-2.NOAA-7.AVHRR07_G.2-1.r1',\n",
       " 'esacci.SST.satellite-orbit-frequency.L2P.SSTskin.AVHRR-2.NOAA-9.AVHRR09_G.2-1.r1',\n",
       " 'esacci.SST.satellite-orbit-frequency.L2P.SSTskin.AVHRR-3.Metop-A.AVHRRMTA_G.2-1.r1',\n",
       " 'esacci.SST.satellite-orbit-frequency.L2P.SSTskin.AVHRR-3.NOAA-15.AVHRR15_G.2-1.r1',\n",
       " 'esacci.SST.satellite-orbit-frequency.L2P.SSTskin.AVHRR-3.NOAA-16.AVHRR16_G.2-1.r1',\n",
       " 'esacci.SST.satellite-orbit-frequency.L2P.SSTskin.AVHRR-3.NOAA-17.AVHRR17_G.2-1.r1',\n",
       " 'esacci.SST.satellite-orbit-frequency.L2P.SSTskin.AVHRR-3.NOAA-18.AVHRR18_G.2-1.r1',\n",
       " 'esacci.SST.satellite-orbit-frequency.L2P.SSTskin.AVHRR-3.NOAA-19.AVHRR19_G.2-1.r1',\n",
       " 'esacci.SST.satellite-orbit-frequency.L3U.SSTskin.AATSR.Envisat.AATSR.2-1.r1',\n",
       " 'esacci.SST.satellite-orbit-frequency.L3U.SSTskin.ATSR-2.ERS-2.ATSR2.2-1.r1',\n",
       " 'esacci.SST.satellite-orbit-frequency.L3U.SSTskin.ATSR.ERS-1.ATSR1.2-1.r1',\n",
       " 'esacci.SST.satellite-orbit-frequency.L3U.SSTskin.AVHRR-2.NOAA-11.AVHRR11_G.2-1.r1',\n",
       " 'esacci.SST.satellite-orbit-frequency.L3U.SSTskin.AVHRR-2.NOAA-12.AVHRR12_G.2-1.r1',\n",
       " 'esacci.SST.satellite-orbit-frequency.L3U.SSTskin.AVHRR-2.NOAA-14.AVHRR14_G.2-1.r1',\n",
       " 'esacci.SST.satellite-orbit-frequency.L3U.SSTskin.AVHRR-2.NOAA-7.AVHRR07_G.2-1.r1',\n",
       " 'esacci.SST.satellite-orbit-frequency.L3U.SSTskin.AVHRR-2.NOAA-9.AVHRR09_G.2-1.r1',\n",
       " 'esacci.SST.satellite-orbit-frequency.L3U.SSTskin.AVHRR-3.Metop-A.AVHRRMTA_G.2-1.r1',\n",
       " 'esacci.SST.satellite-orbit-frequency.L3U.SSTskin.AVHRR-3.NOAA-15.AVHRR15_G.2-1.r1',\n",
       " 'esacci.SST.satellite-orbit-frequency.L3U.SSTskin.AVHRR-3.NOAA-16.AVHRR16_G.2-1.r1',\n",
       " 'esacci.SST.satellite-orbit-frequency.L3U.SSTskin.AVHRR-3.NOAA-17.AVHRR17_G.2-1.r1',\n",
       " 'esacci.SST.satellite-orbit-frequency.L3U.SSTskin.AVHRR-3.NOAA-18.AVHRR18_G.2-1.r1',\n",
       " 'esacci.SST.satellite-orbit-frequency.L3U.SSTskin.AVHRR-3.NOAA-19.AVHRR19_G.2-1.r1',\n",
       " 'esacci.WATERVAPOUR.day.L3S.TCWV.multi-sensor.multi-platform.TCWV_land_005deg.3-2.r1',\n",
       " 'esacci.WATERVAPOUR.day.L3S.TCWV.multi-sensor.multi-platform.TCWV_land_05deg.3-2.r1',\n",
       " 'esacci.WATERVAPOUR.mon.L3S.TCWV.multi-sensor.multi-platform.TCWV_land_005deg.3-2.r1',\n",
       " 'esacci.WATERVAPOUR.mon.L3S.TCWV.multi-sensor.multi-platform.TCWV_land_05deg.3-2.r1']"
      ]
     },
     "execution_count": 4,
     "metadata": {},
     "output_type": "execute_result"
    }
   ],
   "source": [
    "datasets = odp_store.get_data_ids()\n",
    "list(datasets)"
   ]
  },
  {
   "cell_type": "markdown",
   "metadata": {},
   "source": [
    "This might have been a bit much. In case you are looking for particular data sets, you can search for them. You can list which search options are available:"
   ]
  },
  {
   "cell_type": "code",
   "execution_count": 5,
   "metadata": {},
   "outputs": [
    {
     "data": {
      "application/json": {
       "additionalProperties": false,
       "properties": {
        "bbox": {
         "items": [
          {
           "type": "number"
          },
          {
           "type": "number"
          },
          {
           "type": "number"
          },
          {
           "type": "number"
          }
         ],
         "type": "array"
        },
        "cci_attrs": {
         "additionalProperties": false,
         "properties": {
          "data_type": {
           "enum": [
            "CLD_PRODUCTS",
            "AOD",
            "LST",
            "SICONC",
            "CH4",
            "TC",
            "SSTskin",
            "GMB",
            "AER_PRODUCTS",
            "UNSPECIFIED",
            "IOP",
            "AEX",
            "RRS",
            "SWH",
            "PFT",
            "CO2",
            "SWE",
            "WB",
            "MSL",
            "PFR",
            "BA",
            "AGB",
            "SCFG",
            "SSMV",
            "LP",
            "ALT",
            "SITHICK",
            "MSLA",
            "TCWV",
            "OC_PRODUCTS",
            "IV",
            "MSLAMPH",
            "SSTdepth",
            "MSLTR",
            "CHLOR_A",
            "K_490",
            "LK_PRODUCTS",
            "GTD",
            "SCFV",
            "LCCS",
            "SSS",
            "AAI",
            "SEC",
            "SSMS",
            "CFL",
            "NP",
            "GLL"
           ],
           "type": "string"
          },
          "ecv": {
           "enum": [
            "ICESHEETS",
            "AEROSOL",
            "SEASTATE",
            "LC",
            "LST",
            "LAKES",
            "SEALEVEL",
            "FIRE",
            "OZONE",
            "WATERVAPOUR",
            "CLOUD",
            "PERMAFROST",
            "SOILMOISTURE",
            "SEAICE",
            "GHG",
            "OC",
            "SEASURFACESALINITY",
            "BIOMASS",
            "SST",
            "SNOW"
           ],
           "type": "string"
          },
          "frequency": {
           "enum": [
            "13 years",
            "5 days",
            "climatology",
            "3-hours",
            "day",
            "month",
            "8 days",
            "year",
            "15 days",
            "satellite-orbit-frequency",
            "unspecified"
           ],
           "type": "string"
          },
          "institute": {
           "enum": [
            "Alfred-Wegener-Institut Helmholtz-Zentrum für Polar- und Meeresforschung",
            "Plymouth Marine Laboratory",
            "ENVironmental Earth Observation IT GmbH",
            "multi-institution",
            "DTU Space",
            "Freie Universitaet Berlin",
            "Vienna University of Technology",
            "Deutscher Wetterdienst",
            "Netherlands Institute for Space Research",
            "Technische Universität Dresden",
            "Institute of Environmental Physics",
            "Rutherford Appleton Laboratory",
            "Universite Catholique de Louvain",
            "University of Alcala",
            "University of Leicester",
            "Norwegian Meteorological Institute",
            "University of Bremen",
            "Belgian Institute for Space Aeronomy",
            "Deutsches Zentrum fuer Luft- und Raumfahrt",
            "Royal Netherlands Meteorological Institute",
            "The Geological Survey of Denmark and Greenland"
           ],
           "type": "string"
          },
          "platform": {
           "enum": [
            "GOSAT",
            "Jason-2",
            "ERS-2",
            "RadarSat-2",
            "GOSAT-2",
            "NOAA-11",
            "ODIN",
            "Jason-1",
            "ERS-1",
            "ALOS",
            "NOAA-12",
            "NOAA-17",
            "NOAA-15",
            "OCO-2",
            "NOAA-19",
            "Envisat",
            "NOAA-9",
            "Sentinel-1A",
            "GFO",
            "NOAA-14",
            "NOAA-18",
            "Sentinel-3B",
            "Unspecified",
            "Aqua",
            "Sentinel-2A",
            "SARAL",
            "NOAA-16",
            "NOAA-7",
            "Terra",
            "Metop-A",
            "multi-platform",
            "Nimbus-5",
            "CryoSat-2",
            "Topex-Poseidon",
            "GRACE",
            "Sentinel-3A"
           ],
           "type": "string"
          },
          "processing_level": {
           "enum": [
            "L3S",
            "Unspecified",
            "L3C",
            "L2",
            "IND",
            "L4",
            "L1",
            "L3U",
            "L2P",
            "L3"
           ],
           "type": "string"
          },
          "product_string": {
           "enum": [
            "ATSR2-ENVISAT-ENS",
            "IRCDR",
            "AVHRR18_G",
            "AVHRR07_G",
            "MERGED",
            "MSAAI",
            "AVHRR12_G",
            "NIMBUS5_ESMR-EASE2_NH",
            "SLSTRB",
            "GOMOS_ENVISAT",
            "AMSR_50kmEASE2",
            "OCPR",
            "AVHRR16_G",
            "WFMD",
            "AATSR-ENVISAT-ENS_MONTHLY",
            "MERIS-AATSR",
            "OSIRIS_ODIN",
            "AATSR-ENVISAT-ENS_ANNUAL",
            "MODISLST_CRYOGRID",
            "GMPE",
            "SH50KMEASE2",
            "SRFP",
            "AERGOM",
            "AATSR-ENVISAT-ENS_DAILY",
            "PASSIVE",
            "NH25KMEASE2",
            "MERGED_OI_Monthly_CENTRED_15Day_25km",
            "SU",
            "AVHRR09_G",
            "ATSR2-ENVISAT-ENS_ANNUAL",
            "AVHRR-PM",
            "NH",
            "ADV",
            "OCFP",
            "SYN",
            "BESD",
            "IRMGP",
            "AATSR-ENVISAT-ENS",
            "MODIST",
            "VARIOUS",
            "SCIAMACHY_ENVISAT",
            "RE_SSMI_12-5kmEASE2-NH",
            "SSMI_SSMIS",
            "ACTIVE",
            "IMAP",
            "NIMBUS5_ESMR-EASE2_SH",
            "AVHRRMTA_G",
            "MERIS_ENVISAT",
            "MULTI_1M",
            "TCWV_land_05deg",
            "AATSR",
            "RE_SSMI_12-5kmEASE2-SH",
            "COMBINED_ADJUSTED",
            "ATSR2-AATSR",
            "MODIS_AQUA",
            "MODISA",
            "AATSR_ENVISAT",
            "ATSR2_ERS2",
            "SLSTRA",
            "MODIS_TERRA",
            "TCWV_land_005deg",
            "ATSR_3",
            "EMMA",
            "SMR_ODIN",
            "ERA5_MODISLST_BIASCORRECTED",
            "AMSR_25kmEASE2",
            "COMBINED",
            "MIPAS_ENVISAT",
            "AVHRR15_G",
            "UNSPECIFIED",
            "AVHRR14_G",
            "CHANGE",
            "OSTIA",
            "ORAC",
            "ATSR2-ENVISAT-ENS_DAILY",
            "SH",
            "ATSR1",
            "Map",
            "AVHRR17_G",
            "ATSR2-ENVISAT-ENS_MONTHLY",
            "AVHRR_MERGED",
            "SRPR",
            "AVHRR19_G",
            "AVHRR11_G",
            "MSI",
            "ATSR_2",
            "FOCAL",
            "ATSR2",
            "MZM",
            "AVHRR-AM",
            "MERGED_OI_7DAY_RUNNINGMEAN_DAILY_25km"
           ],
           "type": "string"
          },
          "product_version": {
           "enum": [
            "v2.2b",
            "2.00",
            "fv0100",
            "1.3",
            "v5.1",
            "1.1",
            "0.1",
            "v1.1",
            "05.2",
            "v07.1",
            "2.31",
            "1.4",
            "04.01.",
            "1.5",
            "v7.0.1",
            "4.3",
            "v05.3",
            "3.21",
            "2.0",
            "1.7",
            "v2.1",
            "3.2",
            "ch4_v1.2",
            "1.0",
            "2.1",
            "v06.1",
            "v0001",
            "v2.6",
            "v02.01.02",
            "v2.2a",
            "03.0",
            "1.00",
            "fv0002",
            "v2.2c",
            "3.0",
            "04.01",
            "2.2",
            "v7.0",
            "v2.3.8",
            "v3.0",
            "v10",
            "4.0",
            "v2.0.0",
            "6.0",
            "v1.3",
            "3.00",
            "v1.0",
            "2.0.8",
            "v2.0",
            "1.2",
            "v08.1",
            "v2.33",
            "2.0.7",
            "v4.0",
            "04.01_seg.",
            "v2.0.2",
            "v06.2",
            "v7.2"
           ],
           "type": "string"
          },
          "sensor": {
           "enum": [
            "Poseidon-2",
            "SAR-C-(Sentinel-1)",
            "SAR-(RadarSat-2)",
            "ESMR-(Nimbus-5)",
            "TANSO-FTS",
            "SMR",
            "OCO",
            "AltiKa",
            "AVHRR-3",
            "OSIRIS",
            "AMI-SAR",
            "MODIS",
            "multi-sensor",
            "RA",
            "ASAR",
            "SIRAL",
            "SSALT",
            "RA-2",
            "GRACE-instrument",
            "AATSR",
            "PALSAR",
            "ATSR",
            "SAR-2000",
            "ATSR-2",
            "MSI-(Sentinel-2)",
            "MERIS",
            "SCIAMACHY",
            "GFO-RA",
            "GOMOS",
            "TANSO-FTS-2",
            "Unspecified",
            "SLSTR",
            "Poseidon-3",
            "AVHRR-2",
            "MIPAS"
           ],
           "type": "string"
          }
         },
         "type": "object"
        },
        "end_date": {
         "format": "date-time",
         "type": "string"
        },
        "start_date": {
         "format": "date-time",
         "type": "string"
        }
       },
       "type": "object"
      },
      "text/plain": [
       "<xcube.util.jsonschema.JsonObjectSchema at 0x7f66bea72090>"
      ]
     },
     "execution_count": 5,
     "metadata": {},
     "output_type": "execute_result"
    }
   ],
   "source": [
    "odp_store.get_search_params_schema()"
   ]
  },
  {
   "cell_type": "markdown",
   "metadata": {},
   "source": [
    "The parameters are listed under *properties*. *start_date*, *end_date* and *bbox* are standard search parameters that are also used by other stores. *cci_attrs* lists additional parameters that are specific for the cci store (again, listed under *properties*). Of these, let's use *ecv* and *frequency*."
   ]
  },
  {
   "cell_type": "code",
   "execution_count": 6,
   "metadata": {},
   "outputs": [
    {
     "name": "stderr",
     "output_type": "stream",
     "text": [
      "Could not open opendap url. No dds or das file provided.\n",
      "Could not extract information about variables and attributes from https://data.cci.ceda.ac.uk/thredds/dodsC/esacci/aerosol/data/AATSR_ENS/L3/v2.6/MONTHLY/2002/200203-ESACCI-L3C_AEROSOL-AER_PRODUCTS-ATSR2-ENVISAT-ENS_MONTHLY-v2.6.nc\n",
      "Could not open opendap url. No dds or das file provided.\n",
      "Could not extract information about variables and attributes from https://data.cci.ceda.ac.uk/thredds/dodsC/esacci/aerosol/data/ATSR2_ORAC/L3/v4.01/MONTHLY/1995/199510-ESACCI-L3C_AEROSOL-AER_PRODUCTS-ATSR2-ERS2-ORAC-MONTHLY-fv04.01.nc\n",
      "Could not open opendap url. No dds or das file provided.\n",
      "Could not extract information about variables and attributes from https://data.cci.ceda.ac.uk/thredds/dodsC/esacci/aerosol/data/AATSR_ORAC/L3/v4.01/MONTHLY/2002/200209-ESACCI-L3C_AEROSOL-AER_PRODUCTS-AATSR-ENVISAT-ORAC-MONTHLY-fv04.01.nc\n",
      "Could not open opendap url. No dds or das file provided.\n",
      "Could not extract information about variables and attributes from https://data.cci.ceda.ac.uk/thredds/dodsC/esacci/aerosol/data/AATSR_SU/L3/v4.3/MONTHLY/2002/200207-ESACCI-L3C_AEROSOL-AER_PRODUCTS-AATSR_ENVISAT-SU_MONTHLY-v4.3.nc\n"
     ]
    },
    {
     "data": {
      "text/plain": [
       "['esacci.AEROSOL.mon.L3.AAI.multi-sensor.multi-platform.MSAAI.1-7.r1',\n",
       " 'esacci.AEROSOL.mon.L3C.AER_PRODUCTS.AATSR.Envisat.ADV.2-31.r1',\n",
       " 'esacci.AEROSOL.mon.L3C.AER_PRODUCTS.AATSR.Envisat.ORAC.04-01-.r1',\n",
       " 'esacci.AEROSOL.mon.L3C.AER_PRODUCTS.AATSR.Envisat.ORAC.04-01_seg-.r1',\n",
       " 'esacci.AEROSOL.mon.L3C.AER_PRODUCTS.AATSR.Envisat.SU.4-3.r1',\n",
       " 'esacci.AEROSOL.mon.L3C.AER_PRODUCTS.ATSR-2.ERS-2.ADV.2-31.r1',\n",
       " 'esacci.AEROSOL.mon.L3C.AER_PRODUCTS.ATSR-2.ERS-2.ORAC.04-01-.r1',\n",
       " 'esacci.AEROSOL.mon.L3C.AER_PRODUCTS.ATSR-2.ERS-2.ORAC.04-01_seg-.r1',\n",
       " 'esacci.AEROSOL.mon.L3C.AER_PRODUCTS.multi-sensor.multi-platform.AATSR-ENVISAT-ENS_MONTHLY.v2-6.r1',\n",
       " 'esacci.AEROSOL.mon.L3C.AER_PRODUCTS.multi-sensor.multi-platform.ATSR2-ENVISAT-ENS_MONTHLY.v2-6.r1',\n",
       " 'esacci.AEROSOL.mon.L3C.AOD.MERIS.Envisat.MERIS_ENVISAT.2-2.r1']"
      ]
     },
     "execution_count": 6,
     "metadata": {},
     "output_type": "execute_result"
    }
   ],
   "source": [
    "cci_attrs = dict(\n",
    "    ecv='AEROSOL', \n",
    "    frequency='month'\n",
    ")\n",
    "\n",
    "[descriptor.data_id for descriptor in odp_store.search_data(cci_attrs=cci_attrs)]"
   ]
  },
  {
   "cell_type": "markdown",
   "metadata": {},
   "source": [
    "'esacci.AEROSOL.mon.L3.AAI.multi-sensor.multi-platform.MSAAI.1-7.r1' sounds interesting. Let's get more information about that one."
   ]
  },
  {
   "cell_type": "code",
   "execution_count": 7,
   "metadata": {},
   "outputs": [
    {
     "data": {
      "application/json": {
       "attrs": {
        "abstract": "The ESA Climate Change Initiative Aerosol project has produced a number of global aerosol Essential Climate Variable (ECV) products from a set of European satellite instruments with different characteristics.   This dataset comprises Level 3 Absorbing Aerosol Index (AAI) products, using the Multi-Sensor UVAI algorithm, Version 1.7.  L3 products are provided as daily and monthly gridded products as well as a monthly climatology. \n\nFor further details about these data products please see the linked documentation.",
        "catalog_url": "https://catalogue.ceda.ac.uk/uuid/2e656d34d016414c8d6bced18634772c",
        "cci_project": "AEROSOL",
        "comment": "Sun glint and solar eclipse events were filtered out.",
        "data_type": "AAI",
        "description": "Multi-Sensor AAI field for January 1979",
        "ecv": "AEROSOL",
        "history": "2017-07-24 09:13:47 - Product generated using create_msaai_monthly_products.pro",
        "institute": "Royal Netherlands Meteorological Institute",
        "platform_id": "multi-platform",
        "processing_level": "L3",
        "product_string": "MSAAI",
        "product_version": "1-7",
        "project": "Climate Change Initiative - European Space Agency",
        "publication_date": "2020-08-27T16:02:30",
        "references": "http://www.esa-aerosol-cci.org",
        "sensor_id": "multi-sensor",
        "source": "TOMS AAI version 8, GOME-1 AAI version 5.0, SCIAMACHY AAI version 5.1, OMI AAI version 1.1.1, GOME-2 AAI version 1.35",
        "title": "ESA Aerosol Climate Change Initiative (Aerosol_cci): Level 3 aerosol products  from the Multi-Sensor UV Absorbing Aerosol Index (MS UVAI) algorithm, Version 1.7",
        "uuid": "2e656d34d016414c8d6bced18634772c"
       },
       "bbox": [
        -180,
        -90,
        180,
        90
       ],
       "coords": {
        "latitude": {
         "attrs": {
          "chunk_sizes": [
           180
          ],
          "data_type": "float32",
          "dimensions": [
           "latitude"
          ],
          "file_chunk_sizes": [
           180
          ],
          "file_dimensions": [
           "latitude"
          ],
          "fill_value": null,
          "long_name": "Latitudes of the centre of the grid cells",
          "orig_data_type": "float32",
          "shape": [
           180
          ],
          "size": 180,
          "units": "degrees"
         },
         "dims": [
          "latitude"
         ],
         "dtype": "float32",
         "name": "latitude"
        },
        "longitude": {
         "attrs": {
          "chunk_sizes": [
           360
          ],
          "data_type": "float32",
          "dimensions": [
           "longitude"
          ],
          "file_chunk_sizes": [
           360
          ],
          "file_dimensions": [
           "longitude"
          ],
          "fill_value": null,
          "long_name": "Longitudes of the centre of the grid cells",
          "orig_data_type": "float32",
          "shape": [
           360
          ],
          "size": 360,
          "units": "degrees"
         },
         "dims": [
          "longitude"
         ],
         "dtype": "float32",
         "name": "longitude"
        },
        "time": {
         "attrs": {
          "calendar": "proleptic_gregorian",
          "standard_name": "time",
          "units": "seconds since 1970-01-01T00:00:00Z"
         },
         "dims": [
          "time"
         ],
         "dtype": "int64",
         "name": "time"
        },
        "time_bnds": {
         "attrs": {
          "calendar": "proleptic_gregorian",
          "standard_name": "time_bnds",
          "units": "seconds since 1970-01-01T00:00:00Z"
         },
         "dims": [
          "time",
          "bnds"
         ],
         "dtype": "int64",
         "name": "time_bnds"
        }
       },
       "crs": "WGS84",
       "data_id": "esacci.AEROSOL.mon.L3.AAI.multi-sensor.multi-platform.MSAAI.1-7.r1",
       "data_type": "dataset",
       "data_vars": {
        "absorbing_aerosol_index": {
         "attrs": {
          "chunk_sizes": [
           180,
           360
          ],
          "data_type": "float32",
          "dimensions": [
           "latitude",
           "longitude"
          ],
          "file_chunk_sizes": [
           180,
           360
          ],
          "file_dimensions": [
           "latitude",
           "longitude"
          ],
          "fill_value": null,
          "long_name": "Absorbing aerosol index averaged for each grid cell",
          "orig_data_type": "float32",
          "shape": [
           180,
           360
          ],
          "size": 64800,
          "units": "1"
         },
         "dims": [
          "time",
          "lat",
          "lon"
         ],
         "dtype": "float32",
         "name": "absorbing_aerosol_index"
        },
        "number_of_observations": {
         "attrs": {
          "chunk_sizes": [
           180,
           360
          ],
          "data_type": "int64",
          "dimensions": [
           "latitude",
           "longitude"
          ],
          "file_chunk_sizes": [
           180,
           360
          ],
          "file_dimensions": [
           "latitude",
           "longitude"
          ],
          "fill_value": 9223372036854776000,
          "long_name": "Number of observations for each grid cell",
          "orig_data_type": "int32",
          "shape": [
           180,
           360
          ],
          "size": 64800,
          "units": "1"
         },
         "dims": [
          "time",
          "lat",
          "lon"
         ],
         "dtype": "int64",
         "name": "number_of_observations"
        },
        "number_of_positive_observations": {
         "attrs": {
          "chunk_sizes": [
           180,
           360
          ],
          "data_type": "int64",
          "dimensions": [
           "latitude",
           "longitude"
          ],
          "file_chunk_sizes": [
           180,
           360
          ],
          "file_dimensions": [
           "latitude",
           "longitude"
          ],
          "fill_value": 9223372036854776000,
          "long_name": "Number of positive observations for each grid cell",
          "orig_data_type": "int32",
          "shape": [
           180,
           360
          ],
          "size": 64800,
          "units": "1"
         },
         "dims": [
          "time",
          "lat",
          "lon"
         ],
         "dtype": "int64",
         "name": "number_of_positive_observations"
        },
        "positive_absorbing_aerosol_index": {
         "attrs": {
          "chunk_sizes": [
           180,
           360
          ],
          "data_type": "float32",
          "dimensions": [
           "latitude",
           "longitude"
          ],
          "file_chunk_sizes": [
           180,
           360
          ],
          "file_dimensions": [
           "latitude",
           "longitude"
          ],
          "fill_value": null,
          "long_name": "Positive absorbing aerosol index averaged for each grid cell",
          "orig_data_type": "float32",
          "shape": [
           180,
           360
          ],
          "size": 64800,
          "units": "1"
         },
         "dims": [
          "time",
          "lat",
          "lon"
         ],
         "dtype": "float32",
         "name": "positive_absorbing_aerosol_index"
        },
        "solar_zenith_angle": {
         "attrs": {
          "chunk_sizes": [
           180,
           360
          ],
          "data_type": "float32",
          "dimensions": [
           "latitude",
           "longitude"
          ],
          "file_chunk_sizes": [
           180,
           360
          ],
          "file_dimensions": [
           "latitude",
           "longitude"
          ],
          "fill_value": null,
          "long_name": "Solar zenith angle averaged for each grid cell",
          "orig_data_type": "float32",
          "shape": [
           180,
           360
          ],
          "size": 64800,
          "units": "degrees"
         },
         "dims": [
          "time",
          "lat",
          "lon"
         ],
         "dtype": "float32",
         "name": "solar_zenith_angle"
        }
       },
       "dims": {
        "bnds": 2,
        "lat": 180,
        "lon": 360,
        "time": 422
       },
       "open_params_schema": {
        "additionalProperties": false,
        "properties": {
         "bbox": {
          "items": [
           {
            "maximum": 180,
            "minimum": -180,
            "type": "number"
           },
           {
            "maximum": 90,
            "minimum": -90,
            "type": "number"
           },
           {
            "maximum": 180,
            "minimum": -180,
            "type": "number"
           },
           {
            "maximum": 90,
            "minimum": -90,
            "type": "number"
           }
          ],
          "type": "array"
         },
         "normalize_data": {
          "default": true,
          "type": "boolean"
         },
         "time_range": {
          "items": [
           {
            "format": "date",
            "maxDate": "2015-12-31",
            "minDate": "1978-11-01",
            "type": "string"
           },
           {
            "format": "date",
            "maxDate": "2015-12-31",
            "minDate": "1978-11-01",
            "type": "string"
           }
          ],
          "type": "array"
         },
         "variable_names": {
          "items": {
           "enum": [
            "absorbing_aerosol_index",
            "number_of_observations",
            "solar_zenith_angle",
            "positive_absorbing_aerosol_index",
            "number_of_positive_observations"
           ],
           "type": "string"
          },
          "type": "array"
         }
        },
        "type": "object"
       },
       "time_period": "1M",
       "time_range": [
        "1978-11-01",
        "2015-12-31"
       ]
      },
      "text/plain": [
       "<xcube.core.store.descriptor.DatasetDescriptor at 0x7f66bdff0fd0>"
      ]
     },
     "execution_count": 7,
     "metadata": {},
     "output_type": "execute_result"
    }
   ],
   "source": [
    "odp_store.describe_data('esacci.AEROSOL.mon.L3.AAI.multi-sensor.multi-platform.MSAAI.1-7.r1')"
   ]
  },
  {
   "cell_type": "markdown",
   "metadata": {},
   "source": [
    "Finally, we can have a look at which openers are provided by this store."
   ]
  },
  {
   "cell_type": "code",
   "execution_count": 8,
   "metadata": {},
   "outputs": [
    {
     "data": {
      "text/plain": [
       "('dataset:zarr:cciodp',)"
      ]
     },
     "execution_count": 8,
     "metadata": {},
     "output_type": "execute_result"
    }
   ],
   "source": [
    "odp_store.get_data_opener_ids()"
   ]
  },
  {
   "cell_type": "markdown",
   "metadata": {},
   "source": [
    "Here is how you can view which parameters can be used when you want to open a particular dataset (both parameters are optional)."
   ]
  },
  {
   "cell_type": "code",
   "execution_count": 9,
   "metadata": {},
   "outputs": [
    {
     "data": {
      "application/json": {
       "additionalProperties": false,
       "properties": {
        "bbox": {
         "items": [
          {
           "maximum": 180,
           "minimum": -180,
           "type": "number"
          },
          {
           "maximum": 90,
           "minimum": -90,
           "type": "number"
          },
          {
           "maximum": 180,
           "minimum": -180,
           "type": "number"
          },
          {
           "maximum": 90,
           "minimum": -90,
           "type": "number"
          }
         ],
         "type": "array"
        },
        "normalize_data": {
         "default": true,
         "type": "boolean"
        },
        "time_range": {
         "items": [
          {
           "format": "date",
           "maxDate": "2015-12-31",
           "minDate": "1978-11-01",
           "type": "string"
          },
          {
           "format": "date",
           "maxDate": "2015-12-31",
           "minDate": "1978-11-01",
           "type": "string"
          }
         ],
         "type": "array"
        },
        "variable_names": {
         "items": {
          "enum": [
           "absorbing_aerosol_index",
           "number_of_observations",
           "solar_zenith_angle",
           "positive_absorbing_aerosol_index",
           "number_of_positive_observations"
          ],
          "type": "string"
         },
         "type": "array"
        }
       },
       "type": "object"
      },
      "text/plain": [
       "<xcube.util.jsonschema.JsonObjectSchema at 0x7f66be0a05d0>"
      ]
     },
     "execution_count": 9,
     "metadata": {},
     "output_type": "execute_result"
    }
   ],
   "source": [
    "odp_store.get_open_data_params_schema(data_id='esacci.AEROSOL.mon.L3.AAI.multi-sensor.multi-platform.MSAAI.1-7.r1', opener_id='dataset:zarr:cciodp')"
   ]
  },
  {
   "cell_type": "markdown",
   "metadata": {},
   "source": [
    "Great! Now we are all set to open some cubes."
   ]
  }
 ],
 "metadata": {
  "kernelspec": {
   "display_name": "Python 3 (ipykernel)",
   "language": "python",
   "name": "python3"
  },
  "language_info": {
   "codemirror_mode": {
    "name": "ipython",
    "version": 3
   },
   "file_extension": ".py",
   "mimetype": "text/x-python",
   "name": "python",
   "nbconvert_exporter": "python",
   "pygments_lexer": "ipython3",
   "version": "3.11.6"
  }
 },
 "nbformat": 4,
 "nbformat_minor": 4
}
