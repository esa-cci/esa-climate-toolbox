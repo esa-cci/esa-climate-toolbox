{
 "cells": [
  {
   "cell_type": "markdown",
   "metadata": {},
   "source": [
    "## Access Obs4MIPs and CMIP data via ESGF\n",
    "\n",
    "On the ESGF webpage (https://esgf.github.io/software.html), [intake-esgf](https://github.com/esgf2-us/intake-esgf) is recommended. An example is shown below how to access data."
   ]
  },
  {
   "cell_type": "code",
   "execution_count": 1,
   "metadata": {
    "tags": []
   },
   "outputs": [],
   "source": [
    "from intake_esgf import ESGFCatalog, supported_projects"
   ]
  },
  {
   "cell_type": "code",
   "execution_count": 2,
   "metadata": {},
   "outputs": [
    {
     "data": {
      "text/plain": [
       "['cmip6', 'cmip5', 'cmip3', 'obs4mips', 'drcdp']"
      ]
     },
     "execution_count": 2,
     "metadata": {},
     "output_type": "execute_result"
    }
   ],
   "source": [
    "supported_projects()"
   ]
  },
  {
   "cell_type": "markdown",
   "metadata": {},
   "source": [
    "---\n",
    "### Access CMIP\n",
    "\n",
    "In this section we show an example how to access data from CMIP6. "
   ]
  },
  {
   "cell_type": "code",
   "execution_count": 7,
   "metadata": {},
   "outputs": [],
   "source": [
    "cat = ESGFCatalog()"
   ]
  },
  {
   "cell_type": "code",
   "execution_count": 8,
   "metadata": {},
   "outputs": [
    {
     "data": {
      "application/vnd.jupyter.widget-view+json": {
       "model_id": "22a77619578741f2ae3adc1139617ac7",
       "version_major": 2,
       "version_minor": 0
      },
      "text/plain": [
       "   Searching indices:   0%|          |0/2 [       ?index/s]"
      ]
     },
     "metadata": {},
     "output_type": "display_data"
    },
    {
     "data": {
      "text/plain": [
       "Summary information for 1 results:\n",
       "mip_era                [CMIP6]\n",
       "activity_drs            [CMIP]\n",
       "institution_id         [CCCma]\n",
       "source_id            [CanESM5]\n",
       "experiment_id     [historical]\n",
       "member_id           [r1i1p1f1]\n",
       "table_id                [Amon]\n",
       "variable_id              [tas]\n",
       "grid_label                [gn]\n",
       "dtype: object"
      ]
     },
     "execution_count": 8,
     "metadata": {},
     "output_type": "execute_result"
    }
   ],
   "source": [
    "cat.search(\n",
    "    mip_era=\"cmip6\",\n",
    "    variable_id=\"tas\",\n",
    "    experiment_id=\"historical\",\n",
    "    source_id=\"CanESM5\",\n",
    "    member_id=\"r1i1p1f1\",\n",
    "    table_id=\"Amon\",\n",
    ")"
   ]
  },
  {
   "cell_type": "code",
   "execution_count": 10,
   "metadata": {},
   "outputs": [
    {
     "data": {
      "application/vnd.jupyter.widget-view+json": {
       "model_id": "4bfaf8f5472e4cb1a49abf03ef27adb4",
       "version_major": 2,
       "version_minor": 0
      },
      "text/plain": [
       "Get file information:   0%|          |0/2 [       ?index/s]"
      ]
     },
     "metadata": {},
     "output_type": "display_data"
    },
    {
     "data": {
      "application/vnd.jupyter.widget-view+json": {
       "model_id": "7f1405ca47f14cb5859a9d00753038f7",
       "version_major": 2,
       "version_minor": 0
      },
      "text/plain": [
       "Adding cell measures:   0%|          |0/1 [     ?dataset/s]"
      ]
     },
     "metadata": {},
     "output_type": "display_data"
    }
   ],
   "source": [
    "dsd = cat.to_dataset_dict()"
   ]
  },
  {
   "cell_type": "code",
   "execution_count": 11,
   "metadata": {},
   "outputs": [
    {
     "data": {
      "text/html": [
       "<div><svg style=\"position: absolute; width: 0; height: 0; overflow: hidden\">\n",
       "<defs>\n",
       "<symbol id=\"icon-database\" viewBox=\"0 0 32 32\">\n",
       "<path d=\"M16 0c-8.837 0-16 2.239-16 5v4c0 2.761 7.163 5 16 5s16-2.239 16-5v-4c0-2.761-7.163-5-16-5z\"></path>\n",
       "<path d=\"M16 17c-8.837 0-16-2.239-16-5v6c0 2.761 7.163 5 16 5s16-2.239 16-5v-6c0 2.761-7.163 5-16 5z\"></path>\n",
       "<path d=\"M16 26c-8.837 0-16-2.239-16-5v6c0 2.761 7.163 5 16 5s16-2.239 16-5v-6c0 2.761-7.163 5-16 5z\"></path>\n",
       "</symbol>\n",
       "<symbol id=\"icon-file-text2\" viewBox=\"0 0 32 32\">\n",
       "<path d=\"M28.681 7.159c-0.694-0.947-1.662-2.053-2.724-3.116s-2.169-2.030-3.116-2.724c-1.612-1.182-2.393-1.319-2.841-1.319h-15.5c-1.378 0-2.5 1.121-2.5 2.5v27c0 1.378 1.122 2.5 2.5 2.5h23c1.378 0 2.5-1.122 2.5-2.5v-19.5c0-0.448-0.137-1.23-1.319-2.841zM24.543 5.457c0.959 0.959 1.712 1.825 2.268 2.543h-4.811v-4.811c0.718 0.556 1.584 1.309 2.543 2.268zM28 29.5c0 0.271-0.229 0.5-0.5 0.5h-23c-0.271 0-0.5-0.229-0.5-0.5v-27c0-0.271 0.229-0.5 0.5-0.5 0 0 15.499-0 15.5 0v7c0 0.552 0.448 1 1 1h7v19.5z\"></path>\n",
       "<path d=\"M23 26h-14c-0.552 0-1-0.448-1-1s0.448-1 1-1h14c0.552 0 1 0.448 1 1s-0.448 1-1 1z\"></path>\n",
       "<path d=\"M23 22h-14c-0.552 0-1-0.448-1-1s0.448-1 1-1h14c0.552 0 1 0.448 1 1s-0.448 1-1 1z\"></path>\n",
       "<path d=\"M23 18h-14c-0.552 0-1-0.448-1-1s0.448-1 1-1h14c0.552 0 1 0.448 1 1s-0.448 1-1 1z\"></path>\n",
       "</symbol>\n",
       "</defs>\n",
       "</svg>\n",
       "<style>/* CSS stylesheet for displaying xarray objects in jupyterlab.\n",
       " *\n",
       " */\n",
       "\n",
       ":root {\n",
       "  --xr-font-color0: var(--jp-content-font-color0, rgba(0, 0, 0, 1));\n",
       "  --xr-font-color2: var(--jp-content-font-color2, rgba(0, 0, 0, 0.54));\n",
       "  --xr-font-color3: var(--jp-content-font-color3, rgba(0, 0, 0, 0.38));\n",
       "  --xr-border-color: var(--jp-border-color2, #e0e0e0);\n",
       "  --xr-disabled-color: var(--jp-layout-color3, #bdbdbd);\n",
       "  --xr-background-color: var(--jp-layout-color0, white);\n",
       "  --xr-background-color-row-even: var(--jp-layout-color1, white);\n",
       "  --xr-background-color-row-odd: var(--jp-layout-color2, #eeeeee);\n",
       "}\n",
       "\n",
       "html[theme=\"dark\"],\n",
       "html[data-theme=\"dark\"],\n",
       "body[data-theme=\"dark\"],\n",
       "body.vscode-dark {\n",
       "  --xr-font-color0: rgba(255, 255, 255, 1);\n",
       "  --xr-font-color2: rgba(255, 255, 255, 0.54);\n",
       "  --xr-font-color3: rgba(255, 255, 255, 0.38);\n",
       "  --xr-border-color: #1f1f1f;\n",
       "  --xr-disabled-color: #515151;\n",
       "  --xr-background-color: #111111;\n",
       "  --xr-background-color-row-even: #111111;\n",
       "  --xr-background-color-row-odd: #313131;\n",
       "}\n",
       "\n",
       ".xr-wrap {\n",
       "  display: block !important;\n",
       "  min-width: 300px;\n",
       "  max-width: 700px;\n",
       "}\n",
       "\n",
       ".xr-text-repr-fallback {\n",
       "  /* fallback to plain text repr when CSS is not injected (untrusted notebook) */\n",
       "  display: none;\n",
       "}\n",
       "\n",
       ".xr-header {\n",
       "  padding-top: 6px;\n",
       "  padding-bottom: 6px;\n",
       "  margin-bottom: 4px;\n",
       "  border-bottom: solid 1px var(--xr-border-color);\n",
       "}\n",
       "\n",
       ".xr-header > div,\n",
       ".xr-header > ul {\n",
       "  display: inline;\n",
       "  margin-top: 0;\n",
       "  margin-bottom: 0;\n",
       "}\n",
       "\n",
       ".xr-obj-type,\n",
       ".xr-array-name {\n",
       "  margin-left: 2px;\n",
       "  margin-right: 10px;\n",
       "}\n",
       "\n",
       ".xr-obj-type {\n",
       "  color: var(--xr-font-color2);\n",
       "}\n",
       "\n",
       ".xr-sections {\n",
       "  padding-left: 0 !important;\n",
       "  display: grid;\n",
       "  grid-template-columns: 150px auto auto 1fr 0 20px 0 20px;\n",
       "}\n",
       "\n",
       ".xr-section-item {\n",
       "  display: contents;\n",
       "}\n",
       "\n",
       ".xr-section-item input {\n",
       "  display: inline-block;\n",
       "  opacity: 0;\n",
       "  height: 0;\n",
       "}\n",
       "\n",
       ".xr-section-item input + label {\n",
       "  color: var(--xr-disabled-color);\n",
       "}\n",
       "\n",
       ".xr-section-item input:enabled + label {\n",
       "  cursor: pointer;\n",
       "  color: var(--xr-font-color2);\n",
       "}\n",
       "\n",
       ".xr-section-item input:focus + label {\n",
       "  border: 2px solid var(--xr-font-color0);\n",
       "}\n",
       "\n",
       ".xr-section-item input:enabled + label:hover {\n",
       "  color: var(--xr-font-color0);\n",
       "}\n",
       "\n",
       ".xr-section-summary {\n",
       "  grid-column: 1;\n",
       "  color: var(--xr-font-color2);\n",
       "  font-weight: 500;\n",
       "}\n",
       "\n",
       ".xr-section-summary > span {\n",
       "  display: inline-block;\n",
       "  padding-left: 0.5em;\n",
       "}\n",
       "\n",
       ".xr-section-summary-in:disabled + label {\n",
       "  color: var(--xr-font-color2);\n",
       "}\n",
       "\n",
       ".xr-section-summary-in + label:before {\n",
       "  display: inline-block;\n",
       "  content: \"►\";\n",
       "  font-size: 11px;\n",
       "  width: 15px;\n",
       "  text-align: center;\n",
       "}\n",
       "\n",
       ".xr-section-summary-in:disabled + label:before {\n",
       "  color: var(--xr-disabled-color);\n",
       "}\n",
       "\n",
       ".xr-section-summary-in:checked + label:before {\n",
       "  content: \"▼\";\n",
       "}\n",
       "\n",
       ".xr-section-summary-in:checked + label > span {\n",
       "  display: none;\n",
       "}\n",
       "\n",
       ".xr-section-summary,\n",
       ".xr-section-inline-details {\n",
       "  padding-top: 4px;\n",
       "  padding-bottom: 4px;\n",
       "}\n",
       "\n",
       ".xr-section-inline-details {\n",
       "  grid-column: 2 / -1;\n",
       "}\n",
       "\n",
       ".xr-section-details {\n",
       "  display: none;\n",
       "  grid-column: 1 / -1;\n",
       "  margin-bottom: 5px;\n",
       "}\n",
       "\n",
       ".xr-section-summary-in:checked ~ .xr-section-details {\n",
       "  display: contents;\n",
       "}\n",
       "\n",
       ".xr-array-wrap {\n",
       "  grid-column: 1 / -1;\n",
       "  display: grid;\n",
       "  grid-template-columns: 20px auto;\n",
       "}\n",
       "\n",
       ".xr-array-wrap > label {\n",
       "  grid-column: 1;\n",
       "  vertical-align: top;\n",
       "}\n",
       "\n",
       ".xr-preview {\n",
       "  color: var(--xr-font-color3);\n",
       "}\n",
       "\n",
       ".xr-array-preview,\n",
       ".xr-array-data {\n",
       "  padding: 0 5px !important;\n",
       "  grid-column: 2;\n",
       "}\n",
       "\n",
       ".xr-array-data,\n",
       ".xr-array-in:checked ~ .xr-array-preview {\n",
       "  display: none;\n",
       "}\n",
       "\n",
       ".xr-array-in:checked ~ .xr-array-data,\n",
       ".xr-array-preview {\n",
       "  display: inline-block;\n",
       "}\n",
       "\n",
       ".xr-dim-list {\n",
       "  display: inline-block !important;\n",
       "  list-style: none;\n",
       "  padding: 0 !important;\n",
       "  margin: 0;\n",
       "}\n",
       "\n",
       ".xr-dim-list li {\n",
       "  display: inline-block;\n",
       "  padding: 0;\n",
       "  margin: 0;\n",
       "}\n",
       "\n",
       ".xr-dim-list:before {\n",
       "  content: \"(\";\n",
       "}\n",
       "\n",
       ".xr-dim-list:after {\n",
       "  content: \")\";\n",
       "}\n",
       "\n",
       ".xr-dim-list li:not(:last-child):after {\n",
       "  content: \",\";\n",
       "  padding-right: 5px;\n",
       "}\n",
       "\n",
       ".xr-has-index {\n",
       "  font-weight: bold;\n",
       "}\n",
       "\n",
       ".xr-var-list,\n",
       ".xr-var-item {\n",
       "  display: contents;\n",
       "}\n",
       "\n",
       ".xr-var-item > div,\n",
       ".xr-var-item label,\n",
       ".xr-var-item > .xr-var-name span {\n",
       "  background-color: var(--xr-background-color-row-even);\n",
       "  margin-bottom: 0;\n",
       "}\n",
       "\n",
       ".xr-var-item > .xr-var-name:hover span {\n",
       "  padding-right: 5px;\n",
       "}\n",
       "\n",
       ".xr-var-list > li:nth-child(odd) > div,\n",
       ".xr-var-list > li:nth-child(odd) > label,\n",
       ".xr-var-list > li:nth-child(odd) > .xr-var-name span {\n",
       "  background-color: var(--xr-background-color-row-odd);\n",
       "}\n",
       "\n",
       ".xr-var-name {\n",
       "  grid-column: 1;\n",
       "}\n",
       "\n",
       ".xr-var-dims {\n",
       "  grid-column: 2;\n",
       "}\n",
       "\n",
       ".xr-var-dtype {\n",
       "  grid-column: 3;\n",
       "  text-align: right;\n",
       "  color: var(--xr-font-color2);\n",
       "}\n",
       "\n",
       ".xr-var-preview {\n",
       "  grid-column: 4;\n",
       "}\n",
       "\n",
       ".xr-index-preview {\n",
       "  grid-column: 2 / 5;\n",
       "  color: var(--xr-font-color2);\n",
       "}\n",
       "\n",
       ".xr-var-name,\n",
       ".xr-var-dims,\n",
       ".xr-var-dtype,\n",
       ".xr-preview,\n",
       ".xr-attrs dt {\n",
       "  white-space: nowrap;\n",
       "  overflow: hidden;\n",
       "  text-overflow: ellipsis;\n",
       "  padding-right: 10px;\n",
       "}\n",
       "\n",
       ".xr-var-name:hover,\n",
       ".xr-var-dims:hover,\n",
       ".xr-var-dtype:hover,\n",
       ".xr-attrs dt:hover {\n",
       "  overflow: visible;\n",
       "  width: auto;\n",
       "  z-index: 1;\n",
       "}\n",
       "\n",
       ".xr-var-attrs,\n",
       ".xr-var-data,\n",
       ".xr-index-data {\n",
       "  display: none;\n",
       "  background-color: var(--xr-background-color) !important;\n",
       "  padding-bottom: 5px !important;\n",
       "}\n",
       "\n",
       ".xr-var-attrs-in:checked ~ .xr-var-attrs,\n",
       ".xr-var-data-in:checked ~ .xr-var-data,\n",
       ".xr-index-data-in:checked ~ .xr-index-data {\n",
       "  display: block;\n",
       "}\n",
       "\n",
       ".xr-var-data > table {\n",
       "  float: right;\n",
       "}\n",
       "\n",
       ".xr-var-name span,\n",
       ".xr-var-data,\n",
       ".xr-index-name div,\n",
       ".xr-index-data,\n",
       ".xr-attrs {\n",
       "  padding-left: 25px !important;\n",
       "}\n",
       "\n",
       ".xr-attrs,\n",
       ".xr-var-attrs,\n",
       ".xr-var-data,\n",
       ".xr-index-data {\n",
       "  grid-column: 1 / -1;\n",
       "}\n",
       "\n",
       "dl.xr-attrs {\n",
       "  padding: 0;\n",
       "  margin: 0;\n",
       "  display: grid;\n",
       "  grid-template-columns: 125px auto;\n",
       "}\n",
       "\n",
       ".xr-attrs dt,\n",
       ".xr-attrs dd {\n",
       "  padding: 0;\n",
       "  margin: 0;\n",
       "  float: left;\n",
       "  padding-right: 10px;\n",
       "  width: auto;\n",
       "}\n",
       "\n",
       ".xr-attrs dt {\n",
       "  font-weight: normal;\n",
       "  grid-column: 1;\n",
       "}\n",
       "\n",
       ".xr-attrs dt:hover span {\n",
       "  display: inline-block;\n",
       "  background: var(--xr-background-color);\n",
       "  padding-right: 10px;\n",
       "}\n",
       "\n",
       ".xr-attrs dd {\n",
       "  grid-column: 2;\n",
       "  white-space: pre-wrap;\n",
       "  word-break: break-all;\n",
       "}\n",
       "\n",
       ".xr-icon-database,\n",
       ".xr-icon-file-text2,\n",
       ".xr-no-icon {\n",
       "  display: inline-block;\n",
       "  vertical-align: middle;\n",
       "  width: 1em;\n",
       "  height: 1.5em !important;\n",
       "  stroke-width: 0;\n",
       "  stroke: currentColor;\n",
       "  fill: currentColor;\n",
       "}\n",
       "</style><pre class='xr-text-repr-fallback'>&lt;xarray.Dataset&gt; Size: 65MB\n",
       "Dimensions:    (time: 1980, bnds: 2, lat: 64, lon: 128)\n",
       "Coordinates:\n",
       "  * time       (time) object 16kB 1850-01-16 12:00:00 ... 2014-12-16 12:00:00\n",
       "  * lat        (lat) float64 512B -87.86 -85.1 -82.31 ... 82.31 85.1 87.86\n",
       "  * lon        (lon) float64 1kB 0.0 2.812 5.625 8.438 ... 351.6 354.4 357.2\n",
       "    height     float64 8B ...\n",
       "Dimensions without coordinates: bnds\n",
       "Data variables:\n",
       "    time_bnds  (time, bnds) object 32kB ...\n",
       "    lat_bnds   (lat, bnds) float64 1kB ...\n",
       "    lon_bnds   (lon, bnds) float64 2kB ...\n",
       "    tas        (time, lat, lon) float32 65MB ...\n",
       "    areacella  (lat, lon) float32 33kB ...\n",
       "Attributes: (12/55)\n",
       "    CCCma_model_hash:            3dedf95315d603326fde4f5340dc0519d80d10c0\n",
       "    CCCma_parent_runid:          rc3-pictrl\n",
       "    CCCma_pycmor_hash:           33c30511acc319a98240633965a04ca99c26427e\n",
       "    CCCma_runid:                 rc3.1-his01\n",
       "    Conventions:                 CF-1.7 CMIP-6.2\n",
       "    YMDH_branch_time_in_child:   1850:01:01:00\n",
       "    ...                          ...\n",
       "    variant_label:               r1i1p1f1\n",
       "    version:                     v20190429\n",
       "    license:                     CMIP6 model data produced by The Government ...\n",
       "    cmor_version:                3.4.0\n",
       "    activity_drs:                CMIP\n",
       "    member_id:                   r1i1p1f1</pre><div class='xr-wrap' style='display:none'><div class='xr-header'><div class='xr-obj-type'>xarray.Dataset</div></div><ul class='xr-sections'><li class='xr-section-item'><input id='section-a558c285-6df4-4fb1-af2e-bc48ab7dca47' class='xr-section-summary-in' type='checkbox' disabled ><label for='section-a558c285-6df4-4fb1-af2e-bc48ab7dca47' class='xr-section-summary'  title='Expand/collapse section'>Dimensions:</label><div class='xr-section-inline-details'><ul class='xr-dim-list'><li><span class='xr-has-index'>time</span>: 1980</li><li><span>bnds</span>: 2</li><li><span class='xr-has-index'>lat</span>: 64</li><li><span class='xr-has-index'>lon</span>: 128</li></ul></div><div class='xr-section-details'></div></li><li class='xr-section-item'><input id='section-9efc678e-871b-49e0-a154-4abe9f9175fd' class='xr-section-summary-in' type='checkbox'  checked><label for='section-9efc678e-871b-49e0-a154-4abe9f9175fd' class='xr-section-summary' >Coordinates: <span>(4)</span></label><div class='xr-section-inline-details'></div><div class='xr-section-details'><ul class='xr-var-list'><li class='xr-var-item'><div class='xr-var-name'><span class='xr-has-index'>time</span></div><div class='xr-var-dims'>(time)</div><div class='xr-var-dtype'>object</div><div class='xr-var-preview xr-preview'>1850-01-16 12:00:00 ... 2014-12-...</div><input id='attrs-c031d2c8-7148-4e1d-923f-b710bbc33d9c' class='xr-var-attrs-in' type='checkbox' ><label for='attrs-c031d2c8-7148-4e1d-923f-b710bbc33d9c' title='Show/Hide attributes'><svg class='icon xr-icon-file-text2'><use xlink:href='#icon-file-text2'></use></svg></label><input id='data-94aa7238-2d40-4978-8ffb-028aa5e1af00' class='xr-var-data-in' type='checkbox'><label for='data-94aa7238-2d40-4978-8ffb-028aa5e1af00' title='Show/Hide data repr'><svg class='icon xr-icon-database'><use xlink:href='#icon-database'></use></svg></label><div class='xr-var-attrs'><dl class='xr-attrs'><dt><span>bounds :</span></dt><dd>time_bnds</dd><dt><span>axis :</span></dt><dd>T</dd><dt><span>long_name :</span></dt><dd>time</dd><dt><span>standard_name :</span></dt><dd>time</dd></dl></div><div class='xr-var-data'><pre>array([cftime.DatetimeNoLeap(1850, 1, 16, 12, 0, 0, 0, has_year_zero=True),\n",
       "       cftime.DatetimeNoLeap(1850, 2, 15, 0, 0, 0, 0, has_year_zero=True),\n",
       "       cftime.DatetimeNoLeap(1850, 3, 16, 12, 0, 0, 0, has_year_zero=True),\n",
       "       ...,\n",
       "       cftime.DatetimeNoLeap(2014, 10, 16, 12, 0, 0, 0, has_year_zero=True),\n",
       "       cftime.DatetimeNoLeap(2014, 11, 16, 0, 0, 0, 0, has_year_zero=True),\n",
       "       cftime.DatetimeNoLeap(2014, 12, 16, 12, 0, 0, 0, has_year_zero=True)],\n",
       "      dtype=object)</pre></div></li><li class='xr-var-item'><div class='xr-var-name'><span class='xr-has-index'>lat</span></div><div class='xr-var-dims'>(lat)</div><div class='xr-var-dtype'>float64</div><div class='xr-var-preview xr-preview'>-87.86 -85.1 -82.31 ... 85.1 87.86</div><input id='attrs-787cdf2d-468f-4706-b8d5-683f424b2d17' class='xr-var-attrs-in' type='checkbox' ><label for='attrs-787cdf2d-468f-4706-b8d5-683f424b2d17' title='Show/Hide attributes'><svg class='icon xr-icon-file-text2'><use xlink:href='#icon-file-text2'></use></svg></label><input id='data-31e11505-317c-4ec6-a0b9-01f2393dff20' class='xr-var-data-in' type='checkbox'><label for='data-31e11505-317c-4ec6-a0b9-01f2393dff20' title='Show/Hide data repr'><svg class='icon xr-icon-database'><use xlink:href='#icon-database'></use></svg></label><div class='xr-var-attrs'><dl class='xr-attrs'><dt><span>bounds :</span></dt><dd>lat_bnds</dd><dt><span>units :</span></dt><dd>degrees_north</dd><dt><span>axis :</span></dt><dd>Y</dd><dt><span>long_name :</span></dt><dd>Latitude</dd><dt><span>standard_name :</span></dt><dd>latitude</dd></dl></div><div class='xr-var-data'><pre>array([-87.863799, -85.096527, -82.312913, -79.525607, -76.7369  , -73.947515,\n",
       "       -71.157752, -68.367756, -65.577607, -62.787352, -59.99702 , -57.206632,\n",
       "       -54.4162  , -51.625734, -48.835241, -46.044727, -43.254195, -40.463648,\n",
       "       -37.67309 , -34.882521, -32.091944, -29.30136 , -26.510769, -23.720174,\n",
       "       -20.929574, -18.138971, -15.348365, -12.557756,  -9.767146,  -6.976534,\n",
       "        -4.185921,  -1.395307,   1.395307,   4.185921,   6.976534,   9.767146,\n",
       "        12.557756,  15.348365,  18.138971,  20.929574,  23.720174,  26.510769,\n",
       "        29.30136 ,  32.091944,  34.882521,  37.67309 ,  40.463648,  43.254195,\n",
       "        46.044727,  48.835241,  51.625734,  54.4162  ,  57.206632,  59.99702 ,\n",
       "        62.787352,  65.577607,  68.367756,  71.157752,  73.947515,  76.7369  ,\n",
       "        79.525607,  82.312913,  85.096527,  87.863799])</pre></div></li><li class='xr-var-item'><div class='xr-var-name'><span class='xr-has-index'>lon</span></div><div class='xr-var-dims'>(lon)</div><div class='xr-var-dtype'>float64</div><div class='xr-var-preview xr-preview'>0.0 2.812 5.625 ... 354.4 357.2</div><input id='attrs-8703c525-6437-44ae-8d7d-112887eaca02' class='xr-var-attrs-in' type='checkbox' ><label for='attrs-8703c525-6437-44ae-8d7d-112887eaca02' title='Show/Hide attributes'><svg class='icon xr-icon-file-text2'><use xlink:href='#icon-file-text2'></use></svg></label><input id='data-99db6f6f-b5a4-4568-afdd-a2ee2d22b623' class='xr-var-data-in' type='checkbox'><label for='data-99db6f6f-b5a4-4568-afdd-a2ee2d22b623' title='Show/Hide data repr'><svg class='icon xr-icon-database'><use xlink:href='#icon-database'></use></svg></label><div class='xr-var-attrs'><dl class='xr-attrs'><dt><span>bounds :</span></dt><dd>lon_bnds</dd><dt><span>units :</span></dt><dd>degrees_east</dd><dt><span>axis :</span></dt><dd>X</dd><dt><span>long_name :</span></dt><dd>Longitude</dd><dt><span>standard_name :</span></dt><dd>longitude</dd></dl></div><div class='xr-var-data'><pre>array([  0.    ,   2.8125,   5.625 ,   8.4375,  11.25  ,  14.0625,  16.875 ,\n",
       "        19.6875,  22.5   ,  25.3125,  28.125 ,  30.9375,  33.75  ,  36.5625,\n",
       "        39.375 ,  42.1875,  45.    ,  47.8125,  50.625 ,  53.4375,  56.25  ,\n",
       "        59.0625,  61.875 ,  64.6875,  67.5   ,  70.3125,  73.125 ,  75.9375,\n",
       "        78.75  ,  81.5625,  84.375 ,  87.1875,  90.    ,  92.8125,  95.625 ,\n",
       "        98.4375, 101.25  , 104.0625, 106.875 , 109.6875, 112.5   , 115.3125,\n",
       "       118.125 , 120.9375, 123.75  , 126.5625, 129.375 , 132.1875, 135.    ,\n",
       "       137.8125, 140.625 , 143.4375, 146.25  , 149.0625, 151.875 , 154.6875,\n",
       "       157.5   , 160.3125, 163.125 , 165.9375, 168.75  , 171.5625, 174.375 ,\n",
       "       177.1875, 180.    , 182.8125, 185.625 , 188.4375, 191.25  , 194.0625,\n",
       "       196.875 , 199.6875, 202.5   , 205.3125, 208.125 , 210.9375, 213.75  ,\n",
       "       216.5625, 219.375 , 222.1875, 225.    , 227.8125, 230.625 , 233.4375,\n",
       "       236.25  , 239.0625, 241.875 , 244.6875, 247.5   , 250.3125, 253.125 ,\n",
       "       255.9375, 258.75  , 261.5625, 264.375 , 267.1875, 270.    , 272.8125,\n",
       "       275.625 , 278.4375, 281.25  , 284.0625, 286.875 , 289.6875, 292.5   ,\n",
       "       295.3125, 298.125 , 300.9375, 303.75  , 306.5625, 309.375 , 312.1875,\n",
       "       315.    , 317.8125, 320.625 , 323.4375, 326.25  , 329.0625, 331.875 ,\n",
       "       334.6875, 337.5   , 340.3125, 343.125 , 345.9375, 348.75  , 351.5625,\n",
       "       354.375 , 357.1875])</pre></div></li><li class='xr-var-item'><div class='xr-var-name'><span>height</span></div><div class='xr-var-dims'>()</div><div class='xr-var-dtype'>float64</div><div class='xr-var-preview xr-preview'>...</div><input id='attrs-fae0e898-9b01-40db-8c06-4d2ffdaa2a61' class='xr-var-attrs-in' type='checkbox' ><label for='attrs-fae0e898-9b01-40db-8c06-4d2ffdaa2a61' title='Show/Hide attributes'><svg class='icon xr-icon-file-text2'><use xlink:href='#icon-file-text2'></use></svg></label><input id='data-5acb3fdc-68e5-4164-a8d4-d2545b9a3486' class='xr-var-data-in' type='checkbox'><label for='data-5acb3fdc-68e5-4164-a8d4-d2545b9a3486' title='Show/Hide data repr'><svg class='icon xr-icon-database'><use xlink:href='#icon-database'></use></svg></label><div class='xr-var-attrs'><dl class='xr-attrs'><dt><span>units :</span></dt><dd>m</dd><dt><span>axis :</span></dt><dd>Z</dd><dt><span>positive :</span></dt><dd>up</dd><dt><span>long_name :</span></dt><dd>height</dd><dt><span>standard_name :</span></dt><dd>height</dd></dl></div><div class='xr-var-data'><pre>[1 values with dtype=float64]</pre></div></li></ul></div></li><li class='xr-section-item'><input id='section-24d30e24-3cfa-4e58-866d-b2849e172a52' class='xr-section-summary-in' type='checkbox'  checked><label for='section-24d30e24-3cfa-4e58-866d-b2849e172a52' class='xr-section-summary' >Data variables: <span>(5)</span></label><div class='xr-section-inline-details'></div><div class='xr-section-details'><ul class='xr-var-list'><li class='xr-var-item'><div class='xr-var-name'><span>time_bnds</span></div><div class='xr-var-dims'>(time, bnds)</div><div class='xr-var-dtype'>object</div><div class='xr-var-preview xr-preview'>...</div><input id='attrs-3e2bdf0e-a493-43ed-abb3-9b1302c91306' class='xr-var-attrs-in' type='checkbox' disabled><label for='attrs-3e2bdf0e-a493-43ed-abb3-9b1302c91306' title='Show/Hide attributes'><svg class='icon xr-icon-file-text2'><use xlink:href='#icon-file-text2'></use></svg></label><input id='data-8ffd2961-7ec6-4bdc-9719-ac112d0788b5' class='xr-var-data-in' type='checkbox'><label for='data-8ffd2961-7ec6-4bdc-9719-ac112d0788b5' title='Show/Hide data repr'><svg class='icon xr-icon-database'><use xlink:href='#icon-database'></use></svg></label><div class='xr-var-attrs'><dl class='xr-attrs'></dl></div><div class='xr-var-data'><pre>[3960 values with dtype=object]</pre></div></li><li class='xr-var-item'><div class='xr-var-name'><span>lat_bnds</span></div><div class='xr-var-dims'>(lat, bnds)</div><div class='xr-var-dtype'>float64</div><div class='xr-var-preview xr-preview'>...</div><input id='attrs-600e1d85-2dd6-43a7-a938-4e55893b40a9' class='xr-var-attrs-in' type='checkbox' disabled><label for='attrs-600e1d85-2dd6-43a7-a938-4e55893b40a9' title='Show/Hide attributes'><svg class='icon xr-icon-file-text2'><use xlink:href='#icon-file-text2'></use></svg></label><input id='data-0a20bfff-c117-4793-bd46-3bdef99a1357' class='xr-var-data-in' type='checkbox'><label for='data-0a20bfff-c117-4793-bd46-3bdef99a1357' title='Show/Hide data repr'><svg class='icon xr-icon-database'><use xlink:href='#icon-database'></use></svg></label><div class='xr-var-attrs'><dl class='xr-attrs'></dl></div><div class='xr-var-data'><pre>[128 values with dtype=float64]</pre></div></li><li class='xr-var-item'><div class='xr-var-name'><span>lon_bnds</span></div><div class='xr-var-dims'>(lon, bnds)</div><div class='xr-var-dtype'>float64</div><div class='xr-var-preview xr-preview'>...</div><input id='attrs-3b012b1c-3daa-42cf-9d73-9af8df3615a2' class='xr-var-attrs-in' type='checkbox' disabled><label for='attrs-3b012b1c-3daa-42cf-9d73-9af8df3615a2' title='Show/Hide attributes'><svg class='icon xr-icon-file-text2'><use xlink:href='#icon-file-text2'></use></svg></label><input id='data-49c4cb40-f311-47f6-9d7f-63c69be66983' class='xr-var-data-in' type='checkbox'><label for='data-49c4cb40-f311-47f6-9d7f-63c69be66983' title='Show/Hide data repr'><svg class='icon xr-icon-database'><use xlink:href='#icon-database'></use></svg></label><div class='xr-var-attrs'><dl class='xr-attrs'></dl></div><div class='xr-var-data'><pre>[256 values with dtype=float64]</pre></div></li><li class='xr-var-item'><div class='xr-var-name'><span>tas</span></div><div class='xr-var-dims'>(time, lat, lon)</div><div class='xr-var-dtype'>float32</div><div class='xr-var-preview xr-preview'>...</div><input id='attrs-1269d159-b67f-4622-924f-459fd9d267ac' class='xr-var-attrs-in' type='checkbox' ><label for='attrs-1269d159-b67f-4622-924f-459fd9d267ac' title='Show/Hide attributes'><svg class='icon xr-icon-file-text2'><use xlink:href='#icon-file-text2'></use></svg></label><input id='data-a536fe74-a342-4a1a-9baa-97b358022e3e' class='xr-var-data-in' type='checkbox'><label for='data-a536fe74-a342-4a1a-9baa-97b358022e3e' title='Show/Hide data repr'><svg class='icon xr-icon-database'><use xlink:href='#icon-database'></use></svg></label><div class='xr-var-attrs'><dl class='xr-attrs'><dt><span>standard_name :</span></dt><dd>air_temperature</dd><dt><span>long_name :</span></dt><dd>Near-Surface Air Temperature</dd><dt><span>comment :</span></dt><dd>ST+273.16, CMIP_table_comment: near-surface (usually, 2 meter) air temperature</dd><dt><span>units :</span></dt><dd>K</dd><dt><span>original_name :</span></dt><dd>ST</dd><dt><span>history :</span></dt><dd>degctok 2019-04-30T17:32:17Z altered by CMOR: Treated scalar dimension: &#x27;height&#x27;. 2019-04-30T17:32:17Z altered by CMOR: Reordered dimensions, original order: lat lon time. 2019-04-30T17:32:17Z altered by CMOR: replaced missing value flag (1e+38) with standard missing value (1e+20).</dd><dt><span>cell_methods :</span></dt><dd>area: time: mean</dd><dt><span>cell_measures :</span></dt><dd>area: areacella</dd></dl></div><div class='xr-var-data'><pre>[16220160 values with dtype=float32]</pre></div></li><li class='xr-var-item'><div class='xr-var-name'><span>areacella</span></div><div class='xr-var-dims'>(lat, lon)</div><div class='xr-var-dtype'>float32</div><div class='xr-var-preview xr-preview'>...</div><input id='attrs-fc80af8f-0759-4ac1-9caf-58a06262bdf8' class='xr-var-attrs-in' type='checkbox' ><label for='attrs-fc80af8f-0759-4ac1-9caf-58a06262bdf8' title='Show/Hide attributes'><svg class='icon xr-icon-file-text2'><use xlink:href='#icon-file-text2'></use></svg></label><input id='data-aa50c62e-4619-4a97-858e-2072f6f045a5' class='xr-var-data-in' type='checkbox'><label for='data-aa50c62e-4619-4a97-858e-2072f6f045a5' title='Show/Hide data repr'><svg class='icon xr-icon-database'><use xlink:href='#icon-database'></use></svg></label><div class='xr-var-attrs'><dl class='xr-attrs'><dt><span>standard_name :</span></dt><dd>cell_area</dd><dt><span>long_name :</span></dt><dd>Grid-Cell Area for Atmospheric Grid Variables</dd><dt><span>comment :</span></dt><dd>Use =mkwght=; afrac*4*Pi*R^2, CMIP_table_comment: For atmospheres with more than 1 mesh (e.g., staggered grids), report areas that apply to surface vertical fluxes of energy.</dd><dt><span>units :</span></dt><dd>m2</dd><dt><span>original_name :</span></dt><dd>WGHT</dd><dt><span>history :</span></dt><dd>areacella 2019-05-01T18:36:43Z altered by CMOR: replaced missing value flag (1e+38) with standard missing value (1e+20).</dd><dt><span>cell_methods :</span></dt><dd>area: sum</dd></dl></div><div class='xr-var-data'><pre>[8192 values with dtype=float32]</pre></div></li></ul></div></li><li class='xr-section-item'><input id='section-ee62e77c-4b5e-4304-9999-e2d2af1c73a8' class='xr-section-summary-in' type='checkbox'  ><label for='section-ee62e77c-4b5e-4304-9999-e2d2af1c73a8' class='xr-section-summary' >Indexes: <span>(3)</span></label><div class='xr-section-inline-details'></div><div class='xr-section-details'><ul class='xr-var-list'><li class='xr-var-item'><div class='xr-index-name'><div>time</div></div><div class='xr-index-preview'>PandasIndex</div><input type='checkbox' disabled/><label></label><input id='index-4c8c45f3-529e-4b77-9000-6e4faa145c53' class='xr-index-data-in' type='checkbox'/><label for='index-4c8c45f3-529e-4b77-9000-6e4faa145c53' title='Show/Hide index repr'><svg class='icon xr-icon-database'><use xlink:href='#icon-database'></use></svg></label><div class='xr-index-data'><pre>PandasIndex(CFTimeIndex([1850-01-16 12:00:00, 1850-02-15 00:00:00, 1850-03-16 12:00:00,\n",
       "             1850-04-16 00:00:00, 1850-05-16 12:00:00, 1850-06-16 00:00:00,\n",
       "             1850-07-16 12:00:00, 1850-08-16 12:00:00, 1850-09-16 00:00:00,\n",
       "             1850-10-16 12:00:00,\n",
       "             ...\n",
       "             2014-03-16 12:00:00, 2014-04-16 00:00:00, 2014-05-16 12:00:00,\n",
       "             2014-06-16 00:00:00, 2014-07-16 12:00:00, 2014-08-16 12:00:00,\n",
       "             2014-09-16 00:00:00, 2014-10-16 12:00:00, 2014-11-16 00:00:00,\n",
       "             2014-12-16 12:00:00],\n",
       "            dtype=&#x27;object&#x27;, length=1980, calendar=&#x27;noleap&#x27;, freq=None))</pre></div></li><li class='xr-var-item'><div class='xr-index-name'><div>lat</div></div><div class='xr-index-preview'>PandasIndex</div><input type='checkbox' disabled/><label></label><input id='index-4ce8a2f4-c51e-47d4-97d8-51dcbccd2e0d' class='xr-index-data-in' type='checkbox'/><label for='index-4ce8a2f4-c51e-47d4-97d8-51dcbccd2e0d' title='Show/Hide index repr'><svg class='icon xr-icon-database'><use xlink:href='#icon-database'></use></svg></label><div class='xr-index-data'><pre>PandasIndex(Index([ -87.86379883923273,  -85.09652698831745,  -82.31291294788636,\n",
       "        -79.52560657265951,   -76.7368996803684,  -73.94751515398974,\n",
       "        -71.15775201158739,  -68.36775610831324,  -65.57760701082788,\n",
       "        -62.78735179896313, -59.997020108491355,   -57.2066315276433,\n",
       "        -54.41619952608627, -51.625733674938296,  -48.83524096625064,\n",
       "       -46.044726631101724,  -43.25419466535099,  -40.46364817811508,\n",
       "        -37.67308962904537,   -34.8825209937735, -32.091943881744044,\n",
       "       -29.301359621762764, -26.510769325211022,  -23.72017393353477,\n",
       "        -20.92957425448953, -18.138970990239372, -15.348364759491508,\n",
       "        -12.55775611523069,  -9.767145559195578,  -6.976533553948642,\n",
       "        -4.185920533189158, -1.3953069108194975,  1.3953069108194975,\n",
       "         4.185920533189158,   6.976533553948642,   9.767145559195578,\n",
       "         12.55775611523069,  15.348364759491508,  18.138970990239372,\n",
       "         20.92957425448953,   23.72017393353477,  26.510769325211022,\n",
       "        29.301359621762764,  32.091943881744044,    34.8825209937735,\n",
       "         37.67308962904537,   40.46364817811508,   43.25419466535099,\n",
       "        46.044726631101724,   48.83524096625064,  51.625733674938296,\n",
       "         54.41619952608627,    57.2066315276433,  59.997020108491355,\n",
       "         62.78735179896313,   65.57760701082788,   68.36775610831324,\n",
       "         71.15775201158739,   73.94751515398974,    76.7368996803684,\n",
       "         79.52560657265951,   82.31291294788636,   85.09652698831745,\n",
       "         87.86379883923273],\n",
       "      dtype=&#x27;float64&#x27;, name=&#x27;lat&#x27;))</pre></div></li><li class='xr-var-item'><div class='xr-index-name'><div>lon</div></div><div class='xr-index-preview'>PandasIndex</div><input type='checkbox' disabled/><label></label><input id='index-88c3c6cf-f0d4-4a1c-8fd3-e3aa942df5e1' class='xr-index-data-in' type='checkbox'/><label for='index-88c3c6cf-f0d4-4a1c-8fd3-e3aa942df5e1' title='Show/Hide index repr'><svg class='icon xr-icon-database'><use xlink:href='#icon-database'></use></svg></label><div class='xr-index-data'><pre>PandasIndex(Index([     0.0,   2.8125,    5.625,   8.4375,    11.25,  14.0625,   16.875,\n",
       "        19.6875,     22.5,  25.3125,\n",
       "       ...\n",
       "        331.875, 334.6875,    337.5, 340.3125,  343.125, 345.9375,   348.75,\n",
       "       351.5625,  354.375, 357.1875],\n",
       "      dtype=&#x27;float64&#x27;, name=&#x27;lon&#x27;, length=128))</pre></div></li></ul></div></li><li class='xr-section-item'><input id='section-d543843c-dd28-4edf-8229-5664d8e24faa' class='xr-section-summary-in' type='checkbox'  ><label for='section-d543843c-dd28-4edf-8229-5664d8e24faa' class='xr-section-summary' >Attributes: <span>(55)</span></label><div class='xr-section-inline-details'></div><div class='xr-section-details'><dl class='xr-attrs'><dt><span>CCCma_model_hash :</span></dt><dd>3dedf95315d603326fde4f5340dc0519d80d10c0</dd><dt><span>CCCma_parent_runid :</span></dt><dd>rc3-pictrl</dd><dt><span>CCCma_pycmor_hash :</span></dt><dd>33c30511acc319a98240633965a04ca99c26427e</dd><dt><span>CCCma_runid :</span></dt><dd>rc3.1-his01</dd><dt><span>Conventions :</span></dt><dd>CF-1.7 CMIP-6.2</dd><dt><span>YMDH_branch_time_in_child :</span></dt><dd>1850:01:01:00</dd><dt><span>YMDH_branch_time_in_parent :</span></dt><dd>5201:01:01:00</dd><dt><span>activity_id :</span></dt><dd>CMIP</dd><dt><span>branch_method :</span></dt><dd>Spin-up documentation</dd><dt><span>branch_time_in_child :</span></dt><dd>0.0</dd><dt><span>branch_time_in_parent :</span></dt><dd>1223115.0</dd><dt><span>contact :</span></dt><dd>ec.cccma.info-info.ccmac.ec@canada.ca</dd><dt><span>creation_date :</span></dt><dd>2019-04-30T17:32:17Z</dd><dt><span>data_specs_version :</span></dt><dd>01.00.29</dd><dt><span>experiment :</span></dt><dd>all-forcing simulation of the recent past</dd><dt><span>experiment_id :</span></dt><dd>historical</dd><dt><span>external_variables :</span></dt><dd>areacella</dd><dt><span>forcing_index :</span></dt><dd>1</dd><dt><span>frequency :</span></dt><dd>mon</dd><dt><span>further_info_url :</span></dt><dd>https://furtherinfo.es-doc.org/CMIP6.CCCma.CanESM5.historical.none.r1i1p1f1</dd><dt><span>grid :</span></dt><dd>T63L49 native atmosphere, T63 Linear Gaussian Grid; 128 x 64 longitude/latitude; 49 levels; top level 1 hPa</dd><dt><span>grid_label :</span></dt><dd>gn</dd><dt><span>history :</span></dt><dd>2019-04-30T17:32:17Z ;rewrote data to be consistent with CMIP for variable tas found in table Amon.;\n",
       "Output from $runid</dd><dt><span>initialization_index :</span></dt><dd>1</dd><dt><span>institution :</span></dt><dd>Canadian Centre for Climate Modelling and Analysis, Environment and Climate Change Canada, Victoria, BC V8P 5C2, Canada</dd><dt><span>institution_id :</span></dt><dd>CCCma</dd><dt><span>mip_era :</span></dt><dd>CMIP6</dd><dt><span>nominal_resolution :</span></dt><dd>500 km</dd><dt><span>parent_activity_id :</span></dt><dd>CMIP</dd><dt><span>parent_experiment_id :</span></dt><dd>piControl</dd><dt><span>parent_mip_era :</span></dt><dd>CMIP6</dd><dt><span>parent_source_id :</span></dt><dd>CanESM5</dd><dt><span>parent_time_units :</span></dt><dd>days since 1850-01-01 0:0:0.0</dd><dt><span>parent_variant_label :</span></dt><dd>r1i1p1f1</dd><dt><span>physics_index :</span></dt><dd>1</dd><dt><span>product :</span></dt><dd>model-output</dd><dt><span>realization_index :</span></dt><dd>1</dd><dt><span>realm :</span></dt><dd>atmos</dd><dt><span>references :</span></dt><dd>Geophysical Model Development Special issue on CanESM5 (https://www.geosci-model-dev.net/special_issues.html)</dd><dt><span>source :</span></dt><dd>CanESM5 (2019): \n",
       "aerosol: interactive\n",
       "atmos: CanAM5 (T63L49 native atmosphere, T63 Linear Gaussian Grid; 128 x 64 longitude/latitude; 49 levels; top level 1 hPa)\n",
       "atmosChem: specified oxidants for aerosols\n",
       "land: CLASS3.6/CTEM1.2\n",
       "landIce: specified ice sheets\n",
       "ocean: NEMO3.4.1 (ORCA1 tripolar grid, 1 deg with refinement to 1/3 deg within 20 degrees of the equator; 361 x 290 longitude/latitude; 45 vertical levels; top grid cell 0-6.19 m)\n",
       "ocnBgchem: Canadian Model of Ocean Carbon (CMOC); NPZD ecosystem with OMIP prescribed carbonate chemistry\n",
       "seaIce: LIM2</dd><dt><span>source_id :</span></dt><dd>CanESM5</dd><dt><span>source_type :</span></dt><dd>AOGCM</dd><dt><span>sub_experiment :</span></dt><dd>none</dd><dt><span>sub_experiment_id :</span></dt><dd>none</dd><dt><span>table_id :</span></dt><dd>Amon</dd><dt><span>table_info :</span></dt><dd>Creation Date:(20 February 2019) MD5:374fbe5a2bcca535c40f7f23da271e49</dd><dt><span>title :</span></dt><dd>CanESM5 output prepared for CMIP6</dd><dt><span>tracking_id :</span></dt><dd>hdl:21.14100/872062df-acae-499b-aa0f-9eaca7681abc</dd><dt><span>variable_id :</span></dt><dd>tas</dd><dt><span>variant_label :</span></dt><dd>r1i1p1f1</dd><dt><span>version :</span></dt><dd>v20190429</dd><dt><span>license :</span></dt><dd>CMIP6 model data produced by The Government of Canada (Canadian Centre for Climate Modelling and Analysis, Environment and Climate Change Canada) is licensed under a Creative Commons Attribution ShareAlike 4.0 International License (https://creativecommons.org/licenses). Consult https://pcmdi.llnl.gov/CMIP6/TermsOfUse for terms of use governing CMIP6 output, including citation requirements and proper acknowledgment. Further information about this data, including some limitations, can be found via the further_info_url (recorded as a global attribute in this file) and at https:///pcmdi.llnl.gov/. The data producers and data providers make no warranty, either express or implied, including, but not limited to, warranties of merchantability and fitness for a particular purpose. All liabilities arising from the supply of the information (including any liability arising in negligence) are excluded to the fullest extent permitted by law.</dd><dt><span>cmor_version :</span></dt><dd>3.4.0</dd><dt><span>activity_drs :</span></dt><dd>CMIP</dd><dt><span>member_id :</span></dt><dd>r1i1p1f1</dd></dl></div></li></ul></div></div>"
      ],
      "text/plain": [
       "<xarray.Dataset> Size: 65MB\n",
       "Dimensions:    (time: 1980, bnds: 2, lat: 64, lon: 128)\n",
       "Coordinates:\n",
       "  * time       (time) object 16kB 1850-01-16 12:00:00 ... 2014-12-16 12:00:00\n",
       "  * lat        (lat) float64 512B -87.86 -85.1 -82.31 ... 82.31 85.1 87.86\n",
       "  * lon        (lon) float64 1kB 0.0 2.812 5.625 8.438 ... 351.6 354.4 357.2\n",
       "    height     float64 8B ...\n",
       "Dimensions without coordinates: bnds\n",
       "Data variables:\n",
       "    time_bnds  (time, bnds) object 32kB ...\n",
       "    lat_bnds   (lat, bnds) float64 1kB ...\n",
       "    lon_bnds   (lon, bnds) float64 2kB ...\n",
       "    tas        (time, lat, lon) float32 65MB ...\n",
       "    areacella  (lat, lon) float32 33kB ...\n",
       "Attributes: (12/55)\n",
       "    CCCma_model_hash:            3dedf95315d603326fde4f5340dc0519d80d10c0\n",
       "    CCCma_parent_runid:          rc3-pictrl\n",
       "    CCCma_pycmor_hash:           33c30511acc319a98240633965a04ca99c26427e\n",
       "    CCCma_runid:                 rc3.1-his01\n",
       "    Conventions:                 CF-1.7 CMIP-6.2\n",
       "    YMDH_branch_time_in_child:   1850:01:01:00\n",
       "    ...                          ...\n",
       "    variant_label:               r1i1p1f1\n",
       "    version:                     v20190429\n",
       "    license:                     CMIP6 model data produced by The Government ...\n",
       "    cmor_version:                3.4.0\n",
       "    activity_drs:                CMIP\n",
       "    member_id:                   r1i1p1f1"
      ]
     },
     "execution_count": 11,
     "metadata": {},
     "output_type": "execute_result"
    }
   ],
   "source": [
    "dsd[\"tas\"]"
   ]
  },
  {
   "cell_type": "code",
   "execution_count": 13,
   "metadata": {},
   "outputs": [
    {
     "data": {
      "text/plain": [
       "<matplotlib.collections.QuadMesh at 0x7eef10ffce90>"
      ]
     },
     "execution_count": 13,
     "metadata": {},
     "output_type": "execute_result"
    },
    {
     "data": {
      "image/png": "[encoded data removed]",
      "text/plain": [
       "<Figure size 640x480 with 2 Axes>"
      ]
     },
     "metadata": {},
     "output_type": "display_data"
    }
   ],
   "source": [
    "ds_plot = dsd[\"tas\"][\"tas\"].mean(dim=\"time\") - 273.15  # to [C]\n",
    "ds_plot.plot(cmap=\"bwr\", vmin=-40, vmax=40)"
   ]
  },
  {
   "cell_type": "markdown",
   "metadata": {},
   "source": [
    "---\n",
    "### Access OBS4MIPS\n",
    "\n",
    "In this section we show an example how to access data from OBS4MIPS. "
   ]
  },
  {
   "cell_type": "code",
   "execution_count": 21,
   "metadata": {},
   "outputs": [],
   "source": [
    "cat = ESGFCatalog()"
   ]
  },
  {
   "cell_type": "code",
   "execution_count": 28,
   "metadata": {},
   "outputs": [
    {
     "data": {
      "application/vnd.jupyter.widget-view+json": {
       "model_id": "9cb12ee409a944769840371c214ada37",
       "version_major": 2,
       "version_minor": 0
      },
      "text/plain": [
       "   Searching indices:   0%|          |0/2 [       ?index/s]"
      ]
     },
     "metadata": {},
     "output_type": "display_data"
    },
    {
     "data": {
      "text/plain": [
       "Summary information for 20000 results:\n",
       "mip_era                                                     [CMIP6]\n",
       "activity_drs              [PAMIP, DCPP, DAMIP, ScenarioMIP, VolMIP]\n",
       "institution_id    [NCC, IPSL, MPI-M, BCC, NCAR, CCCma, NOAA-GFDL...\n",
       "source_id         [NorESM2-LM, IPSL-CM6A-LR, MPI-ESM1-2-HR, BCC-...\n",
       "experiment_id     [pdSST-futAntSIC, pdSST-futArcSIC, pdSST-piAnt...\n",
       "member_id         [r77i1p1f1, r10i1p1f1, r75i1p1f1, r9i1p1f1, r3...\n",
       "table_id          [EmonZ, Emon, CFmon, Amon, Lmon, AERmon, LImon...\n",
       "variable_id       [vtem, cltmodis, fNgasFire, nLand, cSoil, clim...\n",
       "grid_label                              [gn, gm, gr, grz, gr1, gnz]\n",
       "dtype: object"
      ]
     },
     "execution_count": 28,
     "metadata": {},
     "output_type": "execute_result"
    }
   ],
   "source": [
    "cat.search()"
   ]
  },
  {
   "cell_type": "code",
   "execution_count": 32,
   "metadata": {},
   "outputs": [],
   "source": [
    "cat = ESGFCatalog()"
   ]
  },
  {
   "cell_type": "code",
   "execution_count": 33,
   "metadata": {},
   "outputs": [
    {
     "data": {
      "application/vnd.jupyter.widget-view+json": {
       "model_id": "38f680e078b34a18b40d4fdf5cd35503",
       "version_major": 2,
       "version_minor": 0
      },
      "text/plain": [
       "   Searching indices:   0%|          |0/2 [       ?index/s]"
      ]
     },
     "metadata": {},
     "output_type": "display_data"
    },
    {
     "ename": "NoSearchResults",
     "evalue": "",
     "output_type": "error",
     "traceback": [
      "\u001b[31m---------------------------------------------------------------------------\u001b[39m",
      "\u001b[31mNoSearchResults\u001b[39m                           Traceback (most recent call last)",
      "\u001b[36mCell\u001b[39m\u001b[36m \u001b[39m\u001b[32mIn[33]\u001b[39m\u001b[32m, line 2\u001b[39m\n\u001b[32m      1\u001b[39m \u001b[38;5;66;03m# List available datasets for the \"obs4mips\" project\u001b[39;00m\n\u001b[32m----> \u001b[39m\u001b[32m2\u001b[39m \u001b[43mcat\u001b[49m\u001b[43m.\u001b[49m\u001b[43msearch\u001b[49m\u001b[43m(\u001b[49m\u001b[43mproject\u001b[49m\u001b[43m=\u001b[49m\u001b[33;43m\"\u001b[39;49m\u001b[33;43mobs4mips\u001b[39;49m\u001b[33;43m\"\u001b[39;49m\u001b[43m)\u001b[49m\n",
      "\u001b[36mFile \u001b[39m\u001b[32m~/micromamba/envs/ect/lib/python3.12/site-packages/intake_esgf/catalog.py:336\u001b[39m, in \u001b[36mESGFCatalog.search\u001b[39m\u001b[34m(self, quiet, **search)\u001b[39m\n\u001b[32m    334\u001b[39m search_time = time.time()\n\u001b[32m    335\u001b[39m dfs = ThreadPool(\u001b[38;5;28mlen\u001b[39m(\u001b[38;5;28mself\u001b[39m.indices)).imap_unordered(_search, \u001b[38;5;28mself\u001b[39m.indices)\n\u001b[32m--> \u001b[39m\u001b[32m336\u001b[39m \u001b[38;5;28mself\u001b[39m.df = \u001b[43mbase\u001b[49m\u001b[43m.\u001b[49m\u001b[43mcombine_results\u001b[49m\u001b[43m(\u001b[49m\n\u001b[32m    337\u001b[39m \u001b[43m    \u001b[49m\u001b[43mtqdm\u001b[49m\u001b[43m(\u001b[49m\n\u001b[32m    338\u001b[39m \u001b[43m        \u001b[49m\u001b[43mdfs\u001b[49m\u001b[43m,\u001b[49m\n\u001b[32m    339\u001b[39m \u001b[43m        \u001b[49m\u001b[43mdisable\u001b[49m\u001b[43m=\u001b[49m\u001b[43mquiet\u001b[49m\u001b[43m,\u001b[49m\n\u001b[32m    340\u001b[39m \u001b[43m        \u001b[49m\u001b[43mbar_format\u001b[49m\u001b[43m=\u001b[49m\u001b[43mbase\u001b[49m\u001b[43m.\u001b[49m\u001b[43mbar_format\u001b[49m\u001b[43m,\u001b[49m\n\u001b[32m    341\u001b[39m \u001b[43m        \u001b[49m\u001b[43munit\u001b[49m\u001b[43m=\u001b[49m\u001b[33;43m\"\u001b[39;49m\u001b[33;43mindex\u001b[39;49m\u001b[33;43m\"\u001b[39;49m\u001b[43m,\u001b[49m\n\u001b[32m    342\u001b[39m \u001b[43m        \u001b[49m\u001b[43munit_scale\u001b[49m\u001b[43m=\u001b[49m\u001b[38;5;28;43;01mFalse\u001b[39;49;00m\u001b[43m,\u001b[49m\n\u001b[32m    343\u001b[39m \u001b[43m        \u001b[49m\u001b[43mdesc\u001b[49m\u001b[43m=\u001b[49m\u001b[33;43m\"\u001b[39;49m\u001b[33;43mSearching indices\u001b[39;49m\u001b[33;43m\"\u001b[39;49m\u001b[43m,\u001b[49m\n\u001b[32m    344\u001b[39m \u001b[43m        \u001b[49m\u001b[43mascii\u001b[49m\u001b[43m=\u001b[49m\u001b[38;5;28;43;01mFalse\u001b[39;49;00m\u001b[43m,\u001b[49m\n\u001b[32m    345\u001b[39m \u001b[43m        \u001b[49m\u001b[43mtotal\u001b[49m\u001b[43m=\u001b[49m\u001b[38;5;28;43mlen\u001b[39;49m\u001b[43m(\u001b[49m\u001b[38;5;28;43mself\u001b[39;49m\u001b[43m.\u001b[49m\u001b[43mindices\u001b[49m\u001b[43m)\u001b[49m\u001b[43m,\u001b[49m\n\u001b[32m    346\u001b[39m \u001b[43m    \u001b[49m\u001b[43m)\u001b[49m\n\u001b[32m    347\u001b[39m \u001b[43m\u001b[49m\u001b[43m)\u001b[49m\n\u001b[32m    348\u001b[39m \u001b[38;5;28mself\u001b[39m._set_project()\n\u001b[32m    350\u001b[39m \u001b[38;5;66;03m# even though we are using latest=True, because the search is distributed, we\u001b[39;00m\n\u001b[32m    351\u001b[39m \u001b[38;5;66;03m# may have different versions from different indices.\u001b[39;00m\n",
      "\u001b[36mFile \u001b[39m\u001b[32m~/micromamba/envs/ect/lib/python3.12/site-packages/intake_esgf/base.py:213\u001b[39m, in \u001b[36mcombine_results\u001b[39m\u001b[34m(dfs)\u001b[39m\n\u001b[32m    211\u001b[39m \u001b[38;5;28;01mif\u001b[39;00m \u001b[38;5;28mlen\u001b[39m(df) == \u001b[32m0\u001b[39m:\n\u001b[32m    212\u001b[39m     logger.info(\u001b[33m\"\u001b[39m\u001b[38;5;130;01m\\x1b\u001b[39;00m\u001b[33m[36;32msearch end \u001b[39m\u001b[38;5;130;01m\\x1b\u001b[39;00m\u001b[33m[91;20mno results\u001b[39m\u001b[38;5;130;01m\\033\u001b[39;00m\u001b[33m[0m\u001b[39m\u001b[33m\"\u001b[39m)\n\u001b[32m--> \u001b[39m\u001b[32m213\u001b[39m     \u001b[38;5;28;01mraise\u001b[39;00m NoSearchResults()\n\u001b[32m    214\u001b[39m \u001b[38;5;66;03m# retrieve project information about how to combine results\u001b[39;00m\n\u001b[32m    215\u001b[39m project_id = df[\u001b[33m\"\u001b[39m\u001b[33mproject\u001b[39m\u001b[33m\"\u001b[39m].unique()\n",
      "\u001b[31mNoSearchResults\u001b[39m: "
     ]
    }
   ],
   "source": [
    "# List available datasets for the \"obs4mips\" project\n",
    "cat.search(project=\"obs4mips\")"
   ]
  },
  {
   "cell_type": "code",
   "execution_count": 34,
   "metadata": {},
   "outputs": [
    {
     "data": {
      "application/vnd.jupyter.widget-view+json": {
       "model_id": "914d594104024924971908058700fe04",
       "version_major": 2,
       "version_minor": 0
      },
      "text/plain": [
       "   Searching indices:   0%|          |0/2 [       ?index/s]"
      ]
     },
     "metadata": {},
     "output_type": "display_data"
    },
    {
     "ename": "NoSearchResults",
     "evalue": "",
     "output_type": "error",
     "traceback": [
      "\u001b[31m---------------------------------------------------------------------------\u001b[39m",
      "\u001b[31mNoSearchResults\u001b[39m                           Traceback (most recent call last)",
      "\u001b[36mCell\u001b[39m\u001b[36m \u001b[39m\u001b[32mIn[34]\u001b[39m\u001b[32m, line 1\u001b[39m\n\u001b[32m----> \u001b[39m\u001b[32m1\u001b[39m \u001b[43mcat\u001b[49m\u001b[43m.\u001b[49m\u001b[43msearch\u001b[49m\u001b[43m(\u001b[49m\u001b[43mmip_era\u001b[49m\u001b[43m=\u001b[49m\u001b[33;43m\"\u001b[39;49m\u001b[33;43mobs4mips\u001b[39;49m\u001b[33;43m\"\u001b[39;49m\u001b[43m,\u001b[49m\u001b[43m \u001b[49m\u001b[43mexperiment_id\u001b[49m\u001b[43m=\u001b[49m\u001b[33;43m\"\u001b[39;49m\u001b[33;43mhistorical\u001b[39;49m\u001b[33;43m\"\u001b[39;49m\u001b[43m)\u001b[49m\n",
      "\u001b[36mFile \u001b[39m\u001b[32m~/micromamba/envs/ect/lib/python3.12/site-packages/intake_esgf/catalog.py:336\u001b[39m, in \u001b[36mESGFCatalog.search\u001b[39m\u001b[34m(self, quiet, **search)\u001b[39m\n\u001b[32m    334\u001b[39m search_time = time.time()\n\u001b[32m    335\u001b[39m dfs = ThreadPool(\u001b[38;5;28mlen\u001b[39m(\u001b[38;5;28mself\u001b[39m.indices)).imap_unordered(_search, \u001b[38;5;28mself\u001b[39m.indices)\n\u001b[32m--> \u001b[39m\u001b[32m336\u001b[39m \u001b[38;5;28mself\u001b[39m.df = \u001b[43mbase\u001b[49m\u001b[43m.\u001b[49m\u001b[43mcombine_results\u001b[49m\u001b[43m(\u001b[49m\n\u001b[32m    337\u001b[39m \u001b[43m    \u001b[49m\u001b[43mtqdm\u001b[49m\u001b[43m(\u001b[49m\n\u001b[32m    338\u001b[39m \u001b[43m        \u001b[49m\u001b[43mdfs\u001b[49m\u001b[43m,\u001b[49m\n\u001b[32m    339\u001b[39m \u001b[43m        \u001b[49m\u001b[43mdisable\u001b[49m\u001b[43m=\u001b[49m\u001b[43mquiet\u001b[49m\u001b[43m,\u001b[49m\n\u001b[32m    340\u001b[39m \u001b[43m        \u001b[49m\u001b[43mbar_format\u001b[49m\u001b[43m=\u001b[49m\u001b[43mbase\u001b[49m\u001b[43m.\u001b[49m\u001b[43mbar_format\u001b[49m\u001b[43m,\u001b[49m\n\u001b[32m    341\u001b[39m \u001b[43m        \u001b[49m\u001b[43munit\u001b[49m\u001b[43m=\u001b[49m\u001b[33;43m\"\u001b[39;49m\u001b[33;43mindex\u001b[39;49m\u001b[33;43m\"\u001b[39;49m\u001b[43m,\u001b[49m\n\u001b[32m    342\u001b[39m \u001b[43m        \u001b[49m\u001b[43munit_scale\u001b[49m\u001b[43m=\u001b[49m\u001b[38;5;28;43;01mFalse\u001b[39;49;00m\u001b[43m,\u001b[49m\n\u001b[32m    343\u001b[39m \u001b[43m        \u001b[49m\u001b[43mdesc\u001b[49m\u001b[43m=\u001b[49m\u001b[33;43m\"\u001b[39;49m\u001b[33;43mSearching indices\u001b[39;49m\u001b[33;43m\"\u001b[39;49m\u001b[43m,\u001b[49m\n\u001b[32m    344\u001b[39m \u001b[43m        \u001b[49m\u001b[43mascii\u001b[49m\u001b[43m=\u001b[49m\u001b[38;5;28;43;01mFalse\u001b[39;49;00m\u001b[43m,\u001b[49m\n\u001b[32m    345\u001b[39m \u001b[43m        \u001b[49m\u001b[43mtotal\u001b[49m\u001b[43m=\u001b[49m\u001b[38;5;28;43mlen\u001b[39;49m\u001b[43m(\u001b[49m\u001b[38;5;28;43mself\u001b[39;49m\u001b[43m.\u001b[49m\u001b[43mindices\u001b[49m\u001b[43m)\u001b[49m\u001b[43m,\u001b[49m\n\u001b[32m    346\u001b[39m \u001b[43m    \u001b[49m\u001b[43m)\u001b[49m\n\u001b[32m    347\u001b[39m \u001b[43m\u001b[49m\u001b[43m)\u001b[49m\n\u001b[32m    348\u001b[39m \u001b[38;5;28mself\u001b[39m._set_project()\n\u001b[32m    350\u001b[39m \u001b[38;5;66;03m# even though we are using latest=True, because the search is distributed, we\u001b[39;00m\n\u001b[32m    351\u001b[39m \u001b[38;5;66;03m# may have different versions from different indices.\u001b[39;00m\n",
      "\u001b[36mFile \u001b[39m\u001b[32m~/micromamba/envs/ect/lib/python3.12/site-packages/intake_esgf/base.py:213\u001b[39m, in \u001b[36mcombine_results\u001b[39m\u001b[34m(dfs)\u001b[39m\n\u001b[32m    211\u001b[39m \u001b[38;5;28;01mif\u001b[39;00m \u001b[38;5;28mlen\u001b[39m(df) == \u001b[32m0\u001b[39m:\n\u001b[32m    212\u001b[39m     logger.info(\u001b[33m\"\u001b[39m\u001b[38;5;130;01m\\x1b\u001b[39;00m\u001b[33m[36;32msearch end \u001b[39m\u001b[38;5;130;01m\\x1b\u001b[39;00m\u001b[33m[91;20mno results\u001b[39m\u001b[38;5;130;01m\\033\u001b[39;00m\u001b[33m[0m\u001b[39m\u001b[33m\"\u001b[39m)\n\u001b[32m--> \u001b[39m\u001b[32m213\u001b[39m     \u001b[38;5;28;01mraise\u001b[39;00m NoSearchResults()\n\u001b[32m    214\u001b[39m \u001b[38;5;66;03m# retrieve project information about how to combine results\u001b[39;00m\n\u001b[32m    215\u001b[39m project_id = df[\u001b[33m\"\u001b[39m\u001b[33mproject\u001b[39m\u001b[33m\"\u001b[39m].unique()\n",
      "\u001b[31mNoSearchResults\u001b[39m: "
     ]
    }
   ],
   "source": [
    "cat.search(mip_era=\"obs4mips\", experiment_id=\"historical\")"
   ]
  },
  {
   "cell_type": "code",
   "execution_count": 30,
   "metadata": {},
   "outputs": [
    {
     "data": {
      "application/vnd.jupyter.widget-view+json": {
       "model_id": "1c6c85387c1c49db95d3f24e51f846a9",
       "version_major": 2,
       "version_minor": 0
      },
      "text/plain": [
       "   Searching indices:   0%|          |0/2 [       ?index/s]"
      ]
     },
     "metadata": {},
     "output_type": "display_data"
    },
    {
     "ename": "NoSearchResults",
     "evalue": "",
     "output_type": "error",
     "traceback": [
      "\u001b[31m---------------------------------------------------------------------------\u001b[39m",
      "\u001b[31mNoSearchResults\u001b[39m                           Traceback (most recent call last)",
      "\u001b[36mCell\u001b[39m\u001b[36m \u001b[39m\u001b[32mIn[30]\u001b[39m\u001b[32m, line 1\u001b[39m\n\u001b[32m----> \u001b[39m\u001b[32m1\u001b[39m \u001b[43mcat\u001b[49m\u001b[43m.\u001b[49m\u001b[43msearch\u001b[49m\u001b[43m(\u001b[49m\u001b[43mproject\u001b[49m\u001b[43m=\u001b[49m\u001b[33;43m\"\u001b[39;49m\u001b[33;43mOBS4MIPS\u001b[39;49m\u001b[33;43m\"\u001b[39;49m\u001b[43m)\u001b[49m\n",
      "\u001b[36mFile \u001b[39m\u001b[32m~/micromamba/envs/ect/lib/python3.12/site-packages/intake_esgf/catalog.py:336\u001b[39m, in \u001b[36mESGFCatalog.search\u001b[39m\u001b[34m(self, quiet, **search)\u001b[39m\n\u001b[32m    334\u001b[39m search_time = time.time()\n\u001b[32m    335\u001b[39m dfs = ThreadPool(\u001b[38;5;28mlen\u001b[39m(\u001b[38;5;28mself\u001b[39m.indices)).imap_unordered(_search, \u001b[38;5;28mself\u001b[39m.indices)\n\u001b[32m--> \u001b[39m\u001b[32m336\u001b[39m \u001b[38;5;28mself\u001b[39m.df = \u001b[43mbase\u001b[49m\u001b[43m.\u001b[49m\u001b[43mcombine_results\u001b[49m\u001b[43m(\u001b[49m\n\u001b[32m    337\u001b[39m \u001b[43m    \u001b[49m\u001b[43mtqdm\u001b[49m\u001b[43m(\u001b[49m\n\u001b[32m    338\u001b[39m \u001b[43m        \u001b[49m\u001b[43mdfs\u001b[49m\u001b[43m,\u001b[49m\n\u001b[32m    339\u001b[39m \u001b[43m        \u001b[49m\u001b[43mdisable\u001b[49m\u001b[43m=\u001b[49m\u001b[43mquiet\u001b[49m\u001b[43m,\u001b[49m\n\u001b[32m    340\u001b[39m \u001b[43m        \u001b[49m\u001b[43mbar_format\u001b[49m\u001b[43m=\u001b[49m\u001b[43mbase\u001b[49m\u001b[43m.\u001b[49m\u001b[43mbar_format\u001b[49m\u001b[43m,\u001b[49m\n\u001b[32m    341\u001b[39m \u001b[43m        \u001b[49m\u001b[43munit\u001b[49m\u001b[43m=\u001b[49m\u001b[33;43m\"\u001b[39;49m\u001b[33;43mindex\u001b[39;49m\u001b[33;43m\"\u001b[39;49m\u001b[43m,\u001b[49m\n\u001b[32m    342\u001b[39m \u001b[43m        \u001b[49m\u001b[43munit_scale\u001b[49m\u001b[43m=\u001b[49m\u001b[38;5;28;43;01mFalse\u001b[39;49;00m\u001b[43m,\u001b[49m\n\u001b[32m    343\u001b[39m \u001b[43m        \u001b[49m\u001b[43mdesc\u001b[49m\u001b[43m=\u001b[49m\u001b[33;43m\"\u001b[39;49m\u001b[33;43mSearching indices\u001b[39;49m\u001b[33;43m\"\u001b[39;49m\u001b[43m,\u001b[49m\n\u001b[32m    344\u001b[39m \u001b[43m        \u001b[49m\u001b[43mascii\u001b[49m\u001b[43m=\u001b[49m\u001b[38;5;28;43;01mFalse\u001b[39;49;00m\u001b[43m,\u001b[49m\n\u001b[32m    345\u001b[39m \u001b[43m        \u001b[49m\u001b[43mtotal\u001b[49m\u001b[43m=\u001b[49m\u001b[38;5;28;43mlen\u001b[39;49m\u001b[43m(\u001b[49m\u001b[38;5;28;43mself\u001b[39;49m\u001b[43m.\u001b[49m\u001b[43mindices\u001b[49m\u001b[43m)\u001b[49m\u001b[43m,\u001b[49m\n\u001b[32m    346\u001b[39m \u001b[43m    \u001b[49m\u001b[43m)\u001b[49m\n\u001b[32m    347\u001b[39m \u001b[43m\u001b[49m\u001b[43m)\u001b[49m\n\u001b[32m    348\u001b[39m \u001b[38;5;28mself\u001b[39m._set_project()\n\u001b[32m    350\u001b[39m \u001b[38;5;66;03m# even though we are using latest=True, because the search is distributed, we\u001b[39;00m\n\u001b[32m    351\u001b[39m \u001b[38;5;66;03m# may have different versions from different indices.\u001b[39;00m\n",
      "\u001b[36mFile \u001b[39m\u001b[32m~/micromamba/envs/ect/lib/python3.12/site-packages/intake_esgf/base.py:213\u001b[39m, in \u001b[36mcombine_results\u001b[39m\u001b[34m(dfs)\u001b[39m\n\u001b[32m    211\u001b[39m \u001b[38;5;28;01mif\u001b[39;00m \u001b[38;5;28mlen\u001b[39m(df) == \u001b[32m0\u001b[39m:\n\u001b[32m    212\u001b[39m     logger.info(\u001b[33m\"\u001b[39m\u001b[38;5;130;01m\\x1b\u001b[39;00m\u001b[33m[36;32msearch end \u001b[39m\u001b[38;5;130;01m\\x1b\u001b[39;00m\u001b[33m[91;20mno results\u001b[39m\u001b[38;5;130;01m\\033\u001b[39;00m\u001b[33m[0m\u001b[39m\u001b[33m\"\u001b[39m)\n\u001b[32m--> \u001b[39m\u001b[32m213\u001b[39m     \u001b[38;5;28;01mraise\u001b[39;00m NoSearchResults()\n\u001b[32m    214\u001b[39m \u001b[38;5;66;03m# retrieve project information about how to combine results\u001b[39;00m\n\u001b[32m    215\u001b[39m project_id = df[\u001b[33m\"\u001b[39m\u001b[33mproject\u001b[39m\u001b[33m\"\u001b[39m].unique()\n",
      "\u001b[31mNoSearchResults\u001b[39m: "
     ]
    }
   ],
   "source": [
    "cat.search(project=\"OBS4MIPS\")"
   ]
  },
  {
   "cell_type": "code",
   "execution_count": null,
   "metadata": {},
   "outputs": [],
   "source": [
    "dsd = cat.to_dataset_dict()"
   ]
  },
  {
   "cell_type": "code",
   "execution_count": null,
   "metadata": {},
   "outputs": [],
   "source": [
    "dsd[\"tas\"]"
   ]
  },
  {
   "cell_type": "code",
   "execution_count": null,
   "metadata": {},
   "outputs": [],
   "source": [
    "ds_plot = dsd[\"tas\"][\"tas\"].mean(dim=\"time\") - 273.15  # to [C]\n",
    "ds_plot.plot(cmap=\"bwr\", vmin=-40, vmax=40)"
   ]
  }
 ],
 "metadata": {
  "kernelspec": {
   "display_name": "Python 3 (ipykernel)",
   "language": "python",
   "name": "python3"
  },
  "language_info": {
   "codemirror_mode": {
    "name": "ipython",
    "version": 3
   },
   "file_extension": ".py",
   "mimetype": "text/x-python",
   "name": "python",
   "nbconvert_exporter": "python",
   "pygments_lexer": "ipython3",
   "version": "3.12.9"
  }
 },
 "nbformat": 4,
 "nbformat_minor": 4
}
