{
 "cells": [
  {
   "cell_type": "markdown",
   "metadata": {},
   "source": [
    "## ESA CCI Toolbox Data Access with Parameters\n",
    "\n",
    "This notebook shows how to open data cubes from the ESA Open Data Portal for a given time range and region:\n",
    "\n",
    "A **temporarily regular cube** with aggregated CCI data that fall into equal-size time periods;\n",
    "\n",
    "We start with necessary imports."
   ]
  },
  {
   "cell_type": "code",
   "execution_count": 1,
   "metadata": {
    "tags": []
   },
   "outputs": [],
   "source": [
    "from xcube.core.store import new_data_store\n",
    "import IPython.display\n",
    "import shapely"
   ]
  },
  {
   "cell_type": "markdown",
   "metadata": {},
   "source": [
    "Now we can create the store."
   ]
  },
  {
   "cell_type": "code",
   "execution_count": 2,
   "metadata": {
    "tags": []
   },
   "outputs": [
    {
     "name": "stderr",
     "output_type": "stream",
     "text": [
      "<frozen abc>:106: FutureWarning: xarray subclass VectorDataCube should explicitly define __slots__\n"
     ]
    }
   ],
   "source": [
    "cci_store = new_data_store('esa-cci')"
   ]
  },
  {
   "cell_type": "markdown",
   "metadata": {},
   "source": [
    "For this demo, we are using the dataset with the id 'esacci.AEROSOL.mon.L3.AAI.multi-sensor.multi-platform.MSAAI.1-7.r1'. Here is its metadata:"
   ]
  },
  {
   "cell_type": "code",
   "execution_count": 3,
   "metadata": {
    "tags": []
   },
   "outputs": [
    {
     "data": {
      "application/json": {
       "attrs": {
        "abstract": "The ESA Climate Change Initiative Aerosol project has produced a number of global aerosol Essential Climate Variable (ECV) products from a set of European satellite instruments with different characteristics.   This dataset comprises Level 3 Absorbing Aerosol Index (AAI) products, using the Multi-Sensor UVAI algorithm, Version 1.7.  L3 products are provided as daily and monthly gridded products as well as a monthly climatology. \n\nFor further details about these data products please see the linked documentation.",
        "catalog_url": "https://catalogue.ceda.ac.uk/uuid/2e656d34d016414c8d6bced18634772c",
        "cci_project": "AEROSOL",
        "comment": "Sun glint and solar eclipse events were filtered out.",
        "data_type": "AAI",
        "description": "Multi-Sensor AAI field for January 1979",
        "ecv": "AEROSOL",
        "history": "2017-07-24 09:13:47 - Product generated using create_msaai_monthly_products.pro",
        "institute": "Royal Netherlands Meteorological Institute",
        "platform_id": "multi-platform",
        "processing_level": "L3",
        "product_string": "MSAAI",
        "product_version": "1-7",
        "project": "Climate Change Initiative - European Space Agency",
        "publication_date": "2020-08-27T16:02:30",
        "references": "http://www.esa-aerosol-cci.org",
        "sensor_id": "multi-sensor",
        "source": "TOMS AAI version 8, GOME-1 AAI version 5.0, SCIAMACHY AAI version 5.1, OMI AAI version 1.1.1, GOME-2 AAI version 1.35",
        "title": "ESA Aerosol Climate Change Initiative (Aerosol_cci): Level 3 aerosol products  from the Multi-Sensor UV Absorbing Aerosol Index (MS UVAI) algorithm, Version 1.7",
        "uuid": "2e656d34d016414c8d6bced18634772c"
       },
       "bbox": [
        -180,
        -90,
        180,
        90
       ],
       "coords": {
        "latitude": {
         "attrs": {
          "chunk_sizes": [
           180
          ],
          "data_type": "float32",
          "dimensions": [
           "latitude"
          ],
          "file_chunk_sizes": [
           180
          ],
          "file_dimensions": [
           "latitude"
          ],
          "fill_value": null,
          "long_name": "Latitudes of the centre of the grid cells",
          "orig_data_type": "float32",
          "shape": [
           180
          ],
          "size": 180,
          "units": "degrees"
         },
         "dims": [
          "latitude"
         ],
         "dtype": "float32",
         "name": "latitude"
        },
        "longitude": {
         "attrs": {
          "chunk_sizes": [
           360
          ],
          "data_type": "float32",
          "dimensions": [
           "longitude"
          ],
          "file_chunk_sizes": [
           360
          ],
          "file_dimensions": [
           "longitude"
          ],
          "fill_value": null,
          "long_name": "Longitudes of the centre of the grid cells",
          "orig_data_type": "float32",
          "shape": [
           360
          ],
          "size": 360,
          "units": "degrees"
         },
         "dims": [
          "longitude"
         ],
         "dtype": "float32",
         "name": "longitude"
        },
        "time": {
         "attrs": {
          "calendar": "proleptic_gregorian",
          "shape": [
           422
          ],
          "size": 422,
          "standard_name": "time",
          "units": "seconds since 1970-01-01T00:00:00Z"
         },
         "dims": [
          "time"
         ],
         "dtype": "int64",
         "name": "time"
        },
        "time_bnds": {
         "attrs": {
          "calendar": "proleptic_gregorian",
          "shape": [
           2,
           422
          ],
          "size": 844,
          "standard_name": "time_bnds",
          "units": "seconds since 1970-01-01T00:00:00Z"
         },
         "dims": [
          "time",
          "bnds"
         ],
         "dtype": "int64",
         "name": "time_bnds"
        }
       },
       "crs": "WGS84",
       "data_id": "esacci.AEROSOL.mon.L3.AAI.multi-sensor.multi-platform.MSAAI.1-7.r1",
       "data_type": "dataset",
       "data_vars": {
        "absorbing_aerosol_index": {
         "attrs": {
          "chunk_sizes": [
           180,
           360
          ],
          "data_type": "float32",
          "dimensions": [
           "latitude",
           "longitude"
          ],
          "file_chunk_sizes": [
           180,
           360
          ],
          "file_dimensions": [
           "latitude",
           "longitude"
          ],
          "fill_value": null,
          "long_name": "Absorbing aerosol index averaged for each grid cell",
          "orig_data_type": "float32",
          "shape": [
           180,
           360
          ],
          "size": 64800,
          "units": "1"
         },
         "dims": [
          "time",
          "lat",
          "lon"
         ],
         "dtype": "float32",
         "name": "absorbing_aerosol_index"
        },
        "number_of_observations": {
         "attrs": {
          "chunk_sizes": [
           180,
           360
          ],
          "data_type": "int64",
          "dimensions": [
           "latitude",
           "longitude"
          ],
          "file_chunk_sizes": [
           180,
           360
          ],
          "file_dimensions": [
           "latitude",
           "longitude"
          ],
          "fill_value": 9223372036854776000,
          "long_name": "Number of observations for each grid cell",
          "orig_data_type": "int32",
          "shape": [
           180,
           360
          ],
          "size": 64800,
          "units": "1"
         },
         "dims": [
          "time",
          "lat",
          "lon"
         ],
         "dtype": "int64",
         "name": "number_of_observations"
        },
        "number_of_positive_observations": {
         "attrs": {
          "chunk_sizes": [
           180,
           360
          ],
          "data_type": "int64",
          "dimensions": [
           "latitude",
           "longitude"
          ],
          "file_chunk_sizes": [
           180,
           360
          ],
          "file_dimensions": [
           "latitude",
           "longitude"
          ],
          "fill_value": 9223372036854776000,
          "long_name": "Number of positive observations for each grid cell",
          "orig_data_type": "int32",
          "shape": [
           180,
           360
          ],
          "size": 64800,
          "units": "1"
         },
         "dims": [
          "time",
          "lat",
          "lon"
         ],
         "dtype": "int64",
         "name": "number_of_positive_observations"
        },
        "positive_absorbing_aerosol_index": {
         "attrs": {
          "chunk_sizes": [
           180,
           360
          ],
          "data_type": "float32",
          "dimensions": [
           "latitude",
           "longitude"
          ],
          "file_chunk_sizes": [
           180,
           360
          ],
          "file_dimensions": [
           "latitude",
           "longitude"
          ],
          "fill_value": null,
          "long_name": "Positive absorbing aerosol index averaged for each grid cell",
          "orig_data_type": "float32",
          "shape": [
           180,
           360
          ],
          "size": 64800,
          "units": "1"
         },
         "dims": [
          "time",
          "lat",
          "lon"
         ],
         "dtype": "float32",
         "name": "positive_absorbing_aerosol_index"
        },
        "solar_zenith_angle": {
         "attrs": {
          "chunk_sizes": [
           180,
           360
          ],
          "data_type": "float32",
          "dimensions": [
           "latitude",
           "longitude"
          ],
          "file_chunk_sizes": [
           180,
           360
          ],
          "file_dimensions": [
           "latitude",
           "longitude"
          ],
          "fill_value": null,
          "long_name": "Solar zenith angle averaged for each grid cell",
          "orig_data_type": "float32",
          "shape": [
           180,
           360
          ],
          "size": 64800,
          "units": "degrees"
         },
         "dims": [
          "time",
          "lat",
          "lon"
         ],
         "dtype": "float32",
         "name": "solar_zenith_angle"
        }
       },
       "dims": {
        "bnds": 2,
        "lat": 180,
        "lon": 360,
        "time": 422
       },
       "open_params_schema": {
        "additionalProperties": false,
        "properties": {
         "bbox": {
          "items": [
           {
            "maximum": 180,
            "minimum": -180,
            "type": "number"
           },
           {
            "maximum": 90,
            "minimum": -90,
            "type": "number"
           },
           {
            "maximum": 180,
            "minimum": -180,
            "type": "number"
           },
           {
            "maximum": 90,
            "minimum": -90,
            "type": "number"
           }
          ],
          "type": "array"
         },
         "normalize_data": {
          "default": true,
          "type": "boolean"
         },
         "time_range": {
          "items": [
           {
            "format": "date",
            "maxDate": "2015-12-31",
            "minDate": "1978-11-01",
            "type": "string"
           },
           {
            "format": "date",
            "maxDate": "2015-12-31",
            "minDate": "1978-11-01",
            "type": "string"
           }
          ],
          "type": "array"
         },
         "variable_names": {
          "items": {
           "enum": [
            "absorbing_aerosol_index",
            "number_of_observations",
            "solar_zenith_angle",
            "positive_absorbing_aerosol_index",
            "number_of_positive_observations"
           ],
           "type": "string"
          },
          "type": "array"
         }
        },
        "type": "object"
       },
       "spatial_res": 1,
       "time_period": "1M",
       "time_range": [
        "1978-11-01",
        "2015-12-31"
       ]
      },
      "text/plain": [
       "<xcube.core.store.descriptor.DatasetDescriptor at 0x7fa76c6d29f0>"
      ]
     },
     "execution_count": 3,
     "metadata": {},
     "output_type": "execute_result"
    }
   ],
   "source": [
    "cci_store.describe_data('esacci.AEROSOL.mon.L3.AAI.multi-sensor.multi-platform.MSAAI.1-7.r1')"
   ]
  },
  {
   "cell_type": "markdown",
   "metadata": {},
   "source": [
    "We are focussing on Africa, so we define a bounding box accordingly."
   ]
  },
  {
   "cell_type": "code",
   "execution_count": 4,
   "metadata": {
    "tags": []
   },
   "outputs": [],
   "source": [
    "x1 = -23.40  # degree\n",
    "y1 = -40.40  # degree\n",
    "x2 = 57.40  # degree\n",
    "y2 = 40.40  # degree\n",
    "\n",
    "bbox = (x1, y1, x2, y2)"
   ]
  },
  {
   "cell_type": "markdown",
   "metadata": {},
   "source": [
    "Visualize the bounding box. If you don't see anything, please refer to [Ex0-DCFS-Setup](./Ex0-DCFS-Setup.ipynb)."
   ]
  },
  {
   "cell_type": "code",
   "execution_count": 5,
   "metadata": {
    "tags": []
   },
   "outputs": [
    {
     "data": {
      "application/geo+json": {
       "coordinates": [
        [
         [
          57.4,
          -40.4
         ],
         [
          57.4,
          40.4
         ],
         [
          -23.4,
          40.4
         ],
         [
          -23.4,
          -40.4
         ],
         [
          57.4,
          -40.4
         ]
        ]
       ],
       "type": "Polygon"
      },
      "text/plain": [
       "<IPython.display.GeoJSON object>"
      ]
     },
     "metadata": {
      "application/geo+json": {
       "expanded": false,
       "root": "root"
      }
     },
     "output_type": "display_data"
    }
   ],
   "source": [
    "IPython.display.GeoJSON(shapely.geometry.box(*bbox).__geo_interface__)"
   ]
  },
  {
   "cell_type": "markdown",
   "metadata": {},
   "source": [
    "Our time range covers data from 1997: 1997-01-01 to 1997-12-01"
   ]
  },
  {
   "cell_type": "markdown",
   "metadata": {},
   "source": [
    "---\n",
    "Now to open the dataset. You may check its metadata first to make sure that your parameters are valid."
   ]
  },
  {
   "cell_type": "code",
   "execution_count": 6,
   "metadata": {
    "tags": []
   },
   "outputs": [
    {
     "data": {
      "application/json": {
       "additionalProperties": false,
       "properties": {
        "bbox": {
         "items": [
          {
           "maximum": 180,
           "minimum": -180,
           "type": "number"
          },
          {
           "maximum": 90,
           "minimum": -90,
           "type": "number"
          },
          {
           "maximum": 180,
           "minimum": -180,
           "type": "number"
          },
          {
           "maximum": 90,
           "minimum": -90,
           "type": "number"
          }
         ],
         "type": "array"
        },
        "normalize_data": {
         "default": true,
         "type": "boolean"
        },
        "time_range": {
         "items": [
          {
           "format": "date",
           "maxDate": "2015-12-31",
           "minDate": "1978-11-01",
           "type": "string"
          },
          {
           "format": "date",
           "maxDate": "2015-12-31",
           "minDate": "1978-11-01",
           "type": "string"
          }
         ],
         "type": "array"
        },
        "variable_names": {
         "items": {
          "enum": [
           "absorbing_aerosol_index",
           "number_of_observations",
           "solar_zenith_angle",
           "positive_absorbing_aerosol_index",
           "number_of_positive_observations"
          ],
          "type": "string"
         },
         "type": "array"
        }
       },
       "type": "object"
      },
      "text/plain": [
       "<xcube.util.jsonschema.JsonObjectSchema at 0x7fa76c49c1a0>"
      ]
     },
     "execution_count": 6,
     "metadata": {},
     "output_type": "execute_result"
    }
   ],
   "source": [
    "cci_store.get_open_data_params_schema(data_id='esacci.AEROSOL.mon.L3.AAI.multi-sensor.multi-platform.MSAAI.1-7.r1', opener_id='dataset:zarr:cciodp')"
   ]
  },
  {
   "cell_type": "markdown",
   "metadata": {},
   "source": [
    "Select any valid combination from the paramater in *properties* above. The only mandatory parameter is the data_id. If you leave any parameter out, all available values will be considered."
   ]
  },
  {
   "cell_type": "code",
   "execution_count": 7,
   "metadata": {
    "tags": []
   },
   "outputs": [
    {
     "data": {
      "text/html": [
       "<div><svg style=\"position: absolute; width: 0; height: 0; overflow: hidden\">\n",
       "<defs>\n",
       "<symbol id=\"icon-database\" viewBox=\"0 0 32 32\">\n",
       "<path d=\"M16 0c-8.837 0-16 2.239-16 5v4c0 2.761 7.163 5 16 5s16-2.239 16-5v-4c0-2.761-7.163-5-16-5z\"></path>\n",
       "<path d=\"M16 17c-8.837 0-16-2.239-16-5v6c0 2.761 7.163 5 16 5s16-2.239 16-5v-6c0 2.761-7.163 5-16 5z\"></path>\n",
       "<path d=\"M16 26c-8.837 0-16-2.239-16-5v6c0 2.761 7.163 5 16 5s16-2.239 16-5v-6c0 2.761-7.163 5-16 5z\"></path>\n",
       "</symbol>\n",
       "<symbol id=\"icon-file-text2\" viewBox=\"0 0 32 32\">\n",
       "<path d=\"M28.681 7.159c-0.694-0.947-1.662-2.053-2.724-3.116s-2.169-2.030-3.116-2.724c-1.612-1.182-2.393-1.319-2.841-1.319h-15.5c-1.378 0-2.5 1.121-2.5 2.5v27c0 1.378 1.122 2.5 2.5 2.5h23c1.378 0 2.5-1.122 2.5-2.5v-19.5c0-0.448-0.137-1.23-1.319-2.841zM24.543 5.457c0.959 0.959 1.712 1.825 2.268 2.543h-4.811v-4.811c0.718 0.556 1.584 1.309 2.543 2.268zM28 29.5c0 0.271-0.229 0.5-0.5 0.5h-23c-0.271 0-0.5-0.229-0.5-0.5v-27c0-0.271 0.229-0.5 0.5-0.5 0 0 15.499-0 15.5 0v7c0 0.552 0.448 1 1 1h7v19.5z\"></path>\n",
       "<path d=\"M23 26h-14c-0.552 0-1-0.448-1-1s0.448-1 1-1h14c0.552 0 1 0.448 1 1s-0.448 1-1 1z\"></path>\n",
       "<path d=\"M23 22h-14c-0.552 0-1-0.448-1-1s0.448-1 1-1h14c0.552 0 1 0.448 1 1s-0.448 1-1 1z\"></path>\n",
       "<path d=\"M23 18h-14c-0.552 0-1-0.448-1-1s0.448-1 1-1h14c0.552 0 1 0.448 1 1s-0.448 1-1 1z\"></path>\n",
       "</symbol>\n",
       "</defs>\n",
       "</svg>\n",
       "<style>/* CSS stylesheet for displaying xarray objects in jupyterlab.\n",
       " *\n",
       " */\n",
       "\n",
       ":root {\n",
       "  --xr-font-color0: var(--jp-content-font-color0, rgba(0, 0, 0, 1));\n",
       "  --xr-font-color2: var(--jp-content-font-color2, rgba(0, 0, 0, 0.54));\n",
       "  --xr-font-color3: var(--jp-content-font-color3, rgba(0, 0, 0, 0.38));\n",
       "  --xr-border-color: var(--jp-border-color2, #e0e0e0);\n",
       "  --xr-disabled-color: var(--jp-layout-color3, #bdbdbd);\n",
       "  --xr-background-color: var(--jp-layout-color0, white);\n",
       "  --xr-background-color-row-even: var(--jp-layout-color1, white);\n",
       "  --xr-background-color-row-odd: var(--jp-layout-color2, #eeeeee);\n",
       "}\n",
       "\n",
       "html[theme=dark],\n",
       "html[data-theme=dark],\n",
       "body[data-theme=dark],\n",
       "body.vscode-dark {\n",
       "  --xr-font-color0: rgba(255, 255, 255, 1);\n",
       "  --xr-font-color2: rgba(255, 255, 255, 0.54);\n",
       "  --xr-font-color3: rgba(255, 255, 255, 0.38);\n",
       "  --xr-border-color: #1F1F1F;\n",
       "  --xr-disabled-color: #515151;\n",
       "  --xr-background-color: #111111;\n",
       "  --xr-background-color-row-even: #111111;\n",
       "  --xr-background-color-row-odd: #313131;\n",
       "}\n",
       "\n",
       ".xr-wrap {\n",
       "  display: block !important;\n",
       "  min-width: 300px;\n",
       "  max-width: 700px;\n",
       "}\n",
       "\n",
       ".xr-text-repr-fallback {\n",
       "  /* fallback to plain text repr when CSS is not injected (untrusted notebook) */\n",
       "  display: none;\n",
       "}\n",
       "\n",
       ".xr-header {\n",
       "  padding-top: 6px;\n",
       "  padding-bottom: 6px;\n",
       "  margin-bottom: 4px;\n",
       "  border-bottom: solid 1px var(--xr-border-color);\n",
       "}\n",
       "\n",
       ".xr-header > div,\n",
       ".xr-header > ul {\n",
       "  display: inline;\n",
       "  margin-top: 0;\n",
       "  margin-bottom: 0;\n",
       "}\n",
       "\n",
       ".xr-obj-type,\n",
       ".xr-array-name {\n",
       "  margin-left: 2px;\n",
       "  margin-right: 10px;\n",
       "}\n",
       "\n",
       ".xr-obj-type {\n",
       "  color: var(--xr-font-color2);\n",
       "}\n",
       "\n",
       ".xr-sections {\n",
       "  padding-left: 0 !important;\n",
       "  display: grid;\n",
       "  grid-template-columns: 150px auto auto 1fr 0 20px 0 20px;\n",
       "}\n",
       "\n",
       ".xr-section-item {\n",
       "  display: contents;\n",
       "}\n",
       "\n",
       ".xr-section-item input {\n",
       "  display: inline-block;\n",
       "  opacity: 0;\n",
       "}\n",
       "\n",
       ".xr-section-item input + label {\n",
       "  color: var(--xr-disabled-color);\n",
       "}\n",
       "\n",
       ".xr-section-item input:enabled + label {\n",
       "  cursor: pointer;\n",
       "  color: var(--xr-font-color2);\n",
       "}\n",
       "\n",
       ".xr-section-item input:focus + label {\n",
       "  border: 2px solid var(--xr-font-color0);\n",
       "}\n",
       "\n",
       ".xr-section-item input:enabled + label:hover {\n",
       "  color: var(--xr-font-color0);\n",
       "}\n",
       "\n",
       ".xr-section-summary {\n",
       "  grid-column: 1;\n",
       "  color: var(--xr-font-color2);\n",
       "  font-weight: 500;\n",
       "}\n",
       "\n",
       ".xr-section-summary > span {\n",
       "  display: inline-block;\n",
       "  padding-left: 0.5em;\n",
       "}\n",
       "\n",
       ".xr-section-summary-in:disabled + label {\n",
       "  color: var(--xr-font-color2);\n",
       "}\n",
       "\n",
       ".xr-section-summary-in + label:before {\n",
       "  display: inline-block;\n",
       "  content: '►';\n",
       "  font-size: 11px;\n",
       "  width: 15px;\n",
       "  text-align: center;\n",
       "}\n",
       "\n",
       ".xr-section-summary-in:disabled + label:before {\n",
       "  color: var(--xr-disabled-color);\n",
       "}\n",
       "\n",
       ".xr-section-summary-in:checked + label:before {\n",
       "  content: '▼';\n",
       "}\n",
       "\n",
       ".xr-section-summary-in:checked + label > span {\n",
       "  display: none;\n",
       "}\n",
       "\n",
       ".xr-section-summary,\n",
       ".xr-section-inline-details {\n",
       "  padding-top: 4px;\n",
       "  padding-bottom: 4px;\n",
       "}\n",
       "\n",
       ".xr-section-inline-details {\n",
       "  grid-column: 2 / -1;\n",
       "}\n",
       "\n",
       ".xr-section-details {\n",
       "  display: none;\n",
       "  grid-column: 1 / -1;\n",
       "  margin-bottom: 5px;\n",
       "}\n",
       "\n",
       ".xr-section-summary-in:checked ~ .xr-section-details {\n",
       "  display: contents;\n",
       "}\n",
       "\n",
       ".xr-array-wrap {\n",
       "  grid-column: 1 / -1;\n",
       "  display: grid;\n",
       "  grid-template-columns: 20px auto;\n",
       "}\n",
       "\n",
       ".xr-array-wrap > label {\n",
       "  grid-column: 1;\n",
       "  vertical-align: top;\n",
       "}\n",
       "\n",
       ".xr-preview {\n",
       "  color: var(--xr-font-color3);\n",
       "}\n",
       "\n",
       ".xr-array-preview,\n",
       ".xr-array-data {\n",
       "  padding: 0 5px !important;\n",
       "  grid-column: 2;\n",
       "}\n",
       "\n",
       ".xr-array-data,\n",
       ".xr-array-in:checked ~ .xr-array-preview {\n",
       "  display: none;\n",
       "}\n",
       "\n",
       ".xr-array-in:checked ~ .xr-array-data,\n",
       ".xr-array-preview {\n",
       "  display: inline-block;\n",
       "}\n",
       "\n",
       ".xr-dim-list {\n",
       "  display: inline-block !important;\n",
       "  list-style: none;\n",
       "  padding: 0 !important;\n",
       "  margin: 0;\n",
       "}\n",
       "\n",
       ".xr-dim-list li {\n",
       "  display: inline-block;\n",
       "  padding: 0;\n",
       "  margin: 0;\n",
       "}\n",
       "\n",
       ".xr-dim-list:before {\n",
       "  content: '(';\n",
       "}\n",
       "\n",
       ".xr-dim-list:after {\n",
       "  content: ')';\n",
       "}\n",
       "\n",
       ".xr-dim-list li:not(:last-child):after {\n",
       "  content: ',';\n",
       "  padding-right: 5px;\n",
       "}\n",
       "\n",
       ".xr-has-index {\n",
       "  font-weight: bold;\n",
       "}\n",
       "\n",
       ".xr-var-list,\n",
       ".xr-var-item {\n",
       "  display: contents;\n",
       "}\n",
       "\n",
       ".xr-var-item > div,\n",
       ".xr-var-item label,\n",
       ".xr-var-item > .xr-var-name span {\n",
       "  background-color: var(--xr-background-color-row-even);\n",
       "  margin-bottom: 0;\n",
       "}\n",
       "\n",
       ".xr-var-item > .xr-var-name:hover span {\n",
       "  padding-right: 5px;\n",
       "}\n",
       "\n",
       ".xr-var-list > li:nth-child(odd) > div,\n",
       ".xr-var-list > li:nth-child(odd) > label,\n",
       ".xr-var-list > li:nth-child(odd) > .xr-var-name span {\n",
       "  background-color: var(--xr-background-color-row-odd);\n",
       "}\n",
       "\n",
       ".xr-var-name {\n",
       "  grid-column: 1;\n",
       "}\n",
       "\n",
       ".xr-var-dims {\n",
       "  grid-column: 2;\n",
       "}\n",
       "\n",
       ".xr-var-dtype {\n",
       "  grid-column: 3;\n",
       "  text-align: right;\n",
       "  color: var(--xr-font-color2);\n",
       "}\n",
       "\n",
       ".xr-var-preview {\n",
       "  grid-column: 4;\n",
       "}\n",
       "\n",
       ".xr-index-preview {\n",
       "  grid-column: 2 / 5;\n",
       "  color: var(--xr-font-color2);\n",
       "}\n",
       "\n",
       ".xr-var-name,\n",
       ".xr-var-dims,\n",
       ".xr-var-dtype,\n",
       ".xr-preview,\n",
       ".xr-attrs dt {\n",
       "  white-space: nowrap;\n",
       "  overflow: hidden;\n",
       "  text-overflow: ellipsis;\n",
       "  padding-right: 10px;\n",
       "}\n",
       "\n",
       ".xr-var-name:hover,\n",
       ".xr-var-dims:hover,\n",
       ".xr-var-dtype:hover,\n",
       ".xr-attrs dt:hover {\n",
       "  overflow: visible;\n",
       "  width: auto;\n",
       "  z-index: 1;\n",
       "}\n",
       "\n",
       ".xr-var-attrs,\n",
       ".xr-var-data,\n",
       ".xr-index-data {\n",
       "  display: none;\n",
       "  background-color: var(--xr-background-color) !important;\n",
       "  padding-bottom: 5px !important;\n",
       "}\n",
       "\n",
       ".xr-var-attrs-in:checked ~ .xr-var-attrs,\n",
       ".xr-var-data-in:checked ~ .xr-var-data,\n",
       ".xr-index-data-in:checked ~ .xr-index-data {\n",
       "  display: block;\n",
       "}\n",
       "\n",
       ".xr-var-data > table {\n",
       "  float: right;\n",
       "}\n",
       "\n",
       ".xr-var-name span,\n",
       ".xr-var-data,\n",
       ".xr-index-name div,\n",
       ".xr-index-data,\n",
       ".xr-attrs {\n",
       "  padding-left: 25px !important;\n",
       "}\n",
       "\n",
       ".xr-attrs,\n",
       ".xr-var-attrs,\n",
       ".xr-var-data,\n",
       ".xr-index-data {\n",
       "  grid-column: 1 / -1;\n",
       "}\n",
       "\n",
       "dl.xr-attrs {\n",
       "  padding: 0;\n",
       "  margin: 0;\n",
       "  display: grid;\n",
       "  grid-template-columns: 125px auto;\n",
       "}\n",
       "\n",
       ".xr-attrs dt,\n",
       ".xr-attrs dd {\n",
       "  padding: 0;\n",
       "  margin: 0;\n",
       "  float: left;\n",
       "  padding-right: 10px;\n",
       "  width: auto;\n",
       "}\n",
       "\n",
       ".xr-attrs dt {\n",
       "  font-weight: normal;\n",
       "  grid-column: 1;\n",
       "}\n",
       "\n",
       ".xr-attrs dt:hover span {\n",
       "  display: inline-block;\n",
       "  background: var(--xr-background-color);\n",
       "  padding-right: 10px;\n",
       "}\n",
       "\n",
       ".xr-attrs dd {\n",
       "  grid-column: 2;\n",
       "  white-space: pre-wrap;\n",
       "  word-break: break-all;\n",
       "}\n",
       "\n",
       ".xr-icon-database,\n",
       ".xr-icon-file-text2,\n",
       ".xr-no-icon {\n",
       "  display: inline-block;\n",
       "  vertical-align: middle;\n",
       "  width: 1em;\n",
       "  height: 1.5em !important;\n",
       "  stroke-width: 0;\n",
       "  stroke: currentColor;\n",
       "  fill: currentColor;\n",
       "}\n",
       "</style><pre class='xr-text-repr-fallback'>&lt;xarray.Dataset&gt; Size: 308kB\n",
       "Dimensions:                  (time: 12, lat: 80, lon: 80, bnds: 2)\n",
       "Coordinates:\n",
       "  * lat                      (lat) float32 320B -39.5 -38.5 -37.5 ... 38.5 39.5\n",
       "  * lon                      (lon) float32 320B -22.5 -21.5 -20.5 ... 55.5 56.5\n",
       "  * time                     (time) datetime64[ns] 96B 2005-01-16T12:00:00 .....\n",
       "    time_bnds                (time, bnds) datetime64[ns] 192B dask.array&lt;chunksize=(12, 2), meta=np.ndarray&gt;\n",
       "Dimensions without coordinates: bnds\n",
       "Data variables:\n",
       "    absorbing_aerosol_index  (time, lat, lon) float32 307kB dask.array&lt;chunksize=(1, 80, 80), meta=np.ndarray&gt;\n",
       "Attributes:\n",
       "    Conventions:             CF-1.7\n",
       "    title:                   esacci.AEROSOL.mon.L3.AAI.multi-sensor.multi-pla...\n",
       "    date_created:            2024-11-05T17:45:16.060471\n",
       "    processing_level:        L3\n",
       "    time_coverage_start:     2005-01-01T00:00:00\n",
       "    time_coverage_end:       2006-01-01T00:00:00\n",
       "    time_coverage_duration:  P365DT0H0M0S\n",
       "    history:                 [{&#x27;program&#x27;: &#x27;xcube_cci.chunkstore.CciChunkStore...</pre><div class='xr-wrap' style='display:none'><div class='xr-header'><div class='xr-obj-type'>xarray.Dataset</div></div><ul class='xr-sections'><li class='xr-section-item'><input id='section-15058a61-0fe0-4a37-8ffb-f473acdef92a' class='xr-section-summary-in' type='checkbox' disabled ><label for='section-15058a61-0fe0-4a37-8ffb-f473acdef92a' class='xr-section-summary'  title='Expand/collapse section'>Dimensions:</label><div class='xr-section-inline-details'><ul class='xr-dim-list'><li><span class='xr-has-index'>time</span>: 12</li><li><span class='xr-has-index'>lat</span>: 80</li><li><span class='xr-has-index'>lon</span>: 80</li><li><span>bnds</span>: 2</li></ul></div><div class='xr-section-details'></div></li><li class='xr-section-item'><input id='section-e03f0024-bc1b-46c7-9671-5a26cbd321e1' class='xr-section-summary-in' type='checkbox'  checked><label for='section-e03f0024-bc1b-46c7-9671-5a26cbd321e1' class='xr-section-summary' >Coordinates: <span>(4)</span></label><div class='xr-section-inline-details'></div><div class='xr-section-details'><ul class='xr-var-list'><li class='xr-var-item'><div class='xr-var-name'><span class='xr-has-index'>lat</span></div><div class='xr-var-dims'>(lat)</div><div class='xr-var-dtype'>float32</div><div class='xr-var-preview xr-preview'>-39.5 -38.5 -37.5 ... 38.5 39.5</div><input id='attrs-ad2f4a7c-01de-435e-8310-e2b7072c7196' class='xr-var-attrs-in' type='checkbox' ><label for='attrs-ad2f4a7c-01de-435e-8310-e2b7072c7196' title='Show/Hide attributes'><svg class='icon xr-icon-file-text2'><use xlink:href='#icon-file-text2'></use></svg></label><input id='data-44c37e41-b67a-450a-bb56-e06f8f6e13bc' class='xr-var-data-in' type='checkbox'><label for='data-44c37e41-b67a-450a-bb56-e06f8f6e13bc' title='Show/Hide data repr'><svg class='icon xr-icon-database'><use xlink:href='#icon-database'></use></svg></label><div class='xr-var-attrs'><dl class='xr-attrs'><dt><span>long_name :</span></dt><dd>Latitudes of the centre of the grid cells</dd><dt><span>units :</span></dt><dd>degrees</dd><dt><span>orig_data_type :</span></dt><dd>float32</dd><dt><span>fill_value :</span></dt><dd>nan</dd><dt><span>size :</span></dt><dd>80</dd><dt><span>shape :</span></dt><dd>[80]</dd><dt><span>chunk_sizes :</span></dt><dd>[80]</dd><dt><span>file_chunk_sizes :</span></dt><dd>[80]</dd><dt><span>data_type :</span></dt><dd>float32</dd><dt><span>dimensions :</span></dt><dd>[&#x27;latitude&#x27;]</dd><dt><span>file_dimensions :</span></dt><dd>[&#x27;latitude&#x27;]</dd></dl></div><div class='xr-var-data'><pre>array([-39.5, -38.5, -37.5, -36.5, -35.5, -34.5, -33.5, -32.5, -31.5, -30.5,\n",
       "       -29.5, -28.5, -27.5, -26.5, -25.5, -24.5, -23.5, -22.5, -21.5, -20.5,\n",
       "       -19.5, -18.5, -17.5, -16.5, -15.5, -14.5, -13.5, -12.5, -11.5, -10.5,\n",
       "        -9.5,  -8.5,  -7.5,  -6.5,  -5.5,  -4.5,  -3.5,  -2.5,  -1.5,  -0.5,\n",
       "         0.5,   1.5,   2.5,   3.5,   4.5,   5.5,   6.5,   7.5,   8.5,   9.5,\n",
       "        10.5,  11.5,  12.5,  13.5,  14.5,  15.5,  16.5,  17.5,  18.5,  19.5,\n",
       "        20.5,  21.5,  22.5,  23.5,  24.5,  25.5,  26.5,  27.5,  28.5,  29.5,\n",
       "        30.5,  31.5,  32.5,  33.5,  34.5,  35.5,  36.5,  37.5,  38.5,  39.5],\n",
       "      dtype=float32)</pre></div></li><li class='xr-var-item'><div class='xr-var-name'><span class='xr-has-index'>lon</span></div><div class='xr-var-dims'>(lon)</div><div class='xr-var-dtype'>float32</div><div class='xr-var-preview xr-preview'>-22.5 -21.5 -20.5 ... 55.5 56.5</div><input id='attrs-b5ff126c-3668-435b-9889-93347418a557' class='xr-var-attrs-in' type='checkbox' ><label for='attrs-b5ff126c-3668-435b-9889-93347418a557' title='Show/Hide attributes'><svg class='icon xr-icon-file-text2'><use xlink:href='#icon-file-text2'></use></svg></label><input id='data-620145c6-2120-4cc3-945d-ac7c5d8b3fb2' class='xr-var-data-in' type='checkbox'><label for='data-620145c6-2120-4cc3-945d-ac7c5d8b3fb2' title='Show/Hide data repr'><svg class='icon xr-icon-database'><use xlink:href='#icon-database'></use></svg></label><div class='xr-var-attrs'><dl class='xr-attrs'><dt><span>long_name :</span></dt><dd>Longitudes of the centre of the grid cells</dd><dt><span>units :</span></dt><dd>degrees</dd><dt><span>orig_data_type :</span></dt><dd>float32</dd><dt><span>fill_value :</span></dt><dd>nan</dd><dt><span>size :</span></dt><dd>80</dd><dt><span>shape :</span></dt><dd>[80]</dd><dt><span>chunk_sizes :</span></dt><dd>[80]</dd><dt><span>file_chunk_sizes :</span></dt><dd>[80]</dd><dt><span>data_type :</span></dt><dd>float32</dd><dt><span>dimensions :</span></dt><dd>[&#x27;longitude&#x27;]</dd><dt><span>file_dimensions :</span></dt><dd>[&#x27;longitude&#x27;]</dd></dl></div><div class='xr-var-data'><pre>array([-22.5, -21.5, -20.5, -19.5, -18.5, -17.5, -16.5, -15.5, -14.5, -13.5,\n",
       "       -12.5, -11.5, -10.5,  -9.5,  -8.5,  -7.5,  -6.5,  -5.5,  -4.5,  -3.5,\n",
       "        -2.5,  -1.5,  -0.5,   0.5,   1.5,   2.5,   3.5,   4.5,   5.5,   6.5,\n",
       "         7.5,   8.5,   9.5,  10.5,  11.5,  12.5,  13.5,  14.5,  15.5,  16.5,\n",
       "        17.5,  18.5,  19.5,  20.5,  21.5,  22.5,  23.5,  24.5,  25.5,  26.5,\n",
       "        27.5,  28.5,  29.5,  30.5,  31.5,  32.5,  33.5,  34.5,  35.5,  36.5,\n",
       "        37.5,  38.5,  39.5,  40.5,  41.5,  42.5,  43.5,  44.5,  45.5,  46.5,\n",
       "        47.5,  48.5,  49.5,  50.5,  51.5,  52.5,  53.5,  54.5,  55.5,  56.5],\n",
       "      dtype=float32)</pre></div></li><li class='xr-var-item'><div class='xr-var-name'><span class='xr-has-index'>time</span></div><div class='xr-var-dims'>(time)</div><div class='xr-var-dtype'>datetime64[ns]</div><div class='xr-var-preview xr-preview'>2005-01-16T12:00:00 ... 2005-12-...</div><input id='attrs-f372caca-4baa-4b01-a679-bde4c9657408' class='xr-var-attrs-in' type='checkbox' ><label for='attrs-f372caca-4baa-4b01-a679-bde4c9657408' title='Show/Hide attributes'><svg class='icon xr-icon-file-text2'><use xlink:href='#icon-file-text2'></use></svg></label><input id='data-320ff912-7bcc-4b32-9bd4-27e08d82b174' class='xr-var-data-in' type='checkbox'><label for='data-320ff912-7bcc-4b32-9bd4-27e08d82b174' title='Show/Hide data repr'><svg class='icon xr-icon-database'><use xlink:href='#icon-database'></use></svg></label><div class='xr-var-attrs'><dl class='xr-attrs'><dt><span>standard_name :</span></dt><dd>time</dd><dt><span>bounds :</span></dt><dd>time_bnds</dd></dl></div><div class='xr-var-data'><pre>array([&#x27;2005-01-16T12:00:00.000000000&#x27;, &#x27;2005-02-15T00:00:00.000000000&#x27;,\n",
       "       &#x27;2005-03-16T12:00:00.000000000&#x27;, &#x27;2005-04-16T00:00:00.000000000&#x27;,\n",
       "       &#x27;2005-05-16T12:00:00.000000000&#x27;, &#x27;2005-06-16T00:00:00.000000000&#x27;,\n",
       "       &#x27;2005-07-16T12:00:00.000000000&#x27;, &#x27;2005-08-16T12:00:00.000000000&#x27;,\n",
       "       &#x27;2005-09-16T00:00:00.000000000&#x27;, &#x27;2005-10-16T12:00:00.000000000&#x27;,\n",
       "       &#x27;2005-11-16T00:00:00.000000000&#x27;, &#x27;2005-12-16T12:00:00.000000000&#x27;],\n",
       "      dtype=&#x27;datetime64[ns]&#x27;)</pre></div></li><li class='xr-var-item'><div class='xr-var-name'><span>time_bnds</span></div><div class='xr-var-dims'>(time, bnds)</div><div class='xr-var-dtype'>datetime64[ns]</div><div class='xr-var-preview xr-preview'>dask.array&lt;chunksize=(12, 2), meta=np.ndarray&gt;</div><input id='attrs-37175d61-aace-42d2-9e74-5d846f3a7fe9' class='xr-var-attrs-in' type='checkbox' ><label for='attrs-37175d61-aace-42d2-9e74-5d846f3a7fe9' title='Show/Hide attributes'><svg class='icon xr-icon-file-text2'><use xlink:href='#icon-file-text2'></use></svg></label><input id='data-aa2407a0-d166-4f91-86fc-291d1b409e54' class='xr-var-data-in' type='checkbox'><label for='data-aa2407a0-d166-4f91-86fc-291d1b409e54' title='Show/Hide data repr'><svg class='icon xr-icon-database'><use xlink:href='#icon-database'></use></svg></label><div class='xr-var-attrs'><dl class='xr-attrs'><dt><span>standard_name :</span></dt><dd>time_bnds</dd></dl></div><div class='xr-var-data'><table>\n",
       "    <tr>\n",
       "        <td>\n",
       "            <table style=\"border-collapse: collapse;\">\n",
       "                <thead>\n",
       "                    <tr>\n",
       "                        <td> </td>\n",
       "                        <th> Array </th>\n",
       "                        <th> Chunk </th>\n",
       "                    </tr>\n",
       "                </thead>\n",
       "                <tbody>\n",
       "                    \n",
       "                    <tr>\n",
       "                        <th> Bytes </th>\n",
       "                        <td> 192 B </td>\n",
       "                        <td> 192 B </td>\n",
       "                    </tr>\n",
       "                    \n",
       "                    <tr>\n",
       "                        <th> Shape </th>\n",
       "                        <td> (12, 2) </td>\n",
       "                        <td> (12, 2) </td>\n",
       "                    </tr>\n",
       "                    <tr>\n",
       "                        <th> Dask graph </th>\n",
       "                        <td colspan=\"2\"> 1 chunks in 2 graph layers </td>\n",
       "                    </tr>\n",
       "                    <tr>\n",
       "                        <th> Data type </th>\n",
       "                        <td colspan=\"2\"> datetime64[ns] numpy.ndarray </td>\n",
       "                    </tr>\n",
       "                </tbody>\n",
       "            </table>\n",
       "        </td>\n",
       "        <td>\n",
       "        <svg width=\"91\" height=\"170\" style=\"stroke:rgb(0,0,0);stroke-width:1\" >\n",
       "\n",
       "  <!-- Horizontal lines -->\n",
       "  <line x1=\"0\" y1=\"0\" x2=\"41\" y2=\"0\" style=\"stroke-width:2\" />\n",
       "  <line x1=\"0\" y1=\"120\" x2=\"41\" y2=\"120\" style=\"stroke-width:2\" />\n",
       "\n",
       "  <!-- Vertical lines -->\n",
       "  <line x1=\"0\" y1=\"0\" x2=\"0\" y2=\"120\" style=\"stroke-width:2\" />\n",
       "  <line x1=\"41\" y1=\"0\" x2=\"41\" y2=\"120\" style=\"stroke-width:2\" />\n",
       "\n",
       "  <!-- Colored Rectangle -->\n",
       "  <polygon points=\"0.0,0.0 41.20382942136741,0.0 41.20382942136741,120.0 0.0,120.0\" style=\"fill:#ECB172A0;stroke-width:0\"/>\n",
       "\n",
       "  <!-- Text -->\n",
       "  <text x=\"20.601915\" y=\"140.000000\" font-size=\"1.0rem\" font-weight=\"100\" text-anchor=\"middle\" >2</text>\n",
       "  <text x=\"61.203829\" y=\"60.000000\" font-size=\"1.0rem\" font-weight=\"100\" text-anchor=\"middle\" transform=\"rotate(0,61.203829,60.000000)\">12</text>\n",
       "</svg>\n",
       "        </td>\n",
       "    </tr>\n",
       "</table></div></li></ul></div></li><li class='xr-section-item'><input id='section-8bc7254b-d83d-48c7-a19f-5f89750f8210' class='xr-section-summary-in' type='checkbox'  checked><label for='section-8bc7254b-d83d-48c7-a19f-5f89750f8210' class='xr-section-summary' >Data variables: <span>(1)</span></label><div class='xr-section-inline-details'></div><div class='xr-section-details'><ul class='xr-var-list'><li class='xr-var-item'><div class='xr-var-name'><span>absorbing_aerosol_index</span></div><div class='xr-var-dims'>(time, lat, lon)</div><div class='xr-var-dtype'>float32</div><div class='xr-var-preview xr-preview'>dask.array&lt;chunksize=(1, 80, 80), meta=np.ndarray&gt;</div><input id='attrs-f83ad2a1-7860-4542-9531-71a21d4b4be0' class='xr-var-attrs-in' type='checkbox' ><label for='attrs-f83ad2a1-7860-4542-9531-71a21d4b4be0' title='Show/Hide attributes'><svg class='icon xr-icon-file-text2'><use xlink:href='#icon-file-text2'></use></svg></label><input id='data-25793749-02fa-48bb-869c-ba3521047f03' class='xr-var-data-in' type='checkbox'><label for='data-25793749-02fa-48bb-869c-ba3521047f03' title='Show/Hide data repr'><svg class='icon xr-icon-database'><use xlink:href='#icon-database'></use></svg></label><div class='xr-var-attrs'><dl class='xr-attrs'><dt><span>long_name :</span></dt><dd>Absorbing aerosol index averaged for each grid cell</dd><dt><span>units :</span></dt><dd>1</dd><dt><span>orig_data_type :</span></dt><dd>float32</dd><dt><span>fill_value :</span></dt><dd>nan</dd><dt><span>size :</span></dt><dd>76800</dd><dt><span>shape :</span></dt><dd>[12, 80, 80]</dd><dt><span>chunk_sizes :</span></dt><dd>[1, 80, 80]</dd><dt><span>file_chunk_sizes :</span></dt><dd>[80, 80]</dd><dt><span>data_type :</span></dt><dd>float32</dd><dt><span>dimensions :</span></dt><dd>[&#x27;time&#x27;, &#x27;latitude&#x27;, &#x27;longitude&#x27;]</dd><dt><span>file_dimensions :</span></dt><dd>[&#x27;latitude&#x27;, &#x27;longitude&#x27;]</dd></dl></div><div class='xr-var-data'><table>\n",
       "    <tr>\n",
       "        <td>\n",
       "            <table style=\"border-collapse: collapse;\">\n",
       "                <thead>\n",
       "                    <tr>\n",
       "                        <td> </td>\n",
       "                        <th> Array </th>\n",
       "                        <th> Chunk </th>\n",
       "                    </tr>\n",
       "                </thead>\n",
       "                <tbody>\n",
       "                    \n",
       "                    <tr>\n",
       "                        <th> Bytes </th>\n",
       "                        <td> 300.00 kiB </td>\n",
       "                        <td> 25.00 kiB </td>\n",
       "                    </tr>\n",
       "                    \n",
       "                    <tr>\n",
       "                        <th> Shape </th>\n",
       "                        <td> (12, 80, 80) </td>\n",
       "                        <td> (1, 80, 80) </td>\n",
       "                    </tr>\n",
       "                    <tr>\n",
       "                        <th> Dask graph </th>\n",
       "                        <td colspan=\"2\"> 12 chunks in 2 graph layers </td>\n",
       "                    </tr>\n",
       "                    <tr>\n",
       "                        <th> Data type </th>\n",
       "                        <td colspan=\"2\"> float32 numpy.ndarray </td>\n",
       "                    </tr>\n",
       "                </tbody>\n",
       "            </table>\n",
       "        </td>\n",
       "        <td>\n",
       "        <svg width=\"203\" height=\"193\" style=\"stroke:rgb(0,0,0);stroke-width:1\" >\n",
       "\n",
       "  <!-- Horizontal lines -->\n",
       "  <line x1=\"10\" y1=\"0\" x2=\"33\" y2=\"23\" style=\"stroke-width:2\" />\n",
       "  <line x1=\"10\" y1=\"120\" x2=\"33\" y2=\"143\" style=\"stroke-width:2\" />\n",
       "\n",
       "  <!-- Vertical lines -->\n",
       "  <line x1=\"10\" y1=\"0\" x2=\"10\" y2=\"120\" style=\"stroke-width:2\" />\n",
       "  <line x1=\"11\" y1=\"1\" x2=\"11\" y2=\"121\" />\n",
       "  <line x1=\"13\" y1=\"3\" x2=\"13\" y2=\"123\" />\n",
       "  <line x1=\"15\" y1=\"5\" x2=\"15\" y2=\"125\" />\n",
       "  <line x1=\"17\" y1=\"7\" x2=\"17\" y2=\"127\" />\n",
       "  <line x1=\"19\" y1=\"9\" x2=\"19\" y2=\"129\" />\n",
       "  <line x1=\"21\" y1=\"11\" x2=\"21\" y2=\"131\" />\n",
       "  <line x1=\"23\" y1=\"13\" x2=\"23\" y2=\"133\" />\n",
       "  <line x1=\"25\" y1=\"15\" x2=\"25\" y2=\"135\" />\n",
       "  <line x1=\"27\" y1=\"17\" x2=\"27\" y2=\"137\" />\n",
       "  <line x1=\"29\" y1=\"19\" x2=\"29\" y2=\"139\" />\n",
       "  <line x1=\"31\" y1=\"21\" x2=\"31\" y2=\"141\" />\n",
       "  <line x1=\"33\" y1=\"23\" x2=\"33\" y2=\"143\" style=\"stroke-width:2\" />\n",
       "\n",
       "  <!-- Colored Rectangle -->\n",
       "  <polygon points=\"10.0,0.0 33.94492314957306,23.94492314957306 33.94492314957306,143.94492314957307 10.0,120.0\" style=\"fill:#ECB172A0;stroke-width:0\"/>\n",
       "\n",
       "  <!-- Horizontal lines -->\n",
       "  <line x1=\"10\" y1=\"0\" x2=\"130\" y2=\"0\" style=\"stroke-width:2\" />\n",
       "  <line x1=\"11\" y1=\"1\" x2=\"131\" y2=\"1\" />\n",
       "  <line x1=\"13\" y1=\"3\" x2=\"133\" y2=\"3\" />\n",
       "  <line x1=\"15\" y1=\"5\" x2=\"135\" y2=\"5\" />\n",
       "  <line x1=\"17\" y1=\"7\" x2=\"137\" y2=\"7\" />\n",
       "  <line x1=\"19\" y1=\"9\" x2=\"139\" y2=\"9\" />\n",
       "  <line x1=\"21\" y1=\"11\" x2=\"141\" y2=\"11\" />\n",
       "  <line x1=\"23\" y1=\"13\" x2=\"143\" y2=\"13\" />\n",
       "  <line x1=\"25\" y1=\"15\" x2=\"145\" y2=\"15\" />\n",
       "  <line x1=\"27\" y1=\"17\" x2=\"147\" y2=\"17\" />\n",
       "  <line x1=\"29\" y1=\"19\" x2=\"149\" y2=\"19\" />\n",
       "  <line x1=\"31\" y1=\"21\" x2=\"151\" y2=\"21\" />\n",
       "  <line x1=\"33\" y1=\"23\" x2=\"153\" y2=\"23\" style=\"stroke-width:2\" />\n",
       "\n",
       "  <!-- Vertical lines -->\n",
       "  <line x1=\"10\" y1=\"0\" x2=\"33\" y2=\"23\" style=\"stroke-width:2\" />\n",
       "  <line x1=\"130\" y1=\"0\" x2=\"153\" y2=\"23\" style=\"stroke-width:2\" />\n",
       "\n",
       "  <!-- Colored Rectangle -->\n",
       "  <polygon points=\"10.0,0.0 130.0,0.0 153.94492314957307,23.94492314957306 33.94492314957306,23.94492314957306\" style=\"fill:#ECB172A0;stroke-width:0\"/>\n",
       "\n",
       "  <!-- Horizontal lines -->\n",
       "  <line x1=\"33\" y1=\"23\" x2=\"153\" y2=\"23\" style=\"stroke-width:2\" />\n",
       "  <line x1=\"33\" y1=\"143\" x2=\"153\" y2=\"143\" style=\"stroke-width:2\" />\n",
       "\n",
       "  <!-- Vertical lines -->\n",
       "  <line x1=\"33\" y1=\"23\" x2=\"33\" y2=\"143\" style=\"stroke-width:2\" />\n",
       "  <line x1=\"153\" y1=\"23\" x2=\"153\" y2=\"143\" style=\"stroke-width:2\" />\n",
       "\n",
       "  <!-- Colored Rectangle -->\n",
       "  <polygon points=\"33.94492314957306,23.94492314957306 153.94492314957307,23.94492314957306 153.94492314957307,143.94492314957307 33.94492314957306,143.94492314957307\" style=\"fill:#ECB172A0;stroke-width:0\"/>\n",
       "\n",
       "  <!-- Text -->\n",
       "  <text x=\"93.944923\" y=\"163.944923\" font-size=\"1.0rem\" font-weight=\"100\" text-anchor=\"middle\" >80</text>\n",
       "  <text x=\"173.944923\" y=\"83.944923\" font-size=\"1.0rem\" font-weight=\"100\" text-anchor=\"middle\" transform=\"rotate(0,173.944923,83.944923)\">80</text>\n",
       "  <text x=\"11.972462\" y=\"151.972462\" font-size=\"1.0rem\" font-weight=\"100\" text-anchor=\"middle\" transform=\"rotate(45,11.972462,151.972462)\">12</text>\n",
       "</svg>\n",
       "        </td>\n",
       "    </tr>\n",
       "</table></div></li></ul></div></li><li class='xr-section-item'><input id='section-572a518c-1b3f-4d56-9689-5a3bc76e9d28' class='xr-section-summary-in' type='checkbox'  ><label for='section-572a518c-1b3f-4d56-9689-5a3bc76e9d28' class='xr-section-summary' >Indexes: <span>(3)</span></label><div class='xr-section-inline-details'></div><div class='xr-section-details'><ul class='xr-var-list'><li class='xr-var-item'><div class='xr-index-name'><div>lat</div></div><div class='xr-index-preview'>PandasIndex</div><div></div><input id='index-33826649-d585-4031-9dce-1ae70ae43e78' class='xr-index-data-in' type='checkbox'/><label for='index-33826649-d585-4031-9dce-1ae70ae43e78' title='Show/Hide index repr'><svg class='icon xr-icon-database'><use xlink:href='#icon-database'></use></svg></label><div class='xr-index-data'><pre>PandasIndex(Index([-39.5, -38.5, -37.5, -36.5, -35.5, -34.5, -33.5, -32.5, -31.5, -30.5,\n",
       "       -29.5, -28.5, -27.5, -26.5, -25.5, -24.5, -23.5, -22.5, -21.5, -20.5,\n",
       "       -19.5, -18.5, -17.5, -16.5, -15.5, -14.5, -13.5, -12.5, -11.5, -10.5,\n",
       "        -9.5,  -8.5,  -7.5,  -6.5,  -5.5,  -4.5,  -3.5,  -2.5,  -1.5,  -0.5,\n",
       "         0.5,   1.5,   2.5,   3.5,   4.5,   5.5,   6.5,   7.5,   8.5,   9.5,\n",
       "        10.5,  11.5,  12.5,  13.5,  14.5,  15.5,  16.5,  17.5,  18.5,  19.5,\n",
       "        20.5,  21.5,  22.5,  23.5,  24.5,  25.5,  26.5,  27.5,  28.5,  29.5,\n",
       "        30.5,  31.5,  32.5,  33.5,  34.5,  35.5,  36.5,  37.5,  38.5,  39.5],\n",
       "      dtype=&#x27;float32&#x27;, name=&#x27;lat&#x27;))</pre></div></li><li class='xr-var-item'><div class='xr-index-name'><div>lon</div></div><div class='xr-index-preview'>PandasIndex</div><div></div><input id='index-7e583255-e628-43ac-8ec3-a44a444d5241' class='xr-index-data-in' type='checkbox'/><label for='index-7e583255-e628-43ac-8ec3-a44a444d5241' title='Show/Hide index repr'><svg class='icon xr-icon-database'><use xlink:href='#icon-database'></use></svg></label><div class='xr-index-data'><pre>PandasIndex(Index([-22.5, -21.5, -20.5, -19.5, -18.5, -17.5, -16.5, -15.5, -14.5, -13.5,\n",
       "       -12.5, -11.5, -10.5,  -9.5,  -8.5,  -7.5,  -6.5,  -5.5,  -4.5,  -3.5,\n",
       "        -2.5,  -1.5,  -0.5,   0.5,   1.5,   2.5,   3.5,   4.5,   5.5,   6.5,\n",
       "         7.5,   8.5,   9.5,  10.5,  11.5,  12.5,  13.5,  14.5,  15.5,  16.5,\n",
       "        17.5,  18.5,  19.5,  20.5,  21.5,  22.5,  23.5,  24.5,  25.5,  26.5,\n",
       "        27.5,  28.5,  29.5,  30.5,  31.5,  32.5,  33.5,  34.5,  35.5,  36.5,\n",
       "        37.5,  38.5,  39.5,  40.5,  41.5,  42.5,  43.5,  44.5,  45.5,  46.5,\n",
       "        47.5,  48.5,  49.5,  50.5,  51.5,  52.5,  53.5,  54.5,  55.5,  56.5],\n",
       "      dtype=&#x27;float32&#x27;, name=&#x27;lon&#x27;))</pre></div></li><li class='xr-var-item'><div class='xr-index-name'><div>time</div></div><div class='xr-index-preview'>PandasIndex</div><div></div><input id='index-f3003050-1182-4fa2-abf3-1f411a4ddc8f' class='xr-index-data-in' type='checkbox'/><label for='index-f3003050-1182-4fa2-abf3-1f411a4ddc8f' title='Show/Hide index repr'><svg class='icon xr-icon-database'><use xlink:href='#icon-database'></use></svg></label><div class='xr-index-data'><pre>PandasIndex(DatetimeIndex([&#x27;2005-01-16 12:00:00&#x27;, &#x27;2005-02-15 00:00:00&#x27;,\n",
       "               &#x27;2005-03-16 12:00:00&#x27;, &#x27;2005-04-16 00:00:00&#x27;,\n",
       "               &#x27;2005-05-16 12:00:00&#x27;, &#x27;2005-06-16 00:00:00&#x27;,\n",
       "               &#x27;2005-07-16 12:00:00&#x27;, &#x27;2005-08-16 12:00:00&#x27;,\n",
       "               &#x27;2005-09-16 00:00:00&#x27;, &#x27;2005-10-16 12:00:00&#x27;,\n",
       "               &#x27;2005-11-16 00:00:00&#x27;, &#x27;2005-12-16 12:00:00&#x27;],\n",
       "              dtype=&#x27;datetime64[ns]&#x27;, name=&#x27;time&#x27;, freq=None))</pre></div></li></ul></div></li><li class='xr-section-item'><input id='section-b6dfabd8-4954-4c04-9e77-e988cac7d10e' class='xr-section-summary-in' type='checkbox'  checked><label for='section-b6dfabd8-4954-4c04-9e77-e988cac7d10e' class='xr-section-summary' >Attributes: <span>(8)</span></label><div class='xr-section-inline-details'></div><div class='xr-section-details'><dl class='xr-attrs'><dt><span>Conventions :</span></dt><dd>CF-1.7</dd><dt><span>title :</span></dt><dd>esacci.AEROSOL.mon.L3.AAI.multi-sensor.multi-platform.MSAAI.1-7.r1</dd><dt><span>date_created :</span></dt><dd>2024-11-05T17:45:16.060471</dd><dt><span>processing_level :</span></dt><dd>L3</dd><dt><span>time_coverage_start :</span></dt><dd>2005-01-01T00:00:00</dd><dt><span>time_coverage_end :</span></dt><dd>2006-01-01T00:00:00</dd><dt><span>time_coverage_duration :</span></dt><dd>P365DT0H0M0S</dd><dt><span>history :</span></dt><dd>[{&#x27;program&#x27;: &#x27;xcube_cci.chunkstore.CciChunkStore&#x27;, &#x27;cube_params&#x27;: {&#x27;variable_names&#x27;: [&#x27;absorbing_aerosol_index&#x27;], &#x27;time_range&#x27;: [&#x27;2005-01-01T00:00:00&#x27;, &#x27;2005-12-31T00:00:00&#x27;], &#x27;bbox&#x27;: [-23.4, -40.4, 57.4, 40.4]}}]</dd></dl></div></li></ul></div></div>"
      ],
      "text/plain": [
       "<xarray.Dataset> Size: 308kB\n",
       "Dimensions:                  (time: 12, lat: 80, lon: 80, bnds: 2)\n",
       "Coordinates:\n",
       "  * lat                      (lat) float32 320B -39.5 -38.5 -37.5 ... 38.5 39.5\n",
       "  * lon                      (lon) float32 320B -22.5 -21.5 -20.5 ... 55.5 56.5\n",
       "  * time                     (time) datetime64[ns] 96B 2005-01-16T12:00:00 .....\n",
       "    time_bnds                (time, bnds) datetime64[ns] 192B dask.array<chunksize=(12, 2), meta=np.ndarray>\n",
       "Dimensions without coordinates: bnds\n",
       "Data variables:\n",
       "    absorbing_aerosol_index  (time, lat, lon) float32 307kB dask.array<chunksize=(1, 80, 80), meta=np.ndarray>\n",
       "Attributes:\n",
       "    Conventions:             CF-1.7\n",
       "    title:                   esacci.AEROSOL.mon.L3.AAI.multi-sensor.multi-pla...\n",
       "    date_created:            2024-11-05T17:45:16.060471\n",
       "    processing_level:        L3\n",
       "    time_coverage_start:     2005-01-01T00:00:00\n",
       "    time_coverage_end:       2006-01-01T00:00:00\n",
       "    time_coverage_duration:  P365DT0H0M0S\n",
       "    history:                 [{'program': 'xcube_cci.chunkstore.CciChunkStore..."
      ]
     },
     "execution_count": 7,
     "metadata": {},
     "output_type": "execute_result"
    }
   ],
   "source": [
    "cube = cci_store.open_data('esacci.AEROSOL.mon.L3.AAI.multi-sensor.multi-platform.MSAAI.1-7.r1',\n",
    "                           variable_names=['absorbing_aerosol_index'],\n",
    "                           bbox=bbox,\n",
    "                           time_range=['2005-01-01', '2005-12-31'])\n",
    "cube"
   ]
  },
  {
   "cell_type": "markdown",
   "metadata": {},
   "source": [
    "We may visualize the cube's time coordinates:"
   ]
  },
  {
   "cell_type": "code",
   "execution_count": 8,
   "metadata": {
    "tags": []
   },
   "outputs": [
    {
     "data": {
      "text/plain": [
       "[<matplotlib.lines.Line2D at 0x7fa76ac354c0>]"
      ]
     },
     "execution_count": 8,
     "metadata": {},
     "output_type": "execute_result"
    },
    {
     "data": {
      "image/png": "[encoded data removed]",
      "text/plain": [
       "<Figure size 640x480 with 1 Axes>"
      ]
     },
     "metadata": {},
     "output_type": "display_data"
    }
   ],
   "source": [
    "cube.time.diff(dim='time').plot.line()"
   ]
  },
  {
   "cell_type": "markdown",
   "metadata": {},
   "source": [
    "And finally, display the results:"
   ]
  },
  {
   "cell_type": "code",
   "execution_count": 9,
   "metadata": {
    "tags": []
   },
   "outputs": [
    {
     "data": {
      "text/plain": [
       "<matplotlib.image.AxesImage at 0x7fa76aca72f0>"
      ]
     },
     "execution_count": 9,
     "metadata": {},
     "output_type": "execute_result"
    },
    {
     "data": {
      "image/png": "[encoded data removed]",
      "text/plain": [
       "<Figure size 800x800 with 2 Axes>"
      ]
     },
     "metadata": {},
     "output_type": "display_data"
    }
   ],
   "source": [
    "cube.absorbing_aerosol_index.sel(time='2005-04-15 12:00:00', method='nearest').plot.imshow(cmap='Greys_r', figsize=(8, 8))"
   ]
  },
  {
   "cell_type": "code",
   "execution_count": null,
   "metadata": {},
   "outputs": [],
   "source": []
  }
 ],
 "metadata": {
  "kernelspec": {
   "display_name": "Python 3 (ipykernel)",
   "language": "python",
   "name": "python3"
  },
  "language_info": {
   "codemirror_mode": {
    "name": "ipython",
    "version": 3
   },
   "file_extension": ".py",
   "mimetype": "text/x-python",
   "name": "python",
   "nbconvert_exporter": "python",
   "pygments_lexer": "ipython3",
   "version": "3.12.7"
  }
 },
 "nbformat": 4,
 "nbformat_minor": 4
}
