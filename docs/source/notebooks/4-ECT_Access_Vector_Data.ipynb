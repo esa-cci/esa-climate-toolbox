{
 "cells": [
  {
   "cell_type": "markdown",
   "id": "eecd1d2c-6b93-428e-8a60-5800274da618",
   "metadata": {},
   "source": [
    "## ESA CCI Toolbox Vector Data Access\n",
    "\n",
    "The ESA CCI Toolbox also provides access to data that is not provided on a structured grid. This data is provided in the form of geopandas geodataframes rather than xarray datasets.\n",
    "\n",
    "To run this Notebook, make sure the ESA CCI Toolbox is setup correctly."
   ]
  },
  {
   "cell_type": "markdown",
   "id": "cb14d9ac-8491-410d-a836-c554dae785c7",
   "metadata": {},
   "source": [
    "For this notebook, we start as before, by opening the standard `esa-cci` data store."
   ]
  },
  {
   "cell_type": "code",
   "execution_count": 1,
   "id": "c8835695-30f4-49aa-9a83-bd83f66db59e",
   "metadata": {
    "tags": []
   },
   "outputs": [
    {
     "name": "stderr",
     "output_type": "stream",
     "text": [
      "<frozen abc>:106: FutureWarning: xarray subclass VectorDataCube should explicitly define __slots__\n"
     ]
    }
   ],
   "source": [
    "from xcube.core.store import new_data_store\n",
    "\n",
    "cci_store = new_data_store('esa-cci')"
   ]
  },
  {
   "cell_type": "markdown",
   "id": "50f9dd64-758d-4c2e-8793-d34b7e2e3bb2",
   "metadata": {},
   "source": [
    "The data in question are GHG, SEALEVEL, and SEAICE datasets in `satellite-orbit-frequency`. Let's search for GHG datasets."
   ]
  },
  {
   "cell_type": "code",
   "execution_count": 2,
   "id": "07789554-f0be-47b0-941b-ec4c8825134e",
   "metadata": {
    "tags": []
   },
   "outputs": [
    {
     "name": "stderr",
     "output_type": "stream",
     "text": [
      "Dataset is not accessible via Opendap or Download\n",
      "Dataset is not accessible via Opendap or Download\n",
      "Dataset is not accessible via Opendap or Download\n",
      "/home/tonio-bc/projects/esa-cci/xcube-cci/xcube_cci/cciodp.py:1960: CciOdpWarning: Variable \"gain\" has no fill value, cannot set one. For parts where no data is available you will see random values. This is usually the case when data is missing for a time step.\n",
      "  warnings.warn(f'Variable \"{fixed_key}\" has no fill value, '\n",
      "/home/tonio-bc/projects/esa-cci/xcube-cci/xcube_cci/cciodp.py:1960: CciOdpWarning: Variable \"l1b_name\" has no fill value, cannot set one. For parts where no data is available you will see random values. This is usually the case when data is missing for a time step.\n",
      "  warnings.warn(f'Variable \"{fixed_key}\" has no fill value, '\n",
      "/home/tonio-bc/projects/esa-cci/xcube-cci/xcube_cci/cciodp.py:1960: CciOdpWarning: Variable \"exposure_id\" has no fill value, cannot set one. For parts where no data is available you will see random values. This is usually the case when data is missing for a time step.\n",
      "  warnings.warn(f'Variable \"{fixed_key}\" has no fill value, '\n"
     ]
    },
    {
     "data": {
      "text/plain": [
       "['esacci.GHG.satellite-orbit-frequency.L2.CH4.SCIAMACHY.Envisat.IMAP.v7-2.r1',\n",
       " 'esacci.GHG.satellite-orbit-frequency.L2.CH4.SCIAMACHY.Envisat.WFMD.v4-0.r1',\n",
       " 'esacci.GHG.satellite-orbit-frequency.L2.CH4.TANSO-FTS-2.GOSAT-2.SRFP.v2-0-2.r1',\n",
       " 'esacci.GHG.satellite-orbit-frequency.L2.CH4.TANSO-FTS-2.GOSAT-2.SRPR.v2-0-2.r1',\n",
       " 'esacci.GHG.satellite-orbit-frequency.L2.CH4.TANSO-FTS.GOSAT.EMMA.ch4_v1-2.r1',\n",
       " 'esacci.GHG.satellite-orbit-frequency.L2.CH4.TANSO-FTS.GOSAT.OCFP.v2-1.r1',\n",
       " 'esacci.GHG.satellite-orbit-frequency.L2.CH4.TANSO-FTS.GOSAT.OCPR.v7-0.r1',\n",
       " 'esacci.GHG.satellite-orbit-frequency.L2.CH4.TANSO-FTS.GOSAT.SRFP.v2-3-8.r1',\n",
       " 'esacci.GHG.satellite-orbit-frequency.L2.CH4.TANSO-FTS.GOSAT.SRPR.v2-3-8.r1',\n",
       " 'esacci.GHG.satellite-orbit-frequency.L2.CH4.TROPOMI.Sentinel-5P.WFMD.v1-8.r1',\n",
       " 'esacci.GHG.satellite-orbit-frequency.L2.CO2.OCO.OCO-2.FOCAL.v10-1.r1',\n",
       " 'esacci.GHG.satellite-orbit-frequency.L2.CO2.SCIAMACHY.Envisat.BESD.v02-01-02.r1',\n",
       " 'esacci.GHG.satellite-orbit-frequency.L2.CO2.SCIAMACHY.Envisat.WFMD.v4-0.r1',\n",
       " 'esacci.GHG.satellite-orbit-frequency.L2.CO2.TANSO-FTS-2.GOSAT-2.SRFP.v2-0-2.r1',\n",
       " 'esacci.GHG.satellite-orbit-frequency.L2.CO2.TANSO-FTS.GOSAT.EMMA.v2-2c.r1',\n",
       " 'esacci.GHG.satellite-orbit-frequency.L2.CO2.TANSO-FTS.GOSAT.OCFP.v7-0-1.r1',\n",
       " 'esacci.GHG.satellite-orbit-frequency.L2.CO2.TANSO-FTS.GOSAT.SRFP.v2-3-8.r1',\n",
       " 'esacci.GHG.satellite-orbit-frequency.L2.CO2.multi-sensor.multi-platform.EMMA.v2-2a.r1',\n",
       " 'esacci.GHG.satellite-orbit-frequency.L2.CO2.multi-sensor.multi-platform.EMMA.v2-2b.r1']"
      ]
     },
     "execution_count": 2,
     "metadata": {},
     "output_type": "execute_result"
    }
   ],
   "source": [
    "descriptors = cci_store.search_data(\n",
    "    data_type=\"geodataframe\",\n",
    "    cci_attrs=dict(\n",
    "        ecv=\"GHG\"\n",
    "    )\n",
    ")\n",
    "[descriptor.data_id for descriptor in descriptors]"
   ]
  },
  {
   "cell_type": "markdown",
   "id": "e173a52c-e49c-4d8a-9980-7a56191fe853",
   "metadata": {},
   "source": [
    "We have a closer look at the first one."
   ]
  },
  {
   "cell_type": "code",
   "execution_count": 3,
   "id": "053694e7-f5e8-439e-838a-cee50bbc9573",
   "metadata": {
    "tags": []
   },
   "outputs": [
    {
     "data": {
      "application/json": {
       "bbox": [
        -180,
        -90,
        180,
        90
       ],
       "crs": "WGS84",
       "data_id": "esacci.GHG.satellite-orbit-frequency.L2.CH4.SCIAMACHY.Envisat.IMAP.v7-2.r1",
       "data_type": "geodataframe",
       "feature_schema": {
        "additionalProperties": false,
        "properties": {
         "ch4_profile_apriori": {
          "properties": {},
          "type": "object"
         },
         "chi2_ch4": {
          "properties": {},
          "type": "object"
         },
         "chi2_co2": {
          "properties": {},
          "type": "object"
         },
         "dry_airmass_layer": {
          "properties": {},
          "type": "object"
         },
         "geometry": {
          "pattern": "POINT(* *)",
          "type": "string"
         },
         "h2o_ecmwf": {
          "properties": {},
          "type": "object"
         },
         "pressure_levels": {
          "properties": {},
          "type": "object"
         },
         "pressure_weight": {
          "properties": {},
          "type": "object"
         },
         "sensor_zenith_angle": {
          "properties": {},
          "type": "object"
         },
         "solar_zenith_angle": {
          "properties": {},
          "type": "object"
         },
         "surface_elevation": {
          "properties": {},
          "type": "object"
         },
         "surface_temperature": {
          "properties": {},
          "type": "object"
         },
         "time": {
          "format": "date",
          "type": "string"
         },
         "xch4": {
          "properties": {},
          "type": "object"
         },
         "xch4_averaging_kernel": {
          "properties": {},
          "type": "object"
         },
         "xch4_prior": {
          "properties": {},
          "type": "object"
         },
         "xch4_quality_flag": {
          "properties": {},
          "type": "object"
         },
         "xch4_raw": {
          "properties": {},
          "type": "object"
         },
         "xch4_uncertainty": {
          "properties": {},
          "type": "object"
         },
         "xch4_v71": {
          "properties": {},
          "type": "object"
         },
         "xco2_CT2015": {
          "properties": {},
          "type": "object"
         },
         "xco2_macc": {
          "properties": {},
          "type": "object"
         },
         "xco2_prior": {
          "properties": {},
          "type": "object"
         },
         "xco2_retrieved": {
          "properties": {},
          "type": "object"
         }
        },
        "type": "object"
       },
       "open_params_schema": {
        "additionalProperties": false,
        "properties": {
         "bbox": {
          "items": [
           {
            "maximum": 180,
            "minimum": -180,
            "type": "number"
           },
           {
            "maximum": 90,
            "minimum": -90,
            "type": "number"
           },
           {
            "maximum": 180,
            "minimum": -180,
            "type": "number"
           },
           {
            "maximum": 90,
            "minimum": -90,
            "type": "number"
           }
          ],
          "type": "array"
         },
         "time_range": {
          "items": [
           {
            "format": "date",
            "maxDate": "2012-04-08",
            "minDate": "2003-01-08",
            "type": "string"
           },
           {
            "format": "date",
            "maxDate": "2012-04-08",
            "minDate": "2003-01-08",
            "type": "string"
           }
          ],
          "type": "array"
         },
         "variable_names": {
          "items": {
           "enum": [
            "solar_zenith_angle",
            "sensor_zenith_angle",
            "pressure_levels",
            "pressure_weight",
            "xch4_raw",
            "xch4",
            "h2o_ecmwf",
            "xch4_prior",
            "xco2_prior",
            "xco2_retrieved",
            "xch4_uncertainty",
            "xch4_averaging_kernel",
            "ch4_profile_apriori",
            "xch4_quality_flag",
            "dry_airmass_layer",
            "surface_elevation",
            "surface_temperature",
            "chi2_ch4",
            "chi2_co2",
            "xco2_macc",
            "xco2_CT2015",
            "xch4_v71"
           ],
           "type": "string"
          },
          "type": "array"
         }
        },
        "type": "object"
       },
       "time_range": [
        "2003-01-08",
        "2012-04-08"
       ]
      },
      "text/plain": [
       "<xcube.core.store.descriptor.GeoDataFrameDescriptor at 0x7efeac4baf60>"
      ]
     },
     "execution_count": 3,
     "metadata": {},
     "output_type": "execute_result"
    }
   ],
   "source": [
    "descriptors[0]"
   ]
  },
  {
   "cell_type": "markdown",
   "id": "53507a23-45cb-4742-b9d8-90cd2b748984",
   "metadata": {},
   "source": [
    "It makes sense to not open the whole dataframe but read in a subset. We ask for two variables for one day (the variable names are listed under feature_schema:properties)."
   ]
  },
  {
   "cell_type": "code",
   "execution_count": 4,
   "id": "197f8ff6-46f0-490f-a1a2-4539cc47fa92",
   "metadata": {
    "tags": []
   },
   "outputs": [
    {
     "data": {
      "text/html": [
       "<div>\n",
       "<style scoped>\n",
       "    .dataframe tbody tr th:only-of-type {\n",
       "        vertical-align: middle;\n",
       "    }\n",
       "\n",
       "    .dataframe tbody tr th {\n",
       "        vertical-align: top;\n",
       "    }\n",
       "\n",
       "    .dataframe thead th {\n",
       "        text-align: right;\n",
       "    }\n",
       "</style>\n",
       "<table border=\"1\" class=\"dataframe\">\n",
       "  <thead>\n",
       "    <tr style=\"text-align: right;\">\n",
       "      <th></th>\n",
       "      <th>geometry</th>\n",
       "      <th>xch4</th>\n",
       "      <th>xco2_retrieved</th>\n",
       "      <th>time</th>\n",
       "    </tr>\n",
       "  </thead>\n",
       "  <tbody>\n",
       "    <tr>\n",
       "      <th>0</th>\n",
       "      <td>POINT (21.12531 66.15704)</td>\n",
       "      <td>1835.639282</td>\n",
       "      <td>350.589783</td>\n",
       "      <td>2010-07-04T00:00:00</td>\n",
       "    </tr>\n",
       "    <tr>\n",
       "      <th>1</th>\n",
       "      <td>POINT (17.33319 54.23273)</td>\n",
       "      <td>1848.246216</td>\n",
       "      <td>350.940857</td>\n",
       "      <td>2010-07-04T00:00:00</td>\n",
       "    </tr>\n",
       "    <tr>\n",
       "      <th>2</th>\n",
       "      <td>POINT (21.32617 53.16351)</td>\n",
       "      <td>1834.837891</td>\n",
       "      <td>361.529053</td>\n",
       "      <td>2010-07-04T00:00:00</td>\n",
       "    </tr>\n",
       "    <tr>\n",
       "      <th>3</th>\n",
       "      <td>POINT (17.02777 53.6568)</td>\n",
       "      <td>1767.532104</td>\n",
       "      <td>357.012085</td>\n",
       "      <td>2010-07-04T00:00:00</td>\n",
       "    </tr>\n",
       "    <tr>\n",
       "      <th>4</th>\n",
       "      <td>POINT (15.31268 53.61804)</td>\n",
       "      <td>1846.445312</td>\n",
       "      <td>384.051636</td>\n",
       "      <td>2010-07-04T00:00:00</td>\n",
       "    </tr>\n",
       "    <tr>\n",
       "      <th>...</th>\n",
       "      <td>...</td>\n",
       "      <td>...</td>\n",
       "      <td>...</td>\n",
       "      <td>...</td>\n",
       "    </tr>\n",
       "    <tr>\n",
       "      <th>3546</th>\n",
       "      <td>POINT (176.04736 62.59637)</td>\n",
       "      <td>1756.709839</td>\n",
       "      <td>379.857666</td>\n",
       "      <td>2010-07-04T00:00:00</td>\n",
       "    </tr>\n",
       "    <tr>\n",
       "      <th>3547</th>\n",
       "      <td>POINT (173.65729 62.86865)</td>\n",
       "      <td>1774.327759</td>\n",
       "      <td>357.646545</td>\n",
       "      <td>2010-07-04T00:00:00</td>\n",
       "    </tr>\n",
       "    <tr>\n",
       "      <th>3548</th>\n",
       "      <td>POINT (174.71912 62.44507)</td>\n",
       "      <td>1805.762573</td>\n",
       "      <td>374.800110</td>\n",
       "      <td>2010-07-04T00:00:00</td>\n",
       "    </tr>\n",
       "    <tr>\n",
       "      <th>3549</th>\n",
       "      <td>POINT (173.18512 62.00031)</td>\n",
       "      <td>1841.642090</td>\n",
       "      <td>350.549011</td>\n",
       "      <td>2010-07-04T00:00:00</td>\n",
       "    </tr>\n",
       "    <tr>\n",
       "      <th>3550</th>\n",
       "      <td>POINT (171.62189 61.54938)</td>\n",
       "      <td>1752.140625</td>\n",
       "      <td>350.487610</td>\n",
       "      <td>2010-07-04T00:00:00</td>\n",
       "    </tr>\n",
       "  </tbody>\n",
       "</table>\n",
       "<p>3551 rows × 4 columns</p>\n",
       "</div>"
      ],
      "text/plain": [
       "                        geometry         xch4  xco2_retrieved  \\\n",
       "0      POINT (21.12531 66.15704)  1835.639282      350.589783   \n",
       "1      POINT (17.33319 54.23273)  1848.246216      350.940857   \n",
       "2      POINT (21.32617 53.16351)  1834.837891      361.529053   \n",
       "3       POINT (17.02777 53.6568)  1767.532104      357.012085   \n",
       "4      POINT (15.31268 53.61804)  1846.445312      384.051636   \n",
       "...                          ...          ...             ...   \n",
       "3546  POINT (176.04736 62.59637)  1756.709839      379.857666   \n",
       "3547  POINT (173.65729 62.86865)  1774.327759      357.646545   \n",
       "3548  POINT (174.71912 62.44507)  1805.762573      374.800110   \n",
       "3549  POINT (173.18512 62.00031)  1841.642090      350.549011   \n",
       "3550  POINT (171.62189 61.54938)  1752.140625      350.487610   \n",
       "\n",
       "                     time  \n",
       "0     2010-07-04T00:00:00  \n",
       "1     2010-07-04T00:00:00  \n",
       "2     2010-07-04T00:00:00  \n",
       "3     2010-07-04T00:00:00  \n",
       "4     2010-07-04T00:00:00  \n",
       "...                   ...  \n",
       "3546  2010-07-04T00:00:00  \n",
       "3547  2010-07-04T00:00:00  \n",
       "3548  2010-07-04T00:00:00  \n",
       "3549  2010-07-04T00:00:00  \n",
       "3550  2010-07-04T00:00:00  \n",
       "\n",
       "[3551 rows x 4 columns]"
      ]
     },
     "execution_count": 4,
     "metadata": {},
     "output_type": "execute_result"
    }
   ],
   "source": [
    "var_names = [\"xch4\", \"xco2_retrieved\"]\n",
    "time_range = [\"2010-07-04\", \"2010-07-04\"]\n",
    "\n",
    "ghg_df = cci_store.open_data(\n",
    "    \"esacci.GHG.satellite-orbit-frequency.L2.CH4.SCIAMACHY.Envisat.IMAP.v7-2.r1\",\n",
    "    variable_names=var_names,\n",
    "    time_range=time_range\n",
    ")\n",
    "ghg_df"
   ]
  },
  {
   "cell_type": "code",
   "execution_count": 5,
   "id": "15953de4-80fb-4259-b2b5-75cad75c5ee8",
   "metadata": {
    "tags": []
   },
   "outputs": [
    {
     "data": {
      "text/plain": [
       "<Axes: >"
      ]
     },
     "execution_count": 5,
     "metadata": {},
     "output_type": "execute_result"
    },
    {
     "data": {
      "image/png": "[encoded data removed]",
      "text/plain": [
       "<Figure size 640x480 with 1 Axes>"
      ]
     },
     "metadata": {},
     "output_type": "display_data"
    }
   ],
   "source": [
    "ghg_df.plot(column=\"xch4\")"
   ]
  },
  {
   "cell_type": "code",
   "execution_count": null,
   "id": "df32c256-f36f-4a19-8d41-1a7513176e22",
   "metadata": {},
   "outputs": [],
   "source": []
  }
 ],
 "metadata": {
  "kernelspec": {
   "display_name": "Python 3 (ipykernel)",
   "language": "python",
   "name": "python3"
  },
  "language_info": {
   "codemirror_mode": {
    "name": "ipython",
    "version": 3
   },
   "file_extension": ".py",
   "mimetype": "text/x-python",
   "name": "python",
   "nbconvert_exporter": "python",
   "pygments_lexer": "ipython3",
   "version": "3.12.7"
  }
 },
 "nbformat": 4,
 "nbformat_minor": 5
}
