{
 "cells": [
  {
   "cell_type": "markdown",
   "id": "0e074aeb-77c4-4db5-86f2-b6f0b22a7ecd",
   "metadata": {},
   "source": [
    "## ESA CCI Toolbox Finding Data\n",
    "\n",
    "This notebook shows the usage of some covenience functions that have been setup to further facilitate the handling of the stores and the use of the ESA CCI Toolbox. A thorough description can be found here: https://esa-climate-toolbox.readthedocs.io/en/latest/api_reference.html#datasets-and-datastores. To see how you can actually open data using these stores, see notebooks 2-5.\n",
    "\n",
    "To run this Notebook, make sure the ESA CCI Toolbox is setup correctly."
   ]
  },
  {
   "cell_type": "markdown",
   "id": "511a46c7-a292-4a75-b7b6-7dc3ab5d48ee",
   "metadata": {},
   "source": [
    "The functions provided here serve the purpose to get an overview about data and from which data store to get it from. They also serve to look for Essential Climate Variables. We may start by listing all that are provided by the ESA CCI Toolbox."
   ]
  },
  {
   "cell_type": "code",
   "execution_count": 1,
   "id": "170d3f32-31bf-4693-b7f6-4fd919e46e12",
   "metadata": {
    "tags": []
   },
   "outputs": [
    {
     "name": "stderr",
     "output_type": "stream",
     "text": [
      "<frozen abc>:106: FutureWarning: xarray subclass VectorDataCube should explicitly define __slots__\n"
     ]
    },
    {
     "data": {
      "text/plain": [
       "['PERMAFROST',\n",
       " 'ICESHEETS',\n",
       " 'SNOW',\n",
       " 'SST',\n",
       " 'SEALEVEL',\n",
       " 'OZONE',\n",
       " 'RD',\n",
       " 'AEROSOL',\n",
       " 'SOILMOISTURE',\n",
       " 'LST',\n",
       " 'GHG',\n",
       " 'FIRE',\n",
       " 'SEASTATE',\n",
       " 'WATERVAPOUR',\n",
       " 'SEASURFACESALINITY',\n",
       " 'LC',\n",
       " 'SEAICE',\n",
       " 'BIOMASS',\n",
       " 'OC',\n",
       " 'CLOUD',\n",
       " 'VEGETATION',\n",
       " 'LAKES']"
      ]
     },
     "execution_count": 1,
     "metadata": {},
     "output_type": "execute_result"
    }
   ],
   "source": [
    "from esa_climate_toolbox.core import list_ecvs\n",
    "\n",
    "list_ecvs()"
   ]
  },
  {
   "cell_type": "markdown",
   "id": "42d30f51-d329-4be9-8689-c99a39540e08",
   "metadata": {},
   "source": [
    "Now that we see what the toolbox can offer, we can find datasets for one ecv, e.g., WATERVAPOUR."
   ]
  },
  {
   "cell_type": "code",
   "execution_count": 2,
   "id": "3416d982-34d9-4f33-9504-659f4fddbb69",
   "metadata": {
    "tags": []
   },
   "outputs": [
    {
     "data": {
      "text/plain": [
       "[('esacci.BIOMASS.yr.L4.AGB.multi-sensor.multi-platform.CHANGE.4-0.r1',\n",
       "  'esa-cci'),\n",
       " ('esacci.BIOMASS.yr.L4.AGB.multi-sensor.multi-platform.CHANGE.5-0.2016-2015',\n",
       "  'esa-cci'),\n",
       " ('esacci.BIOMASS.yr.L4.AGB.multi-sensor.multi-platform.CHANGE.5-0.2017-2016',\n",
       "  'esa-cci'),\n",
       " ('esacci.BIOMASS.yr.L4.AGB.multi-sensor.multi-platform.CHANGE.5-0.2018-2017',\n",
       "  'esa-cci'),\n",
       " ('esacci.BIOMASS.yr.L4.AGB.multi-sensor.multi-platform.CHANGE.5-0.2019-2018',\n",
       "  'esa-cci'),\n",
       " ('esacci.BIOMASS.yr.L4.AGB.multi-sensor.multi-platform.CHANGE.5-0.2020-2010',\n",
       "  'esa-cci'),\n",
       " ('esacci.BIOMASS.yr.L4.AGB.multi-sensor.multi-platform.CHANGE.5-0.2020-2019',\n",
       "  'esa-cci'),\n",
       " ('esacci.BIOMASS.yr.L4.AGB.multi-sensor.multi-platform.CHANGE.5-0.2021-2020',\n",
       "  'esa-cci'),\n",
       " ('esacci.BIOMASS.yr.L4.AGB.multi-sensor.multi-platform.MERGED.2-0.r1',\n",
       "  'esa-cci'),\n",
       " ('esacci.BIOMASS.yr.L4.AGB.multi-sensor.multi-platform.MERGED.3-0.r1',\n",
       "  'esa-cci'),\n",
       " ('esacci.BIOMASS.yr.L4.AGB.multi-sensor.multi-platform.MERGED.4-0.r1',\n",
       "  'esa-cci'),\n",
       " ('esacci.BIOMASS.yr.L4.AGB.multi-sensor.multi-platform.MERGED.5-0.10000m',\n",
       "  'esa-cci'),\n",
       " ('esacci.BIOMASS.yr.L4.AGB.multi-sensor.multi-platform.MERGED.5-0.1000m',\n",
       "  'esa-cci'),\n",
       " ('esacci.BIOMASS.yr.L4.AGB.multi-sensor.multi-platform.MERGED.5-0.100m',\n",
       "  'esa-cci'),\n",
       " ('esacci.BIOMASS.yr.L4.AGB.multi-sensor.multi-platform.MERGED.5-0.25000m',\n",
       "  'esa-cci'),\n",
       " ('esacci.BIOMASS.yr.L4.AGB.multi-sensor.multi-platform.MERGED.5-0.50000m',\n",
       "  'esa-cci'),\n",
       " ('ESACCI-BIOMASS-L4-AGB-CHANGE-100m-2018-2017-fv4.0-kr1.1', 'esa-cci-kc'),\n",
       " ('ESACCI-BIOMASS-L4-AGB-CHANGE-100m-2019-2018-fv4.0-kr1.1', 'esa-cci-kc'),\n",
       " ('ESACCI-BIOMASS-L4-AGB-CHANGE-100m-2020-2010-fv4.0-kr1.1', 'esa-cci-kc'),\n",
       " ('ESACCI-BIOMASS-L4-AGB-CHANGE-100m-2020-2019-fv4.0-kr1.1', 'esa-cci-kc'),\n",
       " ('ESACCI-BIOMASS-L4-AGB-MERGED-100m-2010-2020-fv4.0-kr1.1', 'esa-cci-kc'),\n",
       " ('ESACCI-BIOMASS-L4-AGB-MERGED-100m-2010-2018-fv2.0.zarr', 'esa-cci-zarr'),\n",
       " ('ESACCI-BIOMASS-L4-AGB-MERGED-100m-2010-2020-fv4.0.zarr', 'esa-cci-zarr')]"
      ]
     },
     "execution_count": 2,
     "metadata": {},
     "output_type": "execute_result"
    }
   ],
   "source": [
    "from esa_climate_toolbox.core import list_ecv_datasets\n",
    "\n",
    "list_ecv_datasets(\"BIOMASS\")"
   ]
  },
  {
   "cell_type": "markdown",
   "id": "df828738-6a24-4aa5-ae8e-ac950b8215cb",
   "metadata": {},
   "source": [
    "The result consists of a list of tuples, where the first value is a data id and the second value the name of the store that provides access to the data. For information on how to access the stores specifically, using the xcube store framework, see notebooks 2 to 5. Here, we continue with listing all the stores that are registered in the system."
   ]
  },
  {
   "cell_type": "code",
   "execution_count": 3,
   "id": "5497516d-c22c-400e-b91c-c841e29bcecd",
   "metadata": {
    "tags": []
   },
   "outputs": [
    {
     "data": {
      "text/plain": [
       "['esa-cci', 'esa-cci-kc', 'esa-cci-zarr', 'local']"
      ]
     },
     "execution_count": 3,
     "metadata": {},
     "output_type": "execute_result"
    }
   ],
   "source": [
    "from esa_climate_toolbox.core import list_stores\n",
    "\n",
    "list_stores()"
   ]
  },
  {
   "cell_type": "markdown",
   "id": "0be6c74e-8f38-438c-a635-5f6f99fa6b7f",
   "metadata": {},
   "source": [
    "You will see default stores (and maybe some you have added yourself). You can also ask for a store by asking for a specific dataset id."
   ]
  },
  {
   "cell_type": "code",
   "execution_count": 4,
   "id": "f9bbb02b-2fb8-4720-ade4-bbf230b02aed",
   "metadata": {
    "tags": []
   },
   "outputs": [
    {
     "data": {
      "text/plain": [
       "('esa-cci', <xcube_cci.dataaccess.CciOdpDataStore at 0x7fbf29dcc620>)"
      ]
     },
     "execution_count": 4,
     "metadata": {},
     "output_type": "execute_result"
    }
   ],
   "source": [
    "from esa_climate_toolbox.core import find_data_store\n",
    "\n",
    "find_data_store(ds_id=\"esacci.WATERVAPOUR.mon.L3S.TCWV.multi-sensor.multi-platform.TCWV_land_05deg.3-2.r1\")"
   ]
  },
  {
   "cell_type": "markdown",
   "id": "4db751d3-c969-478c-aab1-5f94cddd9527",
   "metadata": {},
   "source": [
    "The result consists of the name of the store as well as the python object itself.\n",
    "We could also get it by just asking for its name."
   ]
  },
  {
   "cell_type": "code",
   "execution_count": 5,
   "id": "4ebadeaf-2532-42ad-ba5f-0109301b9e63",
   "metadata": {
    "tags": []
   },
   "outputs": [
    {
     "data": {
      "text/plain": [
       "<xcube_cci.dataaccess.CciOdpDataStore at 0x7fbf29dcc620>"
      ]
     },
     "execution_count": 5,
     "metadata": {},
     "output_type": "execute_result"
    }
   ],
   "source": [
    "from esa_climate_toolbox.core import get_store\n",
    "\n",
    "get_store(\"esa-cci\")"
   ]
  },
  {
   "cell_type": "markdown",
   "id": "bed4ed3f-9ae7-408a-a418-bef7367309d7",
   "metadata": {},
   "source": [
    "We can also ask for the data of a store:"
   ]
  },
  {
   "cell_type": "code",
   "execution_count": 6,
   "id": "c267e225-588b-4923-bb93-a90c41c6bdd7",
   "metadata": {
    "tags": []
   },
   "outputs": [
    {
     "data": {
      "text/plain": [
       "['ESACCI-BIOMASS-L4-AGB-MERGED-100m-2010-2018-fv2.0.zarr',\n",
       " 'ESACCI-BIOMASS-L4-AGB-MERGED-100m-2010-2020-fv4.0.zarr',\n",
       " 'ESACCI-GHG-L2-CH4-SCIAMACHY-WFMD-2002-2011-fv1.zarr',\n",
       " 'ESACCI-GHG-L2-CO2-OCO-2-FOCAL-2014-2021-v10.zarr',\n",
       " 'ESACCI-GHG-L2-CO2-SCIAMACHY-WFMD-2002-2012-fv1.zarr',\n",
       " 'ESACCI-ICESHEETS_Antarctica_GMB-2002-2016-v1.1.zarr',\n",
       " 'ESACCI-ICESHEETS_Greenland_GMB-2003-2016-v1.1.zarr',\n",
       " 'ESACCI-L3C_CLOUD-CLD_PRODUCTS-AVHRR_NOAA-1982-2016-fv3.0.zarr',\n",
       " 'ESACCI-L3C_SNOW-SWE-1979-2018-fv1.0.zarr',\n",
       " 'ESACCI-L3C_SNOW-SWE-1979-2020-fv2.0.zarr',\n",
       " 'ESACCI-L4_GHRSST-SST-GMPE-GLOB_CDR2.0-1981-2016-v02.0-fv01.0.zarr',\n",
       " 'ESACCI-LC-L4-LCCS-Map-300m-P1Y-1992-2015-v2.0.7b.zarr',\n",
       " 'ESACCI-LST-L3C-LST-MODISA-0.01deg_1DAILY_DAY-2002-2018-fv3.00.zarr',\n",
       " 'ESACCI-LST-L3C-LST-MODISA-0.01deg_1DAILY_NIGHT-2002-2018-fv3.00.zarr',\n",
       " 'ESACCI-LST-L3S-LST-IRCDR_-0.01deg_1DAILY_DAY-1995-2020-fv3.00.zarr',\n",
       " 'ESACCI-LST-L3S-LST-IRCDR_-0.01deg_1DAILY_NIGHT-1995-2020-fv3.00.zarr',\n",
       " 'ESACCI-LST-L3S-LST-IRCDR_-0.01deg_1MONTHLY_DAY-1995-2020-fv3.00.zarr',\n",
       " 'ESACCI-LST-L3S-LST-IRCDR_-0.01deg_1MONTHLY_NIGHT-1995-2020-fv3.00.zarr',\n",
       " 'ESACCI-OC-L3S-IOP-MERGED-1M_MONTHLY_4km_GEO_PML_OCx_QAA-1997-2020-fv5.0.zarr',\n",
       " 'ESACCI-OC-L3S-IOP-MERGED-1M_MONTHLY_4km_GEO_PML_OCx_QAA-1997-2022-fv6.0.zarr',\n",
       " 'ESACCI-OC-L3S-IOP-MERGED-1D_DAILY_4km_GEO_PML_OCx_QAA-1997-2022-fv6.0.zarr',\n",
       " 'ESACCI-OC-L3S-IOP-MERGED-1Y_YEARLY_4km_GEO_PML_OCx_QAA-1997-2022-fv6.0.zarr',\n",
       " 'ESACCI-OC-L3S-IOP-MERGED-5D_DAILY_4km_GEO_PML_OCx_QAA-2022-fv6.0.zarr',\n",
       " 'ESACCI-OC-L3S-IOP-MERGED-8D_DAILY_4km_GEO_PML_OCx_QAA-1997-2022-fv6.0.zarr',\n",
       " 'ESACCI-OC-L3S-OC_PRODUCTS-MERGED-1D_DAILY_4km_GEO_PML_OCx_QAA-1997-2022-fv6.0.zarr',\n",
       " 'ESACCI-OC-L3S-OC_PRODUCTS-MERGED-1M_MONTHLY_4km_GEO_PML_OCx_QAA-1997-2022-fv6.0.zarr',\n",
       " 'ESACCI-OC-L3S-OC_PRODUCTS-MERGED-1Y_YEARLY_4km_GEO_PML_OCx_QAA-1997-2022-fv6.0.zarr',\n",
       " 'ESACCI-OC-L3S-OC_PRODUCTS-MERGED-5D_DAILY_4km_GEO_PML_OCx_QAA-1997-2022-fv6.0.zarr',\n",
       " 'ESACCI-OC-L3S-OC_PRODUCTS-MERGED-8D_DAILY_4km_GEO_PML_OCx_QAA-2022-fv6.0.zarr',\n",
       " 'ESACCI-OC-L3S-RRS-MERGED-1M_MONTHLY_4km_GEO_PML_RRS-1997-2022-fv6.0.zarr',\n",
       " 'ESACCI-OC-L3S-RRS-MERGED-1Y_YEARLY_4km_GEO_PML_RRS-1997-2022-fv6.0.zarr',\n",
       " 'ESACCI-OC-L3S-RRS-MERGED-1D_DAILY_4km_GEO_PML_RRS-1997-2022-fv6.0.zarr',\n",
       " 'ESACCI-OC-L3S-RRS-MERGED-5D_DAILY_4km_GEO_PML_RRS-1997-2022-fv6.0.zarr',\n",
       " 'ESACCI-OC-L3S-RRS-MERGED-8D_DAILY_4km_GEO_PML_RRS-1997-2022-fv6.0.zarr',\n",
       " 'ESACCI-PERMAFROST-L4-ALT-MODISLST-AREA4_PP-1997-2018-fv02.0.zarr',\n",
       " 'ESACCI-SEAICE-L3C-SITHICK-RA2_ENVISAT-NH25KMEASE2-2002-2012-fv2.0.zarr',\n",
       " 'ESACCI-SEAICE-L3C-SITHICK-SIRAL_CRYOSAT2-NH25KMEASE2-2010-2017-fv2.0.zarr',\n",
       " 'ESACCI-SEAICE-L4-SICONC-AMSR_50.0kmEASE2-NH-2002-2017-fv2.1.zarr',\n",
       " 'ESACCI-SEALEVEL-IND-MSLTR-MERGED-1993-2016-fv02.zarr',\n",
       " 'ESACCI-SEALEVEL-L4-MSLA-MERGED-1993-2015-fv02.zarr',\n",
       " 'ESACCI-SOILMOISTURE-L3S-SSMV-COMBINED-1978-2020-fv05.3.zarr',\n",
       " 'ESACCI-SOILMOISTURE-L3S-SSMV-COMBINED-1978-2021-fv07.1.zarr']"
      ]
     },
     "execution_count": 6,
     "metadata": {},
     "output_type": "execute_result"
    }
   ],
   "source": [
    "from esa_climate_toolbox.core import list_datasets\n",
    "\n",
    "list_datasets(\"esa-cci-zarr\")"
   ]
  },
  {
   "cell_type": "markdown",
   "id": "3a46223d-ada2-4e7c-8c47-cc0eb59e4141",
   "metadata": {
    "tags": []
   },
   "source": [
    "### Adding your own stores\n",
    "You may also define your own stores. This can come in handy when you want to combine your own data with the data from the toolbox.\n",
    "You may add store to locally hosted data like this:"
   ]
  },
  {
   "cell_type": "code",
   "execution_count": 7,
   "id": "a7824d0c-70e5-4d55-8536-7760e612381c",
   "metadata": {
    "tags": []
   },
   "outputs": [
    {
     "data": {
      "text/plain": [
       "'my_real_local_store'"
      ]
     },
     "execution_count": 7,
     "metadata": {},
     "output_type": "execute_result"
    }
   ],
   "source": [
    "from esa_climate_toolbox.core import add_local_store\n",
    "\n",
    "add_local_store(\n",
    "    root=\"/path/to/my/data/\",\n",
    "    store_id=\"my_real_local_store\",\n",
    "    includes=\"aero*.nc\",\n",
    "    read_only=True,    \n",
    "    persist=False\n",
    ")"
   ]
  },
  {
   "cell_type": "markdown",
   "id": "f9c38aab-852c-4515-9707-62fe13dd7d59",
   "metadata": {},
   "source": [
    "The `root` specifies the path to the data that shall be served by the store. The `store_id` defines by which name the store is registered in the system. With `includes` you can specify a pattern to determine what data shall be served, `read_only` causes that the store does not permit write operations, and if you would set `persist` to true, the store will be saved and available in your next session.\n",
    "Of course, we can always also remove a store. Don't worry, this only deletes the registry entry. No real data is deleted."
   ]
  },
  {
   "cell_type": "code",
   "execution_count": 8,
   "id": "c5f90ef3-7d50-428d-a321-464fb90edde8",
   "metadata": {
    "tags": []
   },
   "outputs": [],
   "source": [
    "from esa_climate_toolbox.core import remove_store\n",
    "\n",
    "remove_store(\"my_real_local_store\")"
   ]
  },
  {
   "cell_type": "markdown",
   "id": "ee2893bf-9047-4436-929d-77af8cccf3cb",
   "metadata": {},
   "source": [
    "### Writing data to stores\n",
    "\n",
    "When you have created a new dataset, you might want to save it somewhere. For that, you can use this command:"
   ]
  },
  {
   "cell_type": "code",
   "execution_count": 9,
   "id": "c810c8de-d6d1-44f7-b87a-7581646c9777",
   "metadata": {
    "tags": []
   },
   "outputs": [],
   "source": [
    "from esa_climate_toolbox.core import write_data\n",
    "\n",
    "# write_data(data, store_id=\"my_real_local_store\")"
   ]
  },
  {
   "cell_type": "markdown",
   "id": "20dbb32a-f70b-4ba9-99f1-01c8d4e483ed",
   "metadata": {},
   "source": [
    "We leave this open for now, as we don't want to actually write data now. Note that to write data, you need to define a store and make sure it is not read_only (see above). If you know you want your output in the same place, you can set a default output store:"
   ]
  },
  {
   "cell_type": "code",
   "execution_count": 10,
   "id": "72580fd6-a5d7-4eed-8af1-5ebbcd258627",
   "metadata": {
    "tags": []
   },
   "outputs": [],
   "source": [
    "from esa_climate_toolbox.core import set_output_store\n",
    "\n",
    "add_local_store(\n",
    "    root=\"/path/to/my/data/\",\n",
    "    store_id=\"my_real_local_store\",\n",
    "    includes=\"aero*.nc\",\n",
    "    read_only=True,    \n",
    "    persist=False\n",
    ")\n",
    "set_output_store(\"my_real_local_store\")"
   ]
  },
  {
   "cell_type": "markdown",
   "id": "751f353a-1e0a-4861-8b51-9c4b23820194",
   "metadata": {},
   "source": [
    "Let's check this is really the output store:"
   ]
  },
  {
   "cell_type": "code",
   "execution_count": 11,
   "id": "c4c46a04-b498-40c9-8a54-38c3bba50a94",
   "metadata": {
    "tags": []
   },
   "outputs": [
    {
     "data": {
      "text/plain": [
       "'my_real_local_store'"
      ]
     },
     "execution_count": 11,
     "metadata": {},
     "output_type": "execute_result"
    }
   ],
   "source": [
    "from esa_climate_toolbox.core import get_output_store_id\n",
    "\n",
    "get_output_store_id()"
   ]
  },
  {
   "cell_type": "markdown",
   "id": "aefdb9b9-b61b-4a92-81d4-9a372e0987ca",
   "metadata": {},
   "source": [
    "Great! You are set to use these functions for making use of the toolbox. See the other notebooks to find out how to open datasets and use operations. Also, see the API for more detailed information on the functions described here: https://esa-climate-toolbox.readthedocs.io/en/latest/api_reference.html#datasets-and-datastores."
   ]
  },
  {
   "cell_type": "code",
   "execution_count": null,
   "id": "15c76d51-c2f8-4392-8043-835423fce76b",
   "metadata": {},
   "outputs": [],
   "source": []
  }
 ],
 "metadata": {
  "kernelspec": {
   "display_name": "Python 3 (ipykernel)",
   "language": "python",
   "name": "python3"
  },
  "language_info": {
   "codemirror_mode": {
    "name": "ipython",
    "version": 3
   },
   "file_extension": ".py",
   "mimetype": "text/x-python",
   "name": "python",
   "nbconvert_exporter": "python",
   "pygments_lexer": "ipython3",
   "version": "3.12.7"
  }
 },
 "nbformat": 4,
 "nbformat_minor": 5
}
